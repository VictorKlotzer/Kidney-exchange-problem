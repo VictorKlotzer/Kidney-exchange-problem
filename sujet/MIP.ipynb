{
 "cells": [
  {
   "cell_type": "markdown",
   "metadata": {},
   "source": [
    "# MIP for KEP"
   ]
  },
  {
   "cell_type": "code",
   "execution_count": 4,
   "metadata": {},
   "outputs": [
    {
     "data": {
      "text/plain": [
       "enum_smallcycles (generic function with 1 method)"
      ]
     },
     "execution_count": 4,
     "metadata": {},
     "output_type": "execute_result"
    }
   ],
   "source": [
    "# Enumerate cycles of length < L in graph G\n",
    "\n",
    "function enum_smallcycles(G, L)\n",
    "    paires = 1:nv(G)\n",
    "    smallcycles = []\n",
    "    function rec_enum(p,c,L)\n",
    "        for q in neighbors(G,p)\n",
    "            if q == c[1]\n",
    "                push!(smallcycles,c)\n",
    "            elseif q < c[1] \n",
    "                continue\n",
    "            elseif q in c\n",
    "                continue\n",
    "            elseif length(c) <= L\n",
    "                ccopy = copy(c)\n",
    "                push!(ccopy,q)\n",
    "                rec_enum(q,ccopy,L)\n",
    "            end \n",
    "        end\n",
    "    end\n",
    "    for p in paires\n",
    "        c = [p]\n",
    "        rec_enum(p,copy(c),L)\n",
    "    end\n",
    "    \n",
    "    # weight for each cycle\n",
    "    wcycles = []\n",
    "    for c in smallcycles \n",
    "        push!(wcycles,get_prop(G,Edge(c[length(c)],c[1]),:weight)+sum(get_prop(G, Edge(c[i],c[i+1]), :weight) for i in 1:(length(c)-1)))\n",
    "    end\n",
    "        \n",
    "    return smallcycles,wcycles\n",
    "end"
   ]
  },
  {
   "cell_type": "code",
   "execution_count": 1,
   "metadata": {},
   "outputs": [
    {
     "ename": "LoadError",
     "evalue": "LoadError: UndefVarError: @variable not defined\nin expression starting at In[1]:8",
     "output_type": "error",
     "traceback": [
      "LoadError: UndefVarError: @variable not defined\nin expression starting at In[1]:8",
      "",
      "Stacktrace:",
      " [1] top-level scope",
      " [2] include_string(::Function, ::Module, ::String, ::String) at .\\loading.jl:1091"
     ]
    }
   ],
   "source": [
    "# solve MIP for graph G with maximal cercle length L\n",
    "\n",
    "function solve_MIP(G, L)\n",
    "    C,Wc = enum_smallcycles(G, L)\n",
    "    \n",
    "    KEP = Model(Gurobi.Optimizer)\n",
    "\n",
    "    @variable(KEP,z[c in 1:length(C)],Bin)\n",
    "    \n",
    "    # Constraint: each pair is chosen at most 1 time\n",
    "    @constraint(KEP,choosecerc[i in 1:nv(G)],sum(z[c] for c in 1:length(C) if i in C[c]) <= 1)\n",
    "\n",
    "    # Objective: Maximise total score\n",
    "    @objective(KEP,Max, sum(Wc[c] *z[c] for c in 1:length(C)))\n",
    "    \n",
    "    optimize!(KEP)\n",
    "\n",
    "    return JuMP.objective_value(KEP),JuMP.value.(z)\n",
    "end"
   ]
  }
 ],
 "metadata": {
  "kernelspec": {
   "display_name": "Julia 1.5.3",
   "language": "julia",
   "name": "julia-1.5"
  },
  "language_info": {
   "file_extension": ".jl",
   "mimetype": "application/julia",
   "name": "julia",
   "version": "1.5.3"
  }
 },
 "nbformat": 4,
 "nbformat_minor": 2
}
