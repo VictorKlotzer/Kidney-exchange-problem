{
 "cells": [
  {
   "cell_type": "markdown",
   "metadata": {},
   "source": [
    "# Read data function"
   ]
  },
  {
   "cell_type": "code",
   "execution_count": null,
   "metadata": {},
   "outputs": [],
   "source": [
    "\"\"\"\n",
    "    kep_pool\n",
    "\n",
    "Contruct a pool from a `.wmd` and a `.dat` files from PrefLib.\n",
    "    \n",
    "# Parameters\n",
    "* `wmd_file::String` : Absolute path of the `.wmd` file.\n",
    "* `dat_file::String` : Absolute path of the `.dat` file.\n",
    "\"\"\"\n",
    "function kep_pool(wmd_file::String, dat_file::String)\n",
    "    \n",
    "    wmd_file_name = split(split(wmd_file, '/')[end], '.')[1]\n",
    "    dat_file_name = split(split(dat_file, '/')[end], '.')[1]\n",
    "\n",
    "    wmd_file_name == dat_file_name || throw(ArgumentError(\".wmd and .dat files do not correspond to the same dataset.\"))\n",
    "    isfile(wmd_file) || throw(ArgumentError(\".wmd file not found.\"))\n",
    "    isfile(dat_file) || throw(ArgumentError(\".dat file not found.\"))\n",
    "\n",
    "    # Extract the graph structure from the .wmd file using a MetaGraph\n",
    "    file = readdlm(wmd_file, '\\n')\n",
    "    V = parse(Int, split(file[1],',')[1])\n",
    "    \n",
    "    # Create a directed metagraph with nodes V and inital edge weights 0 \n",
    "    pool = MetaDiGraph(V, 0)\n",
    "    for line in file[2:end]\n",
    "        splitted_line = split(line, ',')\n",
    "        if length(splitted_line) == 3\n",
    "            # /!\\ Pairs are numbered from 0 in the second part of the file\n",
    "            source = parse(Int, splitted_line[1]) + 1\n",
    "            destination = parse(Int, splitted_line[2]) + 1\n",
    "            weight = parse(Int, splitted_line[3])\n",
    "            # Create an arc with given source and destination\n",
    "            add_edge!(pool, source, destination)\n",
    "            # Set its weight property\n",
    "            set_prop!(pool, source, destination, :weight, weight)\n",
    "        end\n",
    "    end\n",
    "\n",
    "    # SOME INFORMATION THAT CAN BE USEFUL BUT NOT NECESSARY FOR THE PROJECT\n",
    "    # Extract meta information from the .dat file\n",
    "#     file = readdlm(dat_file, '\\n')\n",
    "#     for line in file[2:end]\n",
    "#         splitted_line = split(line, ',')\n",
    "#         pair = parse(Int, splitted_line[1])\n",
    "#         set_prop!(pool, pair, :donor, splitted_line[2])\n",
    "#         set_prop!(pool, pair, :patient, splitted_line[3])\n",
    "#         set_prop!(pool, pair, :wifep, parse(Bool, splitted_line[4]))\n",
    "#         set_prop!(pool, pair, :pra, parse(Float64, splitted_line[5]))\n",
    "#         set_prop!(pool, pair, :altruist, parse(Bool, splitted_line[7]))\n",
    "#     end\n",
    "#     Va = [v for v in vertices(pool) if get_prop(pool, v, :altruist)]\n",
    "#     set_prop!(pool, :nb_altruist, length(Va))\n",
    "\n",
    "    return pool\n",
    "\n",
    "end"
   ]
  },
  {
   "cell_type": "code",
   "execution_count": null,
   "metadata": {},
   "outputs": [],
   "source": [
    "# function read_data(instance::AbstractString)\n",
    "#   data = Data()\n",
    "#   data_folder = string(@__DIR__,\"/../data\")\n",
    "#   wmd_file = joinpath(data_folder, join([instance, \".wmd\"]))\n",
    "#   dat_file = joinpath(data_folder, join([instance, \".dat\"]))\n",
    "#   pool = kep_pool(wmd_file, dat_file)\n",
    "#   println(\"********** Read instance $instance ****************\")\n",
    "#   data.nv = nv(pool)\n",
    "#   data.weights = [get_prop(pool, arc, :weight) for arc in edges(pool)]\n",
    "#   data.edges = collect(edges(pool))\n",
    "\n",
    "#   return pool,data\n",
    "# end"
   ]
  },
  {
   "cell_type": "code",
   "execution_count": null,
   "metadata": {},
   "outputs": [],
   "source": [
    "# dans main\n",
    "# pool,data = read_data(\"MD-00001-00000010\");\n",
    "# println(\"Number of vertices : $(data.nv)\")\n",
    "# println(\"Weights : $(data.weights)\")\n",
    "# for e in data.edges\n",
    "#     println(e)\n",
    "# end "
   ]
  }
 ],
 "metadata": {
  "kernelspec": {
   "display_name": "Julia 1.5.3",
   "language": "julia",
   "name": "julia-1.5"
  },
  "language_info": {
   "file_extension": ".jl",
   "mimetype": "application/julia",
   "name": "julia",
   "version": "1.5.3"
  }
 },
 "nbformat": 4,
 "nbformat_minor": 2
}
