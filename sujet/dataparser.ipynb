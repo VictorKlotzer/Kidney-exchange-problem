{
 "cells": [
  {
   "cell_type": "markdown",
   "metadata": {},
   "source": [
    "# Playing with KEP data"
   ]
  },
  {
   "cell_type": "code",
   "execution_count": 1,
   "metadata": {},
   "outputs": [],
   "source": [
    "using DelimitedFiles\n",
    "using LightGraphs\n",
    "using MetaGraphs"
   ]
  },
  {
   "cell_type": "code",
   "execution_count": 2,
   "metadata": {},
   "outputs": [
    {
     "data": {
      "text/plain": [
       "kep_pool"
      ]
     },
     "execution_count": 2,
     "metadata": {},
     "output_type": "execute_result"
    }
   ],
   "source": [
    "\"\"\"\n",
    "    kep_pool\n",
    "\n",
    "Contruct a pool from a `.wmd` and a `.dat` files from PrefLib.\n",
    "    \n",
    "# Parameters\n",
    "* `wmd_file::String` : Absolute path of the `.wmd` file.\n",
    "* `dat_file::String` : Absolute path of the `.dat` file.\n",
    "\"\"\"\n",
    "function kep_pool(wmd_file::String, dat_file::String)\n",
    "    \n",
    "    wmd_file_name = split(split(wmd_file, '/')[end], '.')[1]\n",
    "    dat_file_name = split(split(dat_file, '/')[end], '.')[1]\n",
    "\n",
    "    wmd_file_name == dat_file_name || throw(ArgumentError(\".wmd and .dat files do not correspond to the same dataset.\"))\n",
    "    isfile(wmd_file) || throw(ArgumentError(\".wmd file not found.\"))\n",
    "    isfile(dat_file) || throw(ArgumentError(\".dat file not found.\"))\n",
    "\n",
    "    # Extract the graph structure from the .wmd file using a MetaGraph\n",
    "    file = readdlm(wmd_file, '\\n')\n",
    "    V = parse(Int, split(file[1],',')[1])\n",
    "    \n",
    "    # Create a directed metagraph with nodes V and inital edge weights 0 \n",
    "    pool = MetaDiGraph(V, 0)\n",
    "    for line in file[2:end]\n",
    "        splitted_line = split(line, ',')\n",
    "        if length(splitted_line) == 3\n",
    "            # /!\\ Pairs are numbered from 0 in the second part of the file\n",
    "            source = parse(Int, splitted_line[1]) + 1\n",
    "            destination = parse(Int, splitted_line[2]) + 1\n",
    "            weight = parse(Int, splitted_line[3])\n",
    "            # Create an arc with given source and destination\n",
    "            add_edge!(pool, source, destination)\n",
    "            # Set its weight property\n",
    "            set_prop!(pool, source, destination, :weight, weight)\n",
    "        end\n",
    "    end\n",
    "\n",
    "    # SOME INFORMATION THAT CAN BE USEFUL BUT NOT NECESSARY FOR THE PROJECT\n",
    "    # Extract meta information from the .dat file\n",
    "#     file = readdlm(dat_file, '\\n')\n",
    "#     for line in file[2:end]\n",
    "#         splitted_line = split(line, ',')\n",
    "#         pair = parse(Int, splitted_line[1])\n",
    "#         set_prop!(pool, pair, :donor, splitted_line[2])\n",
    "#         set_prop!(pool, pair, :patient, splitted_line[3])\n",
    "#         set_prop!(pool, pair, :wifep, parse(Bool, splitted_line[4]))\n",
    "#         set_prop!(pool, pair, :pra, parse(Float64, splitted_line[5]))\n",
    "#         set_prop!(pool, pair, :altruist, parse(Bool, splitted_line[7]))\n",
    "#     end\n",
    "#     Va = [v for v in vertices(pool) if get_prop(pool, v, :altruist)]\n",
    "#     set_prop!(pool, :nb_altruist, length(Va))\n",
    "\n",
    "    return pool\n",
    "\n",
    "end"
   ]
  },
  {
   "cell_type": "code",
   "execution_count": 3,
   "metadata": {},
   "outputs": [
    {
     "ename": "LoadError",
     "evalue": "UndefVarError: readdlm not defined",
     "output_type": "error",
     "traceback": [
      "UndefVarError: readdlm not defined",
      "",
      "Stacktrace:",
      " [1] kep_pool(::String, ::String) at .\\In[2]:20",
      " [2] top-level scope at In[3]:5",
      " [3] include_string(::Function, ::Module, ::String, ::String) at .\\loading.jl:1091"
     ]
    }
   ],
   "source": [
    "data_folder = string(@__DIR__,\"/../data\")\n",
    "instance = \"MD-00001-00000010\"\n",
    "wmd_file = joinpath(data_folder, join([instance, \".wmd\"]))\n",
    "dat_file = joinpath(data_folder, join([instance, \".dat\"]))\n",
    "pool = kep_pool(wmd_file, dat_file)"
   ]
  },
  {
   "cell_type": "code",
   "execution_count": 6,
   "metadata": {},
   "outputs": [
    {
     "data": {
      "text/plain": [
       "\"Number of vertices in the pool is: 16\""
      ]
     },
     "execution_count": 6,
     "metadata": {},
     "output_type": "execute_result"
    }
   ],
   "source": [
    "\"Number of vertices in the pool is: $(nv(pool))\""
   ]
  },
  {
   "cell_type": "code",
   "execution_count": 5,
   "metadata": {},
   "outputs": [
    {
     "data": {
      "text/plain": [
       "\"Number of edges in the pool is: 47\""
      ]
     },
     "execution_count": 5,
     "metadata": {},
     "output_type": "execute_result"
    }
   ],
   "source": [
    "\"Number of edges in the pool is: $(ne(pool))\""
   ]
  },
  {
   "cell_type": "code",
   "execution_count": 6,
   "metadata": {},
   "outputs": [
    {
     "data": {
      "text/plain": [
       "47-element Array{Int64,1}:\n",
       " 1\n",
       " 1\n",
       " 1\n",
       " 1\n",
       " 1\n",
       " 1\n",
       " 1\n",
       " 1\n",
       " 1\n",
       " 1\n",
       " 1\n",
       " 1\n",
       " 1\n",
       " ⋮\n",
       " 1\n",
       " 1\n",
       " 1\n",
       " 1\n",
       " 1\n",
       " 1\n",
       " 1\n",
       " 1\n",
       " 1\n",
       " 1\n",
       " 1\n",
       " 1"
      ]
     },
     "execution_count": 6,
     "metadata": {},
     "output_type": "execute_result"
    }
   ],
   "source": [
    "weights = [get_prop(pool, arc, :weight) for arc in edges(pool)]"
   ]
  },
  {
   "cell_type": "code",
   "execution_count": 50,
   "metadata": {},
   "outputs": [
    {
     "name": "stdout",
     "output_type": "stream",
     "text": [
      "There is an arc going from node 1 to 3. It is: Edge 1 => 3\n",
      "There is an arc going from node 1 to 16. It is: Edge 1 => 16\n",
      "There is an arc going from node 2 to 4. It is: Edge 2 => 4\n",
      "There is an arc going from node 2 to 14. It is: Edge 2 => 14\n",
      "There is an arc going from node 3 to 4. It is: Edge 3 => 4\n",
      "There is an arc going from node 3 to 14. It is: Edge 3 => 14\n",
      "There is an arc going from node 4 to 6. It is: Edge 4 => 6\n",
      "There is an arc going from node 4 to 13. It is: Edge 4 => 13\n",
      "There is an arc going from node 4 to 16. It is: Edge 4 => 16\n",
      "There is an arc going from node 5 to 1. It is: Edge 5 => 1\n",
      "There is an arc going from node 5 to 2. It is: Edge 5 => 2\n",
      "There is an arc going from node 5 to 4. It is: Edge 5 => 4\n",
      "There is an arc going from node 5 to 6. It is: Edge 5 => 6\n",
      "There is an arc going from node 5 to 8. It is: Edge 5 => 8\n",
      "There is an arc going from node 5 to 10. It is: Edge 5 => 10\n",
      "There is an arc going from node 5 to 11. It is: Edge 5 => 11\n",
      "There is an arc going from node 5 to 13. It is: Edge 5 => 13\n",
      "There is an arc going from node 5 to 14. It is: Edge 5 => 14\n",
      "There is an arc going from node 5 to 16. It is: Edge 5 => 16\n",
      "There is an arc going from node 6 to 4. It is: Edge 6 => 4\n",
      "There is an arc going from node 6 to 14. It is: Edge 6 => 14\n",
      "There is an arc going from node 7 to 2. It is: Edge 7 => 2\n",
      "There is an arc going from node 7 to 4. It is: Edge 7 => 4\n",
      "There is an arc going from node 7 to 5. It is: Edge 7 => 5\n",
      "There is an arc going from node 7 to 8. It is: Edge 7 => 8\n",
      "There is an arc going from node 7 to 10. It is: Edge 7 => 10\n",
      "There is an arc going from node 7 to 11. It is: Edge 7 => 11\n",
      "There is an arc going from node 7 to 14. It is: Edge 7 => 14\n",
      "There is an arc going from node 7 to 16. It is: Edge 7 => 16\n",
      "There is an arc going from node 8 to 4. It is: Edge 8 => 4\n",
      "There is an arc going from node 8 to 14. It is: Edge 8 => 14\n",
      "There is an arc going from node 9 to 6. It is: Edge 9 => 6\n",
      "There is an arc going from node 9 to 15. It is: Edge 9 => 15\n",
      "There is an arc going from node 10 to 4. It is: Edge 10 => 4\n",
      "There is an arc going from node 10 to 14. It is: Edge 10 => 14\n",
      "There is an arc going from node 11 to 4. It is: Edge 11 => 4\n",
      "There is an arc going from node 11 to 14. It is: Edge 11 => 14\n",
      "There is an arc going from node 13 to 4. It is: Edge 13 => 4\n",
      "There is an arc going from node 13 to 14. It is: Edge 13 => 14\n",
      "There is an arc going from node 14 to 3. It is: Edge 14 => 3\n",
      "There is an arc going from node 14 to 6. It is: Edge 14 => 6\n",
      "There is an arc going from node 14 to 13. It is: Edge 14 => 13\n",
      "There is an arc going from node 14 to 15. It is: Edge 14 => 15\n",
      "There is an arc going from node 14 to 16. It is: Edge 14 => 16\n",
      "There is an arc going from node 15 to 4. It is: Edge 15 => 4\n",
      "There is an arc going from node 15 to 14. It is: Edge 15 => 14\n",
      "There is an arc going from node 16 to 4. It is: Edge 16 => 4\n"
     ]
    }
   ],
   "source": [
    "for arc in edges(pool)\n",
    "    println(\"There is an arc going from node $(arc.src) to $(arc.dst). It is: \",arc)\n",
    "end"
   ]
  },
  {
   "cell_type": "code",
   "execution_count": 10,
   "metadata": {},
   "outputs": [
    {
     "name": "stdout",
     "output_type": "stream",
     "text": [
      "There is a vertex. It is: 1\n",
      "There is a vertex. It is: 2\n",
      "There is a vertex. It is: 3\n",
      "There is a vertex. It is: 4\n",
      "There is a vertex. It is: 5\n",
      "There is a vertex. It is: 6\n",
      "There is a vertex. It is: 7\n",
      "There is a vertex. It is: 8\n",
      "There is a vertex. It is: 9\n",
      "There is a vertex. It is: 10\n",
      "There is a vertex. It is: 11\n",
      "There is a vertex. It is: 12\n",
      "There is a vertex. It is: 13\n",
      "There is a vertex. It is: 14\n",
      "There is a vertex. It is: 15\n",
      "There is a vertex. It is: 16\n"
     ]
    }
   ],
   "source": [
    "for v in vertices(pool)\n",
    "    println(\"There is a vertex. It is: \",v)\n",
    "end"
   ]
  }
 ],
 "metadata": {
  "kernelspec": {
   "display_name": "Julia 1.5.3",
   "language": "julia",
   "name": "julia-1.5"
  },
  "language_info": {
   "file_extension": ".jl",
   "mimetype": "application/julia",
   "name": "julia",
   "version": "1.5.3"
  }
 },
 "nbformat": 4,
 "nbformat_minor": 2
}
