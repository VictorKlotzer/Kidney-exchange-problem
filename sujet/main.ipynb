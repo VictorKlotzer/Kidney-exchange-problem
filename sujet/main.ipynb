{
 "cells": [
  {
   "cell_type": "markdown",
   "metadata": {},
   "source": [
    "# Remarques :\n",
    "2. branching on node / edge ? node (sub problem)\n",
    "4. first column : artificial (calculate columns et solve BP)"
   ]
  },
  {
   "cell_type": "markdown",
   "metadata": {},
   "source": [
    "# To do :\n",
    "1. bornes dans colonnes génération (ok) et B&Price \n",
    "2. enum_smallcycles length = 2,4... = 3 marche pas, MIP problème?\n",
    "3. global solution line 40 process_node"
   ]
  },
  {
   "cell_type": "code",
   "execution_count": 1,
   "metadata": {},
   "outputs": [
    {
     "name": "stdout",
     "output_type": "stream",
     "text": [
      "Academic license - for non-commercial use only - expires 2021-06-25\r\n"
     ]
    }
   ],
   "source": [
    "using JuMP \n",
    "using Gurobi\n",
    "using DelimitedFiles\n",
    "using NBInclude\n",
    "using GraphPlot \n",
    "using LightGraphs\n",
    "using MetaGraphs\n",
    "const GUROBI_ENV = Gurobi.Env()\n",
    "const ϵ = 0.00001;"
   ]
  },
  {
   "cell_type": "code",
   "execution_count": 152,
   "metadata": {},
   "outputs": [
    {
     "name": "stderr",
     "output_type": "stream",
     "text": [
      "┌ Info: Precompiling Cairo [159f3aea-2a34-519c-b102-8c37f9878175]\n",
      "└ @ Base loading.jl:1278\n"
     ]
    },
    {
     "ename": "LoadError",
     "evalue": "ArgumentError: Package Compose not found in current path:\n- Run `import Pkg; Pkg.add(\"Compose\")` to install the Compose package.\n",
     "output_type": "error",
     "traceback": [
      "ArgumentError: Package Compose not found in current path:\n- Run `import Pkg; Pkg.add(\"Compose\")` to install the Compose package.\n",
      "",
      "Stacktrace:",
      " [1] require(::Module, ::Symbol) at .\\loading.jl:893",
      " [2] include_string(::Function, ::Module, ::String, ::String) at .\\loading.jl:1091"
     ]
    }
   ],
   "source": [
    "# to save graph\n",
    "using Cairo, Compose"
   ]
  },
  {
   "cell_type": "code",
   "execution_count": 6,
   "metadata": {},
   "outputs": [],
   "source": [
    "@nbinclude(\"typedef.ipynb\")\n",
    "@nbinclude(\"data.ipynb\")\n",
    "@nbinclude(\"MIP.ipynb\")\n",
    "@nbinclude(\"master.ipynb\")\n",
    "@nbinclude(\"subproblem.ipynb\")\n",
    "@nbinclude(\"branch_and_price.ipynb\")\n",
    "@nbinclude(\"node.ipynb\");"
   ]
  },
  {
   "cell_type": "markdown",
   "metadata": {},
   "source": [
    "# I - Read data"
   ]
  },
  {
   "cell_type": "code",
   "execution_count": 3,
   "metadata": {},
   "outputs": [],
   "source": [
    "data_folder = string(@__DIR__,\"/../data\")\n",
    "instance = \"MD-00001-00000191\"\n",
    "wmd_file = joinpath(data_folder, join([instance, \".wmd\"]))\n",
    "dat_file = joinpath(data_folder, join([instance, \".dat\"]))\n",
    "global pool = kep_pool(wmd_file, dat_file)\n",
    "global weight = [get_prop(pool, arc, :weight) for arc in edges(pool)]\n",
    "global e = collect(edges(pool))\n",
    "global L = 2;"
   ]
  },
  {
   "cell_type": "code",
   "execution_count": null,
   "metadata": {},
   "outputs": [],
   "source": [
    "gplot(pool,nodelabel = 1:nv(pool))"
   ]
  },
  {
   "cell_type": "code",
   "execution_count": 155,
   "metadata": {},
   "outputs": [],
   "source": [
    "# sauvegarde graph\n",
    "draw(PNG(\"KEP_10.png\", 16cm, 16cm), gplot(pool,nodelabel = 1:nv(pool)))"
   ]
  },
  {
   "cell_type": "markdown",
   "metadata": {},
   "source": [
    "# II - Solve by MIP\n",
    "Implement and solve an integer programming model for KEP: (**formualtion to change**)\n",
    "\\begin{align*}\n",
    "\\min\\;\\;\\; &\\sum_{i\\in N}\\sum_{j\\in M} p_{ij} x_{ij}\\\\\n",
    "\\mbox{s.t.}\\;\\;\\; \t&\\sum_{j\\in M} x_{ij}=1 &\\forall i\\in N\\\\\n",
    "&\\sum_{i\\in N} t_{ij}x_{ij} \\leq t^{\\rm max}_{j} &\\forall j\\in M\\\\\n",
    "&x\\in \\{0,1\\}^{N\\times M}.\n",
    "\\end{align*}\n"
   ]
  },
  {
   "cell_type": "code",
   "execution_count": 4,
   "metadata": {},
   "outputs": [
    {
     "name": "stdout",
     "output_type": "stream",
     "text": [
      "Academic license - for non-commercial use only - expires 2021-06-25\r\n",
      "Gurobi Optimizer version 9.1.1 build v9.1.1rc0 (win64)\r\n",
      "Thread count: 4 physical cores, 8 logical processors, using up to 8 threads\r\n",
      "Optimize a model with 512 rows, 555738 columns and 1659218 nonzeros\r\n",
      "Model fingerprint: 0x50731169\r\n",
      "Variable types: 0 continuous, 555738 integer (555738 binary)\r\n",
      "Coefficient statistics:\r\n",
      "  Matrix range     [1e+00, 1e+00]\r\n",
      "  Objective range  [2e+00, 3e+00]\r\n",
      "  Bounds range     [0e+00, 0e+00]\r\n",
      "  RHS range        [1e+00, 1e+00]\r\n",
      "Found heuristic solution: objective 321.0000000\r\n",
      "Presolve removed 3 rows and 30948 columns (presolve time = 7s) ...\r\n",
      "Presolve removed 3 rows and 30948 columns\r\n",
      "Presolve time: 6.96s\r\n",
      "Presolved: 509 rows, 524790 columns, 1566366 nonzeros\r\n",
      "Found heuristic solution: objective 322.0000000\r\n",
      "Variable types: 0 continuous, 524790 integer (524790 binary)\r\n",
      "\r\n",
      "Root simplex log...\r\n",
      "\r\n",
      "Iteration    Objective       Primal Inf.    Dual Inf.      Time\r\n",
      "       0    1.4708000e+04   1.416700e+04   0.000000e+00      9s\r\n",
      "\r\n",
      "Starting sifting (using dual simplex for sub-problems)...\r\n",
      "\r\n",
      "    Iter     Pivots    Primal Obj      Dual Obj        Time\r\n",
      "       0          0     infinity     -1.4708000e+04     10s\r\n",
      "       1        508   1.3243987e+10  -1.4662923e+03     10s\r\n",
      "       2       1729  -2.8325253e+02  -9.3852488e+02     10s\r\n",
      "       3       2973  -3.1486663e+02  -7.7060173e+02     10s\r\n",
      "       4       4183  -3.2789719e+02  -6.7215562e+02     10s\r\n",
      "       5       5423  -3.3701018e+02  -6.1663333e+02     10s\r\n",
      "       6       6647  -3.4096013e+02  -5.8664125e+02     11s\r\n",
      "       7       7822  -3.4096013e+02  -5.3573644e+02     11s\r\n",
      "       8       9152  -3.4596134e+02  -5.0556953e+02     11s\r\n",
      "       9      10582  -3.4671032e+02  -4.8713895e+02     11s\r\n",
      "      10      12012  -3.4996191e+02  -4.6657827e+02     11s\r\n",
      "      11      13467  -3.5096226e+02  -4.4617231e+02     11s\r\n",
      "      12      15179  -3.5096226e+02  -3.5157229e+02     12s\r\n",
      "      13      16818  -3.5096766e+02  -3.5114424e+02     12s\r\n",
      "      14      18583  -3.5096954e+02  -3.5099079e+02     12s\r\n",
      "      15      20407  -3.5097007e+02  -3.5097374e+02     12s\r\n",
      "\r\n",
      "Sifting complete\r\n",
      "\r\n",
      "   21576    3.5100000e+02   0.000000e+00   0.000000e+00     13s\r\n",
      "\r\n",
      "Root relaxation: objective 3.510000e+02, 21576 iterations, 3.28 seconds\r\n",
      "\r\n",
      "    Nodes    |    Current Node    |     Objective Bounds      |     Work\r\n",
      " Expl Unexpl |  Obj  Depth IntInf | Incumbent    BestBd   Gap | It/Node Time\r\n",
      "\r\n",
      "*    0     0               0     351.0000000  351.00000  0.00%     -   20s\r\n",
      "\r\n",
      "Explored 0 nodes (23461 simplex iterations) in 21.03 seconds\r\n",
      "Thread count was 8 (of 8 available processors)\r\n",
      "\r\n",
      "Solution count 3: 351 322 321 \r\n",
      "\r\n",
      "Optimal solution found (tolerance 1.00e-04)\r\n",
      "Best objective 3.510000000000e+02, best bound 3.510000000000e+02, gap 0.0000%\r\n",
      "\r\n",
      "User-callback calls 325, time in user-callback 0.02 sec\r\n"
     ]
    },
    {
     "data": {
      "text/plain": [
       "(value = (351.0, [-0.0, -0.0, -0.0, -0.0, -0.0, -0.0, -0.0, -0.0, -0.0, -0.0  …  -0.0, -0.0, -0.0, -0.0, -0.0, -0.0, -0.0, -0.0, -0.0, -0.0]), time = 103.516315901, bytes = 4756488129, gctime = 2.954328193, gcstats = Base.GC_Diff(4756488129, 1858, 31, 69427741, 12299, 0, 2954328193, 37, 3))"
      ]
     },
     "execution_count": 4,
     "metadata": {},
     "output_type": "execute_result"
    }
   ],
   "source": [
    "result = @timed solve_MIP(pool,L)"
   ]
  },
  {
   "cell_type": "code",
   "execution_count": 29,
   "metadata": {},
   "outputs": [
    {
     "data": {
      "text/plain": [
       "(Any[[1, 6], [1, 6, 3, 8], [3, 8]], Any[2, 4, 2])"
      ]
     },
     "execution_count": 29,
     "metadata": {},
     "output_type": "execute_result"
    }
   ],
   "source": [
    "enum_smallcycles(pool,3)"
   ]
  },
  {
   "cell_type": "code",
   "execution_count": 21,
   "metadata": {},
   "outputs": [
    {
     "name": "stdout",
     "output_type": "stream",
     "text": [
      "There is an arc going from node 1 to 3. It is: Edge 1 => 3\n",
      "There is an arc going from node 1 to 16. It is: Edge 1 => 16\n",
      "There is an arc going from node 2 to 4. It is: Edge 2 => 4\n",
      "There is an arc going from node 2 to 14. It is: Edge 2 => 14\n",
      "There is an arc going from node 3 to 4. It is: Edge 3 => 4\n",
      "There is an arc going from node 3 to 14. It is: Edge 3 => 14\n",
      "There is an arc going from node 4 to 6. It is: Edge 4 => 6\n",
      "There is an arc going from node 4 to 13. It is: Edge 4 => 13\n",
      "There is an arc going from node 4 to 16. It is: Edge 4 => 16\n",
      "There is an arc going from node 5 to 1. It is: Edge 5 => 1\n",
      "There is an arc going from node 5 to 2. It is: Edge 5 => 2\n",
      "There is an arc going from node 5 to 4. It is: Edge 5 => 4\n",
      "There is an arc going from node 5 to 6. It is: Edge 5 => 6\n",
      "There is an arc going from node 5 to 8. It is: Edge 5 => 8\n",
      "There is an arc going from node 5 to 10. It is: Edge 5 => 10\n",
      "There is an arc going from node 5 to 11. It is: Edge 5 => 11\n",
      "There is an arc going from node 5 to 13. It is: Edge 5 => 13\n",
      "There is an arc going from node 5 to 14. It is: Edge 5 => 14\n",
      "There is an arc going from node 5 to 16. It is: Edge 5 => 16\n",
      "There is an arc going from node 6 to 4. It is: Edge 6 => 4\n",
      "There is an arc going from node 6 to 14. It is: Edge 6 => 14\n",
      "There is an arc going from node 7 to 2. It is: Edge 7 => 2\n",
      "There is an arc going from node 7 to 4. It is: Edge 7 => 4\n",
      "There is an arc going from node 7 to 5. It is: Edge 7 => 5\n",
      "There is an arc going from node 7 to 8. It is: Edge 7 => 8\n",
      "There is an arc going from node 7 to 10. It is: Edge 7 => 10\n",
      "There is an arc going from node 7 to 11. It is: Edge 7 => 11\n",
      "There is an arc going from node 7 to 14. It is: Edge 7 => 14\n",
      "There is an arc going from node 7 to 16. It is: Edge 7 => 16\n",
      "There is an arc going from node 8 to 4. It is: Edge 8 => 4\n",
      "There is an arc going from node 8 to 14. It is: Edge 8 => 14\n",
      "There is an arc going from node 9 to 6. It is: Edge 9 => 6\n",
      "There is an arc going from node 9 to 15. It is: Edge 9 => 15\n",
      "There is an arc going from node 10 to 4. It is: Edge 10 => 4\n",
      "There is an arc going from node 10 to 14. It is: Edge 10 => 14\n",
      "There is an arc going from node 11 to 4. It is: Edge 11 => 4\n",
      "There is an arc going from node 11 to 14. It is: Edge 11 => 14\n",
      "There is an arc going from node 13 to 4. It is: Edge 13 => 4\n",
      "There is an arc going from node 13 to 14. It is: Edge 13 => 14\n",
      "There is an arc going from node 14 to 3. It is: Edge 14 => 3\n",
      "There is an arc going from node 14 to 6. It is: Edge 14 => 6\n",
      "There is an arc going from node 14 to 13. It is: Edge 14 => 13\n",
      "There is an arc going from node 14 to 15. It is: Edge 14 => 15\n",
      "There is an arc going from node 14 to 16. It is: Edge 14 => 16\n",
      "There is an arc going from node 15 to 4. It is: Edge 15 => 4\n",
      "There is an arc going from node 15 to 14. It is: Edge 15 => 14\n",
      "There is an arc going from node 16 to 4. It is: Edge 16 => 4\n"
     ]
    }
   ],
   "source": [
    "for arc in edges(pool)\n",
    "    println(\"There is an arc going from node $(arc.src) to $(arc.dst). It is: \",arc)\n",
    "end"
   ]
  },
  {
   "cell_type": "markdown",
   "metadata": {},
   "source": [
    "# III - B&Price"
   ]
  },
  {
   "cell_type": "code",
   "execution_count": null,
   "metadata": {},
   "outputs": [
    {
     "name": "stdout",
     "output_type": "stream",
     "text": [
      "Current list of nodes to be processed:[1]\n",
      "\u001b[93m Processing node 1 \u001b[00m\n",
      "Variables set to zero are:Tuple[]\n",
      "Variables set to one are:Tuple[]\n",
      "\u001b[32m Feasible solution with value 1.0 found \u001b[00m\n",
      "\u001b[34m Pattern with items [1, 500] added \u001b[00m\n",
      "\u001b[32m Feasible solution with value 2.0 found \u001b[00m\n",
      "\u001b[34m Pattern with items [141, 502] added \u001b[00m\n",
      "\u001b[32m Feasible solution with value 4.0 found \u001b[00m\n",
      "\u001b[34m Pattern with items [141, 502] added \u001b[00m\n",
      "\u001b[32m Feasible solution with value 4.0 found \u001b[00m\n",
      "\u001b[34m Pattern with items [500, 512] added \u001b[00m\n",
      "\u001b[32m Feasible solution with value 4.0 found \u001b[00m\n",
      "\u001b[34m Pattern with items [502, 510] added \u001b[00m\n",
      "\u001b[32m Feasible solution with value 4.0 found \u001b[00m\n",
      "\u001b[34m Pattern with items [252, 481] added \u001b[00m\n",
      "\u001b[32m Feasible solution with value 6.0 found \u001b[00m\n",
      "\u001b[34m Pattern with items [252, 481] added \u001b[00m\n",
      "\u001b[32m Feasible solution with value 6.0 found \u001b[00m\n",
      "\u001b[34m Pattern with items [503, 511] added \u001b[00m\n",
      "\u001b[32m Feasible solution with value 8.0 found \u001b[00m\n",
      "\u001b[34m Pattern with items [503, 511] added \u001b[00m\n",
      "\u001b[32m Feasible solution with value 8.0 found \u001b[00m\n",
      "\u001b[34m Pattern with items [243, 481] added \u001b[00m\n",
      "\u001b[32m Feasible solution with value 8.0 found \u001b[00m\n",
      "\u001b[34m Pattern with items [37, 509] added \u001b[00m\n",
      "\u001b[32m Feasible solution with value 10.0 found \u001b[00m\n",
      "\u001b[34m Pattern with items [37, 509] added \u001b[00m\n",
      "\u001b[32m Feasible solution with value 10.0 found \u001b[00m\n",
      "\u001b[34m Pattern with items [456, 512] added \u001b[00m\n",
      "\u001b[32m Feasible solution with value 12.0 found \u001b[00m\n",
      "\u001b[34m Pattern with items [456, 512] added \u001b[00m\n",
      "\u001b[32m Feasible solution with value 12.0 found \u001b[00m\n",
      "\u001b[34m Pattern with items [443, 456] added \u001b[00m\n",
      "\u001b[32m Feasible solution with value 12.0 found \u001b[00m\n",
      "\u001b[34m Pattern with items [465, 512] added \u001b[00m\n",
      "\u001b[32m Feasible solution with value 14.0 found \u001b[00m\n",
      "\u001b[34m Pattern with items [465, 512] added \u001b[00m\n",
      "\u001b[32m Feasible solution with value 14.0 found \u001b[00m\n",
      "\u001b[34m Pattern with items [431, 509] added \u001b[00m\n",
      "\u001b[32m Feasible solution with value 14.0 found \u001b[00m\n",
      "\u001b[34m Pattern with items [157, 426] added \u001b[00m\n",
      "\u001b[32m Feasible solution with value 16.0 found \u001b[00m\n",
      "\u001b[34m Pattern with items [157, 426] added \u001b[00m\n",
      "\u001b[32m Feasible solution with value 16.0 found \u001b[00m\n",
      "\u001b[34m Pattern with items [184, 426] added \u001b[00m\n",
      "\u001b[32m Feasible solution with value 16.0 found \u001b[00m\n",
      "\u001b[34m Pattern with items [356, 512] added \u001b[00m\n",
      "\u001b[32m Feasible solution with value 16.0 found \u001b[00m\n",
      "\u001b[34m Pattern with items [386, 456] added \u001b[00m\n",
      "\u001b[32m Feasible solution with value 16.0 found \u001b[00m\n",
      "\u001b[34m Pattern with items [44, 438] added \u001b[00m\n",
      "\u001b[32m Feasible solution with value 18.0 found \u001b[00m\n",
      "\u001b[34m Pattern with items [44, 438] added \u001b[00m\n",
      "\u001b[32m Feasible solution with value 18.0 found \u001b[00m\n",
      "\u001b[34m Pattern with items [160, 465] added \u001b[00m\n",
      "\u001b[32m Feasible solution with value 20.0 found \u001b[00m\n",
      "\u001b[34m Pattern with items [160, 465] added \u001b[00m\n",
      "\u001b[32m Feasible solution with value 20.0 found \u001b[00m\n",
      "\u001b[34m Pattern with items [80, 465] added \u001b[00m\n",
      "\u001b[32m Feasible solution with value 20.0 found \u001b[00m\n",
      "\u001b[34m Pattern with items [356, 512] added \u001b[00m\n",
      "\u001b[32m Feasible solution with value 20.0 found \u001b[00m\n",
      "\u001b[34m Pattern with items [341, 512] added \u001b[00m\n",
      "\u001b[32m Feasible solution with value 20.0 found \u001b[00m\n",
      "\u001b[34m Pattern with items [1, 356] added \u001b[00m\n",
      "\u001b[32m Feasible solution with value 20.0 found \u001b[00m"
     ]
    }
   ],
   "source": [
    "result = @timed solve_BP()"
   ]
  },
  {
   "cell_type": "code",
   "execution_count": 28,
   "metadata": {},
   "outputs": [
    {
     "data": {
      "text/plain": [
       "3-element Array{Any,1}:\n",
       " 0.0\n",
       " 0.0\n",
       " 1.0"
      ]
     },
     "execution_count": 28,
     "metadata": {},
     "output_type": "execute_result"
    }
   ],
   "source": [
    "solution"
   ]
  },
  {
   "cell_type": "markdown",
   "metadata": {},
   "source": [
    "## Problèmes"
   ]
  },
  {
   "cell_type": "markdown",
   "metadata": {},
   "source": [
    "π négative ?--> prendre valeur abs     \n",
    "1 3 6 8 ajoutés +s fois par sous problème ? Pb de code / article 1 section 5.2.3  \n",
    "solution toujour entière par génération de colonne ?   \n",
    "UB = 4?       "
   ]
  },
  {
   "cell_type": "markdown",
   "metadata": {},
   "source": [
    "# Brouillon pour débeuger"
   ]
  },
  {
   "cell_type": "code",
   "execution_count": 79,
   "metadata": {},
   "outputs": [
    {
     "data": {
      "text/plain": [
       "16-element Array{Float64,1}:\n",
       " 1.0\n",
       " 1.0\n",
       " 1.0\n",
       " 1.0\n",
       " 1.0\n",
       " 1.0\n",
       " 1.0\n",
       " 1.0\n",
       " 1.0\n",
       " 1.0\n",
       " 1.0\n",
       " 1.0\n",
       " 1.0\n",
       " 1.0\n",
       " 1.0\n",
       " 1.0"
      ]
     },
     "execution_count": 79,
     "metadata": {},
     "output_type": "execute_result"
    }
   ],
   "source": [
    "calculate_ysol(solution,node_pool)"
   ]
  },
  {
   "cell_type": "markdown",
   "metadata": {},
   "source": [
    "# A la main"
   ]
  },
  {
   "cell_type": "code",
   "execution_count": 193,
   "metadata": {},
   "outputs": [
    {
     "data": {
      "text/plain": [
       "1-element Array{Int64,1}:\n",
       " 1"
      ]
     },
     "execution_count": 193,
     "metadata": {},
     "output_type": "execute_result"
    }
   ],
   "source": [
    "global column_pool = Array{Array{Int,1},1}()\n",
    "# this is a 2-dimensional array\n",
    "# column_pool[i] is a pattern  (1-dimensional array = vector)\n",
    "# pattern vectors are  such that:\n",
    "#   -the first element is the objective value contribution\n",
    "#   -the second to n+1 st elements are 1 or 0 depending on whether nth pair is included in the pattern or not\n",
    "\n",
    "\n",
    "push!(column_pool,vcat(2,[0,0,0,0,0,0,0,0,0,0,0,0,0,1,1,0])) # push an artificial pattern \n",
    "#push!(column_pool,zeros(Int,nv(pool)+1))    # push an empty pattern \n",
    "push!(column_pool,vcat(2,[0,0,1,0,0,0,0,0,0,0,0,0,0,1,0,0]))\n",
    "\n",
    "\n",
    "# set the global lower and upper bound to +,- infinity\n",
    "global UB = Inf  # If we have a heuristic solution its value can be used   \n",
    "global LB = -Inf # If we have an initial relaxation bound it can be used \n",
    "\n",
    "global Queue = Vector{Int}() # the Queue of nodes to process is an array of integers\n",
    "global tree = Vector{TreeNode}() # the branch and price tree is an array of TreeNode objects\n",
    "\n",
    "# the branch and price tree is initialized with the root node\n",
    "# the root node is its own parent, it has no children (at the moment), its LB is -infinity, \n",
    "# there are no variables set to 0 or 1 at the root node\n",
    "push!(tree,TreeNode(0,[],Inf,[],[]))   \n",
    "push!(Queue,1)  # the indices of nodes to be processed are pushed to the Queue\n"
   ]
  },
  {
   "cell_type": "code",
   "execution_count": 194,
   "metadata": {},
   "outputs": [
    {
     "data": {
      "text/plain": [
       "1"
      ]
     },
     "execution_count": 194,
     "metadata": {},
     "output_type": "execute_result"
    }
   ],
   "source": [
    "current = Queue[end]"
   ]
  },
  {
   "cell_type": "markdown",
   "metadata": {},
   "source": [
    "## génération de colonne"
   ]
  },
  {
   "cell_type": "code",
   "execution_count": 195,
   "metadata": {},
   "outputs": [
    {
     "data": {
      "text/plain": [
       "2-element Array{Array{Int64,1},1}:\n",
       " [2, 0, 0, 0, 0, 0, 0, 0, 0, 0, 0, 0, 0, 0, 1, 1, 0]\n",
       " [2, 0, 0, 1, 0, 0, 0, 0, 0, 0, 0, 0, 0, 0, 1, 0, 0]"
      ]
     },
     "execution_count": 195,
     "metadata": {},
     "output_type": "execute_result"
    }
   ],
   "source": [
    "\n",
    "global nodestobedeleted = []\n",
    "    \n",
    "# Calculate columns that are compatible with the branching constraints\n",
    "# Function calculate_columns TO COMPLETE (see above)\n",
    "node_pool = calculate_columns(1)"
   ]
  },
  {
   "cell_type": "code",
   "execution_count": 196,
   "metadata": {},
   "outputs": [
    {
     "data": {
      "text/plain": [
       "(ConstraintRef{Model,MathOptInterface.ConstraintIndex{MathOptInterface.ScalarAffineFunction{Float64},MathOptInterface.LessThan{Float64}},ScalarShape}[choosecerc[1] : 0 <= 1.0, choosecerc[2] : 0 <= 1.0, choosecerc[3] : z_2 <= 1.0, choosecerc[4] : 0 <= 1.0, choosecerc[5] : 0 <= 1.0, choosecerc[6] : 0 <= 1.0, choosecerc[7] : 0 <= 1.0, choosecerc[8] : 0 <= 1.0, choosecerc[9] : 0 <= 1.0, choosecerc[10] : 0 <= 1.0, choosecerc[11] : 0 <= 1.0, choosecerc[12] : 0 <= 1.0, choosecerc[13] : 0 <= 1.0, choosecerc[14] : z_1 + z_2 <= 1.0, choosecerc[15] : z_1 <= 1.0, choosecerc[16] : 0 <= 1.0], VariableRef[z_1, z_2], A JuMP Model\n",
       "Maximization problem with:\n",
       "Variables: 2\n",
       "Objective function type: GenericAffExpr{Float64,VariableRef}\n",
       "`GenericAffExpr{Float64,VariableRef}`-in-`MathOptInterface.LessThan{Float64}`: 16 constraints\n",
       "`VariableRef`-in-`MathOptInterface.GreaterThan{Float64}`: 2 constraints\n",
       "`VariableRef`-in-`MathOptInterface.LessThan{Float64}`: 2 constraints\n",
       "Model mode: AUTOMATIC\n",
       "CachingOptimizer state: EMPTY_OPTIMIZER\n",
       "Solver name: Gurobi\n",
       "Names registered in the model: choosecerc)"
      ]
     },
     "execution_count": 196,
     "metadata": {},
     "output_type": "execute_result"
    }
   ],
   "source": [
    "choosecerc,z,mastermodel = node_master(node_pool)"
   ]
  },
  {
   "cell_type": "code",
   "execution_count": 232,
   "metadata": {},
   "outputs": [
    {
     "data": {
      "text/latex": [
       "$$ \\begin{alignat*}{1}\\max\\quad & 2 z\\_1 + 2 z\\_2 + 2 z\\_3\\\\\n",
       "\\text{Subject to} \\quad & 0 \\leq 1.0\\\\\n",
       " & 0 \\leq 1.0\\\\\n",
       " & z\\_2 \\leq 1.0\\\\\n",
       " & z\\_3 \\leq 1.0\\\\\n",
       " & 0 \\leq 1.0\\\\\n",
       " & 0 \\leq 1.0\\\\\n",
       " & 0 \\leq 1.0\\\\\n",
       " & 0 \\leq 1.0\\\\\n",
       " & 0 \\leq 1.0\\\\\n",
       " & 0 \\leq 1.0\\\\\n",
       " & 0 \\leq 1.0\\\\\n",
       " & 0 \\leq 1.0\\\\\n",
       " & 0 \\leq 1.0\\\\\n",
       " & z\\_1 + z\\_2 \\leq 1.0\\\\\n",
       " & z\\_1 \\leq 1.0\\\\\n",
       " & z\\_3 \\leq 1.0\\\\\n",
       " & z\\_1 \\geq 0.0\\\\\n",
       " & z\\_2 \\geq 0.0\\\\\n",
       " & z\\_3 \\geq 0.0\\\\\n",
       " & z\\_1 \\leq 1.0\\\\\n",
       " & z\\_2 \\leq 1.0\\\\\n",
       " & z\\_3 \\leq 1.0\\\\\n",
       "\\end{alignat*}\n",
       " $$"
      ],
      "text/plain": [
       "A JuMP Model\n",
       "Maximization problem with:\n",
       "Variables: 3\n",
       "Objective function type: GenericAffExpr{Float64,VariableRef}\n",
       "`GenericAffExpr{Float64,VariableRef}`-in-`MathOptInterface.LessThan{Float64}`: 16 constraints\n",
       "`VariableRef`-in-`MathOptInterface.GreaterThan{Float64}`: 3 constraints\n",
       "`VariableRef`-in-`MathOptInterface.LessThan{Float64}`: 3 constraints\n",
       "Model mode: AUTOMATIC\n",
       "CachingOptimizer state: ATTACHED_OPTIMIZER\n",
       "Solver name: Gurobi\n",
       "Names registered in the model: choosecerc"
      ]
     },
     "execution_count": 232,
     "metadata": {},
     "output_type": "execute_result"
    }
   ],
   "source": [
    "mastermodel"
   ]
  },
  {
   "cell_type": "code",
   "execution_count": 233,
   "metadata": {},
   "outputs": [
    {
     "data": {
      "text/plain": [
       "16-element Array{ConstraintRef{Model,MathOptInterface.ConstraintIndex{MathOptInterface.ScalarAffineFunction{Float64},MathOptInterface.LessThan{Float64}},ScalarShape},1}:\n",
       " choosecerc[1] : 0 <= 1.0\n",
       " choosecerc[2] : 0 <= 1.0\n",
       " choosecerc[3] : z_2 <= 1.0\n",
       " choosecerc[4] : z_3 <= 1.0\n",
       " choosecerc[5] : 0 <= 1.0\n",
       " choosecerc[6] : 0 <= 1.0\n",
       " choosecerc[7] : 0 <= 1.0\n",
       " choosecerc[8] : 0 <= 1.0\n",
       " choosecerc[9] : 0 <= 1.0\n",
       " choosecerc[10] : 0 <= 1.0\n",
       " choosecerc[11] : 0 <= 1.0\n",
       " choosecerc[12] : 0 <= 1.0\n",
       " choosecerc[13] : 0 <= 1.0\n",
       " choosecerc[14] : z_1 + z_2 <= 1.0\n",
       " choosecerc[15] : z_1 <= 1.0\n",
       " choosecerc[16] : z_3 <= 1.0"
      ]
     },
     "execution_count": 233,
     "metadata": {},
     "output_type": "execute_result"
    }
   ],
   "source": [
    "choosecerc"
   ]
  },
  {
   "cell_type": "code",
   "execution_count": 234,
   "metadata": {},
   "outputs": [],
   "source": [
    "optimize!(mastermodel)"
   ]
  },
  {
   "cell_type": "code",
   "execution_count": 235,
   "metadata": {},
   "outputs": [
    {
     "data": {
      "text/plain": [
       "16-element Array{Float64,1}:\n",
       " -0.0\n",
       " -0.0\n",
       " -0.0\n",
       " -0.0\n",
       " -0.0\n",
       " -0.0\n",
       " -0.0\n",
       " -0.0\n",
       " -0.0\n",
       " -0.0\n",
       " -0.0\n",
       " -0.0\n",
       " -0.0\n",
       " -2.0\n",
       " -0.0\n",
       " -0.0"
      ]
     },
     "execution_count": 235,
     "metadata": {},
     "output_type": "execute_result"
    }
   ],
   "source": [
    "π = JuMP.dual.(choosecerc)"
   ]
  },
  {
   "cell_type": "code",
   "execution_count": 221,
   "metadata": {},
   "outputs": [],
   "source": [
    "for i in 1:length(π)\n",
    "    π[i]=abs(π[i])\n",
    "\n",
    "end"
   ]
  },
  {
   "cell_type": "code",
   "execution_count": 222,
   "metadata": {},
   "outputs": [
    {
     "data": {
      "text/plain": [
       "4.0"
      ]
     },
     "execution_count": 222,
     "metadata": {},
     "output_type": "execute_result"
    }
   ],
   "source": [
    "value = JuMP.objective_value(mastermodel)"
   ]
  },
  {
   "cell_type": "code",
   "execution_count": 223,
   "metadata": {},
   "outputs": [
    {
     "data": {
      "text/plain": [
       "4.0"
      ]
     },
     "execution_count": 223,
     "metadata": {},
     "output_type": "execute_result"
    }
   ],
   "source": [
    "JuMP.dual_objective_value(mastermodel)"
   ]
  },
  {
   "cell_type": "code",
   "execution_count": 224,
   "metadata": {},
   "outputs": [
    {
     "data": {
      "text/plain": [
       "3-element Array{Float64,1}:\n",
       " 0.0\n",
       " 1.0\n",
       " 1.0"
      ]
     },
     "execution_count": 224,
     "metadata": {},
     "output_type": "execute_result"
    }
   ],
   "source": [
    "solution=[]\n",
    "for m in 1:length(z)\n",
    "    push!(solution,JuMP.value.(z[m]))\n",
    "end\n",
    "solflat = collect(Iterators.flatten(solution))"
   ]
  },
  {
   "cell_type": "code",
   "execution_count": 225,
   "metadata": {},
   "outputs": [
    {
     "data": {
      "text/plain": [
       "4.0"
      ]
     },
     "execution_count": 225,
     "metadata": {},
     "output_type": "execute_result"
    }
   ],
   "source": [
    "nodeub = sum(π[i] for i in 1:nv(pool))\n",
    "nodelb = value"
   ]
  },
  {
   "cell_type": "code",
   "execution_count": 226,
   "metadata": {},
   "outputs": [
    {
     "data": {
      "text/plain": [
       "0"
      ]
     },
     "execution_count": 226,
     "metadata": {},
     "output_type": "execute_result"
    }
   ],
   "source": [
    "maxobj = 0\n"
   ]
  },
  {
   "cell_type": "code",
   "execution_count": 227,
   "metadata": {},
   "outputs": [
    {
     "data": {
      "text/plain": [
       "(2.0, [0.0, 0.0, 0.0, 1.0, 0.0, 0.0, 0.0, 0.0, -0.0, 0.0, 0.0, 0.0, 0.0, 0.0, 0.0, 1.0], [0.0, 0.0, -0.0, -0.0, 0.0, 0.0, 0.0, -0.0, 1.0, 0.0  …  -0.0, -0.0, 0.0, -0.0, -0.0, 0.0, 0.0, -0.0, -0.0, 1.0])"
      ]
     },
     "execution_count": 227,
     "metadata": {},
     "output_type": "execute_result"
    }
   ],
   "source": [
    "SPobj,column,x = kep_subproblem(π,1)"
   ]
  },
  {
   "cell_type": "code",
   "execution_count": 228,
   "metadata": {},
   "outputs": [
    {
     "data": {
      "text/plain": [
       "2.0"
      ]
     },
     "execution_count": 228,
     "metadata": {},
     "output_type": "execute_result"
    }
   ],
   "source": [
    "rc = SPobj"
   ]
  },
  {
   "cell_type": "code",
   "execution_count": 229,
   "metadata": {},
   "outputs": [
    {
     "data": {
      "text/plain": [
       "2.0"
      ]
     },
     "execution_count": 229,
     "metadata": {},
     "output_type": "execute_result"
    }
   ],
   "source": [
    "if rc>=maxobj maxobj=rc end"
   ]
  },
  {
   "cell_type": "code",
   "execution_count": 230,
   "metadata": {},
   "outputs": [
    {
     "data": {
      "text/plain": [
       "2.0"
      ]
     },
     "execution_count": 230,
     "metadata": {},
     "output_type": "execute_result"
    }
   ],
   "source": [
    "column_cost = sum(weight .* x)"
   ]
  },
  {
   "cell_type": "code",
   "execution_count": 231,
   "metadata": {},
   "outputs": [
    {
     "data": {
      "text/plain": [
       "4-element Array{Array{Int64,1},1}:\n",
       " [2, 0, 0, 0, 0, 0, 0, 0, 0, 0, 0, 0, 0, 0, 1, 1, 0]\n",
       " [2, 0, 0, 1, 0, 0, 0, 0, 0, 0, 0, 0, 0, 0, 1, 0, 0]\n",
       " [2, 0, 0, 0, 1, 0, 0, 0, 0, 0, 0, 0, 0, 0, 0, 0, 1]\n",
       " [2, 0, 0, 0, 1, 0, 0, 0, 0, 0, 0, 0, 0, 0, 0, 0, 1]"
      ]
     },
     "execution_count": 231,
     "metadata": {},
     "output_type": "execute_result"
    }
   ],
   "source": [
    "push!(column_pool,vcat(column_cost,column))\n",
    "# Store column in the node pool\n",
    "push!(node_pool,vcat(column_cost,column))\n"
   ]
  },
  {
   "cell_type": "code",
   "execution_count": 236,
   "metadata": {},
   "outputs": [
    {
     "data": {
      "text/plain": [
       "4-element Array{VariableRef,1}:\n",
       " z_1\n",
       " z_2\n",
       " z_3\n",
       " noname"
      ]
     },
     "execution_count": 236,
     "metadata": {},
     "output_type": "execute_result"
    }
   ],
   "source": [
    "push!(z,@variable(mastermodel,lower_bound=0,upper_bound=1))"
   ]
  },
  {
   "cell_type": "code",
   "execution_count": 237,
   "metadata": {},
   "outputs": [],
   "source": [
    "set_name(z[end], \"z_$(length(node_pool))\")"
   ]
  },
  {
   "cell_type": "code",
   "execution_count": 238,
   "metadata": {},
   "outputs": [],
   "source": [
    "for j in 1:nv(pool)\n",
    "    set_normalized_coefficient(choosecerc[j], z[end], column[j])            \n",
    "end"
   ]
  },
  {
   "cell_type": "code",
   "execution_count": 239,
   "metadata": {},
   "outputs": [],
   "source": [
    "set_objective_function(mastermodel, objective_function(mastermodel) + column_cost*z[end])"
   ]
  },
  {
   "cell_type": "code",
   "execution_count": 240,
   "metadata": {},
   "outputs": [
    {
     "data": {
      "text/plain": [
       "4.0"
      ]
     },
     "execution_count": 240,
     "metadata": {},
     "output_type": "execute_result"
    }
   ],
   "source": [
    "nodeub += SPobj"
   ]
  },
  {
   "cell_type": "code",
   "execution_count": 241,
   "metadata": {},
   "outputs": [
    {
     "data": {
      "text/plain": [
       "4.0"
      ]
     },
     "execution_count": 241,
     "metadata": {},
     "output_type": "execute_result"
    }
   ],
   "source": [
    "if nodeub<=tree[1].ub tree[1].ub = nodeub end"
   ]
  },
  {
   "cell_type": "code",
   "execution_count": 242,
   "metadata": {},
   "outputs": [
    {
     "data": {
      "text/plain": [
       "true"
      ]
     },
     "execution_count": 242,
     "metadata": {},
     "output_type": "execute_result"
    }
   ],
   "source": [
    "2*abs((tree[1].ub-nodelb))/abs((nodelb+tree[1].ub))<ϵ || maxobj<=0"
   ]
  },
  {
   "cell_type": "markdown",
   "metadata": {},
   "source": [
    "## Test valeur duale"
   ]
  },
  {
   "cell_type": "code",
   "execution_count": 166,
   "metadata": {},
   "outputs": [
    {
     "name": "stdout",
     "output_type": "stream",
     "text": [
      "Gurobi Optimizer version 9.1.1 build v9.1.1rc0 (win64)\r\n",
      "Thread count: 4 physical cores, 8 logical processors, using up to 8 threads\r\n",
      "Optimize a model with 1 rows, 1 columns and 1 nonzeros\r\n",
      "Model fingerprint: 0x5cf2823d\r\n",
      "Coefficient statistics:\r\n",
      "  Matrix range     [1e+00, 1e+00]\r\n",
      "  Objective range  [1e+00, 1e+00]\r\n",
      "  Bounds range     [1e+00, 1e+00]\r\n",
      "  RHS range        [5e-01, 5e-01]\r\n",
      "Presolve removed 1 rows and 1 columns\r\n",
      "Presolve time: 0.00s\r\n",
      "Presolve: All rows and columns removed\r\n",
      "Iteration    Objective       Primal Inf.    Dual Inf.      Time\r\n",
      "       0    5.0000000e-01   0.000000e+00   0.000000e+00      0s\r\n",
      "\r\n",
      "Solved in 0 iterations and 0.00 seconds\r\n",
      "Optimal objective  5.000000000e-01\r\n",
      "\r\n",
      "User-callback calls 25, time in user-callback 0.00 sec\r\n"
     ]
    },
    {
     "ename": "LoadError",
     "evalue": "MethodError: objects of type Float64 are not callable",
     "output_type": "error",
     "traceback": [
      "MethodError: objects of type Float64 are not callable",
      "",
      "Stacktrace:",
      " [1] top-level scope at show.jl:641",
      " [2] include_string(::Function, ::Module, ::String, ::String) at .\\loading.jl:1091"
     ]
    }
   ],
   "source": [
    "model = Model(optimizer_with_attributes(() -> Gurobi.Optimizer(GUROBI_ENV)))\n",
    "@variable(model, x,lower_bound=0,upper_bound=1)\n",
    "@constraint(model, a,x >= 0.5)\n",
    "@objective(model, Min, x)\n",
    "\n",
    "optimize!(model)\n",
    "\n",
    "@show value(x);\n",
    "@show value(y);\n",
    "@show objective_value(model);"
   ]
  },
  {
   "cell_type": "code",
   "execution_count": 167,
   "metadata": {},
   "outputs": [
    {
     "data": {
      "text/latex": [
       "$$ \\begin{alignat*}{1}\\min\\quad & x\\\\\n",
       "\\text{Subject to} \\quad & x \\geq 0.5\\\\\n",
       " & x \\geq 0.0\\\\\n",
       " & x \\leq 1.0\\\\\n",
       "\\end{alignat*}\n",
       " $$"
      ],
      "text/plain": [
       "A JuMP Model\n",
       "Minimization problem with:\n",
       "Variable: 1\n",
       "Objective function type: VariableRef\n",
       "`GenericAffExpr{Float64,VariableRef}`-in-`MathOptInterface.GreaterThan{Float64}`: 1 constraint\n",
       "`VariableRef`-in-`MathOptInterface.GreaterThan{Float64}`: 1 constraint\n",
       "`VariableRef`-in-`MathOptInterface.LessThan{Float64}`: 1 constraint\n",
       "Model mode: AUTOMATIC\n",
       "CachingOptimizer state: ATTACHED_OPTIMIZER\n",
       "Solver name: Gurobi\n",
       "Names registered in the model: a, x"
      ]
     },
     "execution_count": 167,
     "metadata": {},
     "output_type": "execute_result"
    }
   ],
   "source": [
    "model"
   ]
  },
  {
   "cell_type": "code",
   "execution_count": 168,
   "metadata": {},
   "outputs": [
    {
     "data": {
      "text/plain": [
       "1.0"
      ]
     },
     "execution_count": 168,
     "metadata": {},
     "output_type": "execute_result"
    }
   ],
   "source": [
    "JuMP.dual.(a)"
   ]
  },
  {
   "cell_type": "code",
   "execution_count": 179,
   "metadata": {},
   "outputs": [],
   "source": [
    "using GLPK"
   ]
  },
  {
   "cell_type": "code",
   "execution_count": 243,
   "metadata": {},
   "outputs": [
    {
     "name": "stdout",
     "output_type": "stream",
     "text": [
      "Welcome to the CBC MILP Solver \n",
      "Version: 2.10.3 \n",
      "Build Date: Jan  1 1970 \n",
      "\n",
      "command line - Cbc_C_Interface -solve -quit (default strategy 1)\n",
      "Presolve 0 (-1) rows, 0 (-1) columns and 0 (-1) elements\n",
      "Empty problem - 0 rows, 0 columns and 0 elements\n",
      "Optimal - objective value 0.5\n",
      "After Postsolve, objective 0.5, infeasibilities - dual 0 (0), primal 0 (0)\n",
      "Optimal objective 0.5 - 0 iterations time 0.002, Presolve 0.00\n",
      "Total time (CPU seconds):       0.00   (Wallclock seconds):       0.00\n",
      "\n"
     ]
    },
    {
     "ename": "LoadError",
     "evalue": "MethodError: objects of type Float64 are not callable",
     "output_type": "error",
     "traceback": [
      "MethodError: objects of type Float64 are not callable",
      "",
      "Stacktrace:",
      " [1] top-level scope at show.jl:641",
      " [2] include_string(::Function, ::Module, ::String, ::String) at .\\loading.jl:1091"
     ]
    }
   ],
   "source": [
    "model = Model(optimizer_with_attributes(() -> Cbc.Optimizer()))\n",
    "@variable(model, x,lower_bound=0,upper_bound=1)\n",
    "@constraint(model, a,x <= 0.5)\n",
    "@objective(model, Max, x)\n",
    "\n",
    "optimize!(model)\n",
    "\n",
    "@show value(x);\n",
    "@show objective_value(model);"
   ]
  },
  {
   "cell_type": "code",
   "execution_count": 191,
   "metadata": {},
   "outputs": [
    {
     "data": {
      "text/latex": [
       "$$ \\begin{alignat*}{1}\\max\\quad & x\\\\\n",
       "\\text{Subject to} \\quad & x \\leq 0.5\\\\\n",
       " & x \\geq 0.0\\\\\n",
       " & x \\leq 1.0\\\\\n",
       "\\end{alignat*}\n",
       " $$"
      ],
      "text/plain": [
       "A JuMP Model\n",
       "Maximization problem with:\n",
       "Variable: 1\n",
       "Objective function type: VariableRef\n",
       "`GenericAffExpr{Float64,VariableRef}`-in-`MathOptInterface.LessThan{Float64}`: 1 constraint\n",
       "`VariableRef`-in-`MathOptInterface.GreaterThan{Float64}`: 1 constraint\n",
       "`VariableRef`-in-`MathOptInterface.LessThan{Float64}`: 1 constraint\n",
       "Model mode: AUTOMATIC\n",
       "CachingOptimizer state: ATTACHED_OPTIMIZER\n",
       "Solver name: GLPK\n",
       "Names registered in the model: a, x"
      ]
     },
     "execution_count": 191,
     "metadata": {},
     "output_type": "execute_result"
    }
   ],
   "source": [
    "model"
   ]
  },
  {
   "cell_type": "code",
   "execution_count": 244,
   "metadata": {},
   "outputs": [
    {
     "ename": "LoadError",
     "evalue": "ArgumentError: ModelLike of type Cbc.Optimizer does not support accessing the attribute MathOptInterface.ConstraintDual(1)",
     "output_type": "error",
     "traceback": [
      "ArgumentError: ModelLike of type Cbc.Optimizer does not support accessing the attribute MathOptInterface.ConstraintDual(1)",
      "",
      "Stacktrace:",
      " [1] get_fallback(::Cbc.Optimizer, ::MathOptInterface.ConstraintDual, ::MathOptInterface.ConstraintIndex{MathOptInterface.ScalarAffineFunction{Float64},MathOptInterface.LessThan{Float64}}) at C:\\Users\\sunke\\.julia\\packages\\MathOptInterface\\ZJFKw\\src\\attributes.jl:274",
      " [2] get(::Cbc.Optimizer, ::MathOptInterface.ConstraintDual, ::MathOptInterface.ConstraintIndex{MathOptInterface.ScalarAffineFunction{Float64},MathOptInterface.LessThan{Float64}}) at C:\\Users\\sunke\\.julia\\packages\\MathOptInterface\\ZJFKw\\src\\attributes.jl:272",
      " [3] get(::MathOptInterface.Utilities.CachingOptimizer{Cbc.Optimizer,MathOptInterface.Utilities.UniversalFallback{MathOptInterface.Utilities.Model{Float64}}}, ::MathOptInterface.ConstraintDual, ::MathOptInterface.ConstraintIndex{MathOptInterface.ScalarAffineFunction{Float64},MathOptInterface.LessThan{Float64}}) at C:\\Users\\sunke\\.julia\\packages\\MathOptInterface\\ZJFKw\\src\\Utilities\\cachingoptimizer.jl:605",
      " [4] get(::MathOptInterface.Bridges.LazyBridgeOptimizer{MathOptInterface.Utilities.CachingOptimizer{Cbc.Optimizer,MathOptInterface.Utilities.UniversalFallback{MathOptInterface.Utilities.Model{Float64}}}}, ::MathOptInterface.ConstraintDual, ::MathOptInterface.ConstraintIndex{MathOptInterface.ScalarAffineFunction{Float64},MathOptInterface.LessThan{Float64}}) at C:\\Users\\sunke\\.julia\\packages\\MathOptInterface\\ZJFKw\\src\\Bridges\\bridge_optimizer.jl:922",
      " [5] get(::MathOptInterface.Utilities.CachingOptimizer{MathOptInterface.AbstractOptimizer,MathOptInterface.Utilities.UniversalFallback{MathOptInterface.Utilities.Model{Float64}}}, ::MathOptInterface.ConstraintDual, ::MathOptInterface.ConstraintIndex{MathOptInterface.ScalarAffineFunction{Float64},MathOptInterface.LessThan{Float64}}) at C:\\Users\\sunke\\.julia\\packages\\MathOptInterface\\ZJFKw\\src\\Utilities\\cachingoptimizer.jl:605",
      " [6] _moi_get_result(::MathOptInterface.Utilities.CachingOptimizer{MathOptInterface.AbstractOptimizer,MathOptInterface.Utilities.UniversalFallback{MathOptInterface.Utilities.Model{Float64}}}, ::MathOptInterface.ConstraintDual, ::Vararg{Any,N} where N) at C:\\Users\\sunke\\.julia\\packages\\JuMP\\y5vgk\\src\\JuMP.jl:946",
      " [7] get(::Model, ::MathOptInterface.ConstraintDual, ::ConstraintRef{Model,MathOptInterface.ConstraintIndex{MathOptInterface.ScalarAffineFunction{Float64},MathOptInterface.LessThan{Float64}},ScalarShape}) at C:\\Users\\sunke\\.julia\\packages\\JuMP\\y5vgk\\src\\JuMP.jl:985",
      " [8] _constraint_dual(::ConstraintRef{Model,MathOptInterface.ConstraintIndex{MathOptInterface.ScalarAffineFunction{Float64},MathOptInterface.LessThan{Float64}},ScalarShape}, ::Int64) at C:\\Users\\sunke\\.julia\\packages\\JuMP\\y5vgk\\src\\constraints.jl:727",
      " [9] #dual#23 at C:\\Users\\sunke\\.julia\\packages\\JuMP\\y5vgk\\src\\constraints.jl:714 [inlined]",
      " [10] dual at C:\\Users\\sunke\\.julia\\packages\\JuMP\\y5vgk\\src\\constraints.jl:714 [inlined]",
      " [11] _broadcast_getindex_evalf at .\\broadcast.jl:648 [inlined]",
      " [12] _broadcast_getindex at .\\broadcast.jl:621 [inlined]",
      " [13] getindex at .\\broadcast.jl:575 [inlined]",
      " [14] copy at .\\broadcast.jl:852 [inlined]",
      " [15] materialize(::Base.Broadcast.Broadcasted{Base.Broadcast.DefaultArrayStyle{0},Nothing,typeof(dual),Tuple{Base.RefValue{ConstraintRef{Model,MathOptInterface.ConstraintIndex{MathOptInterface.ScalarAffineFunction{Float64},MathOptInterface.LessThan{Float64}},ScalarShape}}}}) at .\\broadcast.jl:837",
      " [16] top-level scope at In[244]:1",
      " [17] include_string(::Function, ::Module, ::String, ::String) at .\\loading.jl:1091"
     ]
    }
   ],
   "source": [
    "JuMP.dual.(a)"
   ]
  },
  {
   "cell_type": "code",
   "execution_count": null,
   "metadata": {},
   "outputs": [],
   "source": []
  }
 ],
 "metadata": {
  "kernelspec": {
   "display_name": "Julia 1.5.3",
   "language": "julia",
   "name": "julia-1.5"
  },
  "language_info": {
   "file_extension": ".jl",
   "mimetype": "application/julia",
   "name": "julia",
   "version": "1.5.3"
  }
 },
 "nbformat": 4,
 "nbformat_minor": 2
}
