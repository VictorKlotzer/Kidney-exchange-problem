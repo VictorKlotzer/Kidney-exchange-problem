{
 "cells": [
  {
   "cell_type": "markdown",
   "metadata": {},
   "source": [
    "# Remarques :\n",
    "2. branching on node / edge ? node (sub problem)\n",
    "4. first column : artificial (calculate columns et solve BP)"
   ]
  },
  {
   "cell_type": "markdown",
   "metadata": {},
   "source": [
    "# To do :\n",
    "1. bornes dans colonnes génération (ok) et B&Price \n",
    "2. enum_smallcycles length = 2,4... = 3 marche pas, MIP problème?\n",
    "3. global solution line 40 process_node"
   ]
  },
  {
   "cell_type": "code",
   "execution_count": 1,
   "metadata": {},
   "outputs": [
    {
     "name": "stdout",
     "output_type": "stream",
     "text": [
      "Academic license - for non-commercial use only - expires 2021-06-25\r\n"
     ]
    }
   ],
   "source": [
    "using JuMP \n",
    "using Gurobi\n",
    "using DelimitedFiles\n",
    "using NBInclude\n",
    "using GraphPlot \n",
    "using LightGraphs\n",
    "using MetaGraphs\n",
    "const GUROBI_ENV = Gurobi.Env()\n",
    "const ϵ = 0.00001;"
   ]
  },
  {
   "cell_type": "code",
   "execution_count": 152,
   "metadata": {},
   "outputs": [
    {
     "name": "stderr",
     "output_type": "stream",
     "text": [
      "┌ Info: Precompiling Cairo [159f3aea-2a34-519c-b102-8c37f9878175]\n",
      "└ @ Base loading.jl:1278\n"
     ]
    },
    {
     "ename": "LoadError",
     "evalue": "ArgumentError: Package Compose not found in current path:\n- Run `import Pkg; Pkg.add(\"Compose\")` to install the Compose package.\n",
     "output_type": "error",
     "traceback": [
      "ArgumentError: Package Compose not found in current path:\n- Run `import Pkg; Pkg.add(\"Compose\")` to install the Compose package.\n",
      "",
      "Stacktrace:",
      " [1] require(::Module, ::Symbol) at .\\loading.jl:893",
      " [2] include_string(::Function, ::Module, ::String, ::String) at .\\loading.jl:1091"
     ]
    }
   ],
   "source": [
    "# to save graph\n",
    "using Cairo, Compose"
   ]
  },
  {
   "cell_type": "code",
   "execution_count": 6,
   "metadata": {},
   "outputs": [],
   "source": [
    "@nbinclude(\"typedef.ipynb\")\n",
    "@nbinclude(\"data.ipynb\")\n",
    "@nbinclude(\"MIP.ipynb\")\n",
    "@nbinclude(\"master.ipynb\")\n",
    "@nbinclude(\"subproblem.ipynb\")\n",
    "@nbinclude(\"branch_and_price.ipynb\")\n",
    "@nbinclude(\"node.ipynb\");"
   ]
  },
  {
   "cell_type": "markdown",
   "metadata": {},
   "source": [
    "# I - Read data"
   ]
  },
  {
   "cell_type": "code",
   "execution_count": 3,
   "metadata": {},
   "outputs": [],
   "source": [
    "data_folder = string(@__DIR__,\"/../data\")\n",
    "instance = \"MD-00001-00000111\"\n",
    "wmd_file = joinpath(data_folder, join([instance, \".wmd\"]))\n",
    "dat_file = joinpath(data_folder, join([instance, \".dat\"]))\n",
    "global pool = kep_pool(wmd_file, dat_file)\n",
    "global weight = [get_prop(pool, arc, :weight) for arc in edges(pool)]\n",
    "global e = collect(edges(pool))\n",
    "global L = 4;"
   ]
  },
  {
   "cell_type": "code",
   "execution_count": null,
   "metadata": {},
   "outputs": [],
   "source": [
    "gplot(pool,nodelabel = 1:nv(pool))"
   ]
  },
  {
   "cell_type": "code",
   "execution_count": 155,
   "metadata": {},
   "outputs": [],
   "source": [
    "# sauvegarde graph\n",
    "draw(PNG(\"KEP_10.png\", 16cm, 16cm), gplot(pool,nodelabel = 1:nv(pool)))"
   ]
  },
  {
   "cell_type": "markdown",
   "metadata": {},
   "source": [
    "# II - Solve by MIP\n",
    "Implement and solve an integer programming model for KEP: (**formualtion to change**)\n",
    "\\begin{align*}\n",
    "\\min\\;\\;\\; &\\sum_{i\\in N}\\sum_{j\\in M} p_{ij} x_{ij}\\\\\n",
    "\\mbox{s.t.}\\;\\;\\; \t&\\sum_{j\\in M} x_{ij}=1 &\\forall i\\in N\\\\\n",
    "&\\sum_{i\\in N} t_{ij}x_{ij} \\leq t^{\\rm max}_{j} &\\forall j\\in M\\\\\n",
    "&x\\in \\{0,1\\}^{N\\times M}.\n",
    "\\end{align*}\n"
   ]
  },
  {
   "cell_type": "code",
   "execution_count": 5,
   "metadata": {},
   "outputs": [
    {
     "name": "stdout",
     "output_type": "stream",
     "text": [
      "Academic license - for non-commercial use only - expires 2021-06-25\r\n"
     ]
    },
    {
     "ename": "LoadError",
     "evalue": "OutOfMemoryError()",
     "output_type": "error",
     "traceback": [
      "OutOfMemoryError()",
      "",
      "Stacktrace:",
      " [1] Array at .\\boot.jl:406 [inlined]",
      " [2] rehash!(::Dict{Int64,Int64}, ::Int64) at .\\dict.jl:193",
      " [3] ht_keyindex2!(::Dict{Int64,Int64}, ::Int64) at .\\dict.jl:348",
      " [4] setindex!(::Dict{Int64,Int64}, ::Int64, ::Int64) at .\\dict.jl:381",
      " [5] Dict{Int64,Int64}(::Array{Pair{Int64,Int64},1}) at .\\dict.jl:103",
      " [6] _reverse_dict(::Dict{Int64,Int64}) at C:\\Users\\sunke\\.julia\\packages\\MathOptInterface\\ZJFKw\\src\\Utilities\\cachingoptimizer.jl:173",
      " [7] _reverse_dict(::MathOptInterface.Utilities.DoubleDicts.IndexDoubleDict{Dict{Int64,Int64},Dict{Tuple{DataType,DataType},Dict{Int64,Int64}}}, ::MathOptInterface.Utilities.DoubleDicts.IndexDoubleDict{Dict{Int64,Int64},Dict{Tuple{DataType,DataType},Dict{Int64,Int64}}}) at C:\\Users\\sunke\\.julia\\packages\\MathOptInterface\\ZJFKw\\src\\Utilities\\DoubleDicts.jl:92",
      " [8] _reverse_index_map(::MathOptInterface.Utilities.IndexMap) at C:\\Users\\sunke\\.julia\\packages\\MathOptInterface\\ZJFKw\\src\\Utilities\\cachingoptimizer.jl:163",
      " [9] attach_optimizer(::MathOptInterface.Utilities.CachingOptimizer{MathOptInterface.AbstractOptimizer,MathOptInterface.Utilities.UniversalFallback{MathOptInterface.Utilities.Model{Float64}}}) at C:\\Users\\sunke\\.julia\\packages\\MathOptInterface\\ZJFKw\\src\\Utilities\\cachingoptimizer.jl:155",
      " [10] optimize!(::MathOptInterface.Utilities.CachingOptimizer{MathOptInterface.AbstractOptimizer,MathOptInterface.Utilities.UniversalFallback{MathOptInterface.Utilities.Model{Float64}}}) at C:\\Users\\sunke\\.julia\\packages\\MathOptInterface\\ZJFKw\\src\\Utilities\\cachingoptimizer.jl:211",
      " [11] optimize!(::Model, ::Nothing; bridge_constraints::Bool, ignore_optimize_hook::Bool, kwargs::Base.Iterators.Pairs{Union{},Union{},Tuple{},NamedTuple{(),Tuple{}}}) at C:\\Users\\sunke\\.julia\\packages\\JuMP\\y5vgk\\src\\optimizer_interface.jl:139",
      " [12] optimize! at C:\\Users\\sunke\\.julia\\packages\\JuMP\\y5vgk\\src\\optimizer_interface.jl:115 [inlined] (repeats 2 times)",
      " [13] solve_MIP(::MetaDiGraph{Int64,Int64}, ::Int64) at C:\\Users\\sunke\\OneDrive\\S8\\PMAA\\Projet\\sujet\\MIP.ipynb:In[1]:16",
      " [14] top-level scope at .\\timing.jl:310 [inlined]",
      " [15] top-level scope at .\\In[5]:0",
      " [16] include_string(::Function, ::Module, ::String, ::String) at .\\loading.jl:1091"
     ]
    }
   ],
   "source": [
    "result = @timed solve_MIP(pool,L)"
   ]
  },
  {
   "cell_type": "code",
   "execution_count": 29,
   "metadata": {},
   "outputs": [
    {
     "data": {
      "text/plain": [
       "(Any[[1, 6], [1, 6, 3, 8], [3, 8]], Any[2, 4, 2])"
      ]
     },
     "execution_count": 29,
     "metadata": {},
     "output_type": "execute_result"
    }
   ],
   "source": [
    "enum_smallcycles(pool,3)"
   ]
  },
  {
   "cell_type": "code",
   "execution_count": 21,
   "metadata": {},
   "outputs": [
    {
     "name": "stdout",
     "output_type": "stream",
     "text": [
      "There is an arc going from node 1 to 3. It is: Edge 1 => 3\n",
      "There is an arc going from node 1 to 16. It is: Edge 1 => 16\n",
      "There is an arc going from node 2 to 4. It is: Edge 2 => 4\n",
      "There is an arc going from node 2 to 14. It is: Edge 2 => 14\n",
      "There is an arc going from node 3 to 4. It is: Edge 3 => 4\n",
      "There is an arc going from node 3 to 14. It is: Edge 3 => 14\n",
      "There is an arc going from node 4 to 6. It is: Edge 4 => 6\n",
      "There is an arc going from node 4 to 13. It is: Edge 4 => 13\n",
      "There is an arc going from node 4 to 16. It is: Edge 4 => 16\n",
      "There is an arc going from node 5 to 1. It is: Edge 5 => 1\n",
      "There is an arc going from node 5 to 2. It is: Edge 5 => 2\n",
      "There is an arc going from node 5 to 4. It is: Edge 5 => 4\n",
      "There is an arc going from node 5 to 6. It is: Edge 5 => 6\n",
      "There is an arc going from node 5 to 8. It is: Edge 5 => 8\n",
      "There is an arc going from node 5 to 10. It is: Edge 5 => 10\n",
      "There is an arc going from node 5 to 11. It is: Edge 5 => 11\n",
      "There is an arc going from node 5 to 13. It is: Edge 5 => 13\n",
      "There is an arc going from node 5 to 14. It is: Edge 5 => 14\n",
      "There is an arc going from node 5 to 16. It is: Edge 5 => 16\n",
      "There is an arc going from node 6 to 4. It is: Edge 6 => 4\n",
      "There is an arc going from node 6 to 14. It is: Edge 6 => 14\n",
      "There is an arc going from node 7 to 2. It is: Edge 7 => 2\n",
      "There is an arc going from node 7 to 4. It is: Edge 7 => 4\n",
      "There is an arc going from node 7 to 5. It is: Edge 7 => 5\n",
      "There is an arc going from node 7 to 8. It is: Edge 7 => 8\n",
      "There is an arc going from node 7 to 10. It is: Edge 7 => 10\n",
      "There is an arc going from node 7 to 11. It is: Edge 7 => 11\n",
      "There is an arc going from node 7 to 14. It is: Edge 7 => 14\n",
      "There is an arc going from node 7 to 16. It is: Edge 7 => 16\n",
      "There is an arc going from node 8 to 4. It is: Edge 8 => 4\n",
      "There is an arc going from node 8 to 14. It is: Edge 8 => 14\n",
      "There is an arc going from node 9 to 6. It is: Edge 9 => 6\n",
      "There is an arc going from node 9 to 15. It is: Edge 9 => 15\n",
      "There is an arc going from node 10 to 4. It is: Edge 10 => 4\n",
      "There is an arc going from node 10 to 14. It is: Edge 10 => 14\n",
      "There is an arc going from node 11 to 4. It is: Edge 11 => 4\n",
      "There is an arc going from node 11 to 14. It is: Edge 11 => 14\n",
      "There is an arc going from node 13 to 4. It is: Edge 13 => 4\n",
      "There is an arc going from node 13 to 14. It is: Edge 13 => 14\n",
      "There is an arc going from node 14 to 3. It is: Edge 14 => 3\n",
      "There is an arc going from node 14 to 6. It is: Edge 14 => 6\n",
      "There is an arc going from node 14 to 13. It is: Edge 14 => 13\n",
      "There is an arc going from node 14 to 15. It is: Edge 14 => 15\n",
      "There is an arc going from node 14 to 16. It is: Edge 14 => 16\n",
      "There is an arc going from node 15 to 4. It is: Edge 15 => 4\n",
      "There is an arc going from node 15 to 14. It is: Edge 15 => 14\n",
      "There is an arc going from node 16 to 4. It is: Edge 16 => 4\n"
     ]
    }
   ],
   "source": [
    "for arc in edges(pool)\n",
    "    println(\"There is an arc going from node $(arc.src) to $(arc.dst). It is: \",arc)\n",
    "end"
   ]
  },
  {
   "cell_type": "markdown",
   "metadata": {},
   "source": [
    "# III - B&Price"
   ]
  },
  {
   "cell_type": "code",
   "execution_count": 7,
   "metadata": {},
   "outputs": [
    {
     "name": "stdout",
     "output_type": "stream",
     "text": [
      "Current list of nodes to be processed:[1]\n",
      "\u001b[93m Processing node 1 \u001b[00m\n",
      "Variables set to zero are:Int64[]\n",
      "Variables set to one are:Int64[]\n",
      "\u001b[32m Feasible solution with value 1.0 found \u001b[00m\n",
      "\u001b[34m Pattern with items [45, 54, 68, 126] added \u001b[00m\n",
      "\u001b[32m Feasible solution with value 4.0 found \u001b[00m\n",
      "\u001b[34m Pattern with items [24, 52, 54, 86] added \u001b[00m\n",
      "\u001b[32m Feasible solution with value 4.0 found \u001b[00m\n",
      "\u001b[34m Pattern with items [5, 33, 45, 102] added \u001b[00m\n",
      "\u001b[32m Feasible solution with value 8.0 found \u001b[00m\n",
      "\u001b[34m Pattern with items [5, 33, 45, 102] added \u001b[00m\n",
      "\u001b[32m Feasible solution with value 8.0 found \u001b[00m\n",
      "\u001b[34m Pattern with items [11, 12, 105, 126] added \u001b[00m\n",
      "\u001b[32m Feasible solution with value 12.0 found \u001b[00m\n",
      "\u001b[34m Pattern with items [11, 12, 105, 126] added \u001b[00m\n",
      "\u001b[32m Feasible solution with value 12.0 found \u001b[00m\n",
      "\u001b[34m Pattern with items [33, 47, 87, 100] added \u001b[00m\n",
      "\u001b[32m Feasible solution with value 12.0 found \u001b[00m\n",
      "\u001b[34m Pattern with items [45, 52, 112, 119] added \u001b[00m\n",
      "\u001b[32m Feasible solution with value 12.0 found \u001b[00m\n",
      "\u001b[34m Pattern with items [11, 24, 32, 106] added \u001b[00m\n",
      "\u001b[34m Pattern with items [41, 105, 114, 120] added \u001b[00m\n",
      "\u001b[32m Feasible solution with value 16.0 found \u001b[00m\n",
      "\u001b[34m Pattern with items [43, 47, 54, 102] added \u001b[00m\n",
      "\u001b[32m Feasible solution with value 16.0 found \u001b[00m\n",
      "\u001b[34m Pattern with items [85, 102, 106, 126] added \u001b[00m\n",
      "\u001b[34m Pattern with items [41, 70, 87, 88] added \u001b[00m\n",
      "\u001b[34m Pattern with items [8, 12, 107, 126] added \u001b[00m\n",
      "\u001b[32m Feasible solution with value 20.0 found \u001b[00m\n",
      "\u001b[34m Pattern with items [52, 54, 102, 117] added \u001b[00m\n",
      "\u001b[34m Pattern with items [54, 113, 121, 123] added \u001b[00m\n",
      "\u001b[32m Feasible solution with value 24.0 found \u001b[00m\n",
      "\u001b[34m Pattern with items [57, 99, 107, 114] added \u001b[00m\n",
      "\u001b[32m Feasible solution with value 24.0 found \u001b[00m\n",
      "\u001b[34m Pattern with items [12, 14, 63, 92] added \u001b[00m\n",
      "\u001b[32m Feasible solution with value 24.0 found \u001b[00m\n",
      "\u001b[34m Pattern with items [24, 96, 102, 120] added \u001b[00m\n",
      "\u001b[34m Pattern with items [9, 41, 52, 81] added \u001b[00m\n",
      "\u001b[34m Pattern with items [11, 19, 31, 62] added \u001b[00m\n",
      "\u001b[32m Feasible solution with value 28.0 found \u001b[00m\n",
      "\u001b[34m Pattern with items [22, 41, 103, 106] added \u001b[00m\n",
      "\u001b[32m Feasible solution with value 32.0 found \u001b[00m\n",
      "\u001b[34m Pattern with items [22, 41, 103, 106] added \u001b[00m\n",
      "\u001b[32m Feasible solution with value 32.0 found \u001b[00m\n",
      "\u001b[34m Pattern with items [14, 43, 106, 126] added \u001b[00m\n",
      "\u001b[32m Feasible solution with value 32.0 found \u001b[00m\n",
      "\u001b[34m Pattern with items [8, 11, 41, 45] added \u001b[00m\n",
      "\u001b[32m Feasible solution with value 32.0 found \u001b[00m\n",
      "\u001b[34m Pattern with items [1, 8, 68, 126] added \u001b[00m\n",
      "\u001b[32m Feasible solution with value 36.0 found \u001b[00m\n",
      "\u001b[34m Pattern with items [1, 8, 68, 126] added \u001b[00m\n",
      "\u001b[32m Feasible solution with value 36.0 found \u001b[00m\n",
      "\u001b[34m Pattern with items [37, 45, 99, 118] added \u001b[00m\n",
      "\u001b[32m Feasible solution with value 36.0 found \u001b[00m\n",
      "\u001b[34m Pattern with items [43, 64, 85, 126] added \u001b[00m\n",
      "\u001b[32m Feasible solution with value 36.0 found \u001b[00m\n",
      "\u001b[34m Pattern with items [14, 31, 85, 111] added \u001b[00m\n",
      "\u001b[32m Feasible solution with value 36.0 found \u001b[00m\n",
      "\u001b[34m Pattern with items [1, 81, 85, 88] added \u001b[00m\n",
      "\u001b[34m Pattern with items [24, 27, 32, 68] added \u001b[00m\n",
      "\u001b[34m Pattern with items [8, 11, 96, 118] added \u001b[00m\n",
      "\u001b[34m Pattern with items [25, 48, 61, 107] added \u001b[00m\n",
      "\u001b[34m Pattern with items [87, 102, 106, 128] added \u001b[00m\n",
      "\u001b[34m Pattern with items [52, 64, 86, 102] added \u001b[00m\n",
      "\u001b[32m Feasible solution with value 40.0 found \u001b[00m\n",
      "\u001b[34m Pattern with items [31, 32, 52, 111] added \u001b[00m\n",
      "\u001b[34m Pattern with items [53, 54, 88, 121] added \u001b[00m\n",
      "\u001b[34m Pattern with items [8, 56, 101, 111] added \u001b[00m\n",
      "\u001b[34m Pattern with items [69, 75, 84, 96] added \u001b[00m\n",
      "\u001b[34m Pattern with items [69, 75, 84, 96] added \u001b[00m\n",
      "\u001b[34m Pattern with items [44, 120, 123, 126] added \u001b[00m\n",
      "\u001b[34m Pattern with items [5, 39, 96, 99] added \u001b[00m\n",
      "\u001b[34m Pattern with items [39, 76, 84, 120] added \u001b[00m\n",
      "\u001b[34m Pattern with items [3, 8, 43, 121] added \u001b[00m\n",
      "\u001b[34m Pattern with items [25, 40, 104, 111] added \u001b[00m\n",
      "\u001b[34m Pattern with items [92, 104, 114, 116] added \u001b[00m\n",
      "\u001b[34m Pattern with items [4, 50, 65, 101] added \u001b[00m\n",
      "\u001b[34m Pattern with items [14, 30, 54, 67] added \u001b[00m\n",
      "\u001b[32m Feasible solution with value 56.0 found \u001b[00m\n",
      "\u001b[34m Pattern with items [3, 19, 54, 114] added \u001b[00m\n",
      "\u001b[32m Feasible solution with value 56.0 found \u001b[00m\n",
      "\u001b[34m Pattern with items [48, 53, 61, 95] added \u001b[00m\n",
      "\u001b[34m Pattern with items [31, 56, 111, 116] added \u001b[00m\n",
      "\u001b[34m Pattern with items [12, 64, 80, 125] added \u001b[00m\n",
      "\u001b[32m Feasible solution with value 60.0 found \u001b[00m\n",
      "\u001b[34m Pattern with items [19, 32, 102, 107] added \u001b[00m\n",
      "\u001b[32m Feasible solution with value 60.0 found \u001b[00m\n",
      "\u001b[34m Pattern with items [42, 85, 102, 128] added \u001b[00m\n",
      "\u001b[34m Pattern with items [3, 24, 36, 124] added \u001b[00m\n",
      "\u001b[34m Pattern with items [11, 43, 116, 121] added \u001b[00m\n",
      "\u001b[34m Pattern with items [4, 31, 68, 81] added \u001b[00m\n",
      "\u001b[34m Pattern with items [31, 75, 118, 123] added \u001b[00m\n",
      "\u001b[34m Pattern with items [68, 76, 94, 124] added \u001b[00m\n",
      "\u001b[34m Pattern with items [8, 88, 97, 126] added \u001b[00m\n",
      "\u001b[34m Pattern with items [19, 65, 95, 115] added \u001b[00m\n",
      "\u001b[34m Pattern with items [3, 61, 72, 123] added \u001b[00m\n",
      "\u001b[34m Pattern with items [16, 33, 74, 115] added \u001b[00m\n",
      "\u001b[34m Pattern with items [10, 19, 94, 114] added \u001b[00m\n",
      "\u001b[34m Pattern with items [3, 32, 72, 101] added \u001b[00m\n",
      "\u001b[34m Pattern with items [8, 72, 107, 120] added \u001b[00m\n",
      "\u001b[34m Pattern with items [16, 29, 40, 92] added \u001b[00m\n",
      "\u001b[34m Pattern with items [50, 87, 95, 121] added \u001b[00m\n",
      "\u001b[34m Pattern with items [10, 47, 69, 104] added \u001b[00m\n",
      "\u001b[34m Pattern with items [36, 39, 62, 83] added \u001b[00m\n",
      "\u001b[34m Pattern with items [25, 75, 78, 115] added \u001b[00m\n",
      "\u001b[34m Pattern with items [32, 62, 83, 115] added \u001b[00m\n",
      "\u001b[34m Pattern with items [24, 76, 81, 107] added \u001b[00m\n",
      "\u001b[34m Pattern with items [33, 51, 78, 83] added \u001b[00m\n",
      "\u001b[34m Pattern with items [25, 81, 92, 111] added \u001b[00m\n",
      "\u001b[34m Pattern with items [32, 48, 53, 78] added \u001b[00m\n",
      "\u001b[34m Pattern with items [16, 19, 29, 96] added \u001b[00m\n",
      "\u001b[34m Pattern with items [53, 59, 94, 98] added \u001b[00m\n",
      "\u001b[34m Pattern with items [36, 62, 72, 104] added \u001b[00m\n",
      "\u001b[34m Pattern with items [48, 62, 72, 95] added \u001b[00m\n",
      "\u001b[34m Pattern with items [29, 50, 98, 111] added \u001b[00m\n",
      "\u001b[34m Pattern with items [59, 61, 72, 127] added \u001b[00m\n",
      "\u001b[34m Pattern with items [36, 62, 91, 101] added \u001b[00m\n",
      "\u001b[34m Pattern with items [3, 19, 40, 95] added \u001b[00m\n",
      "\u001b[34m Pattern with items [24, 43, 71, 124] added \u001b[00m\n",
      "\u001b[34m Pattern with items [86, 87, 102, 127] added \u001b[00m\n",
      "\u001b[34m Pattern with items [3, 10, 25, 92] added \u001b[00m\n",
      "\u001b[34m Pattern with items [14, 42, 98, 121] added \u001b[00m\n",
      "\u001b[34m Pattern with items [16, 32, 36, 48] added \u001b[00m\n",
      "\u001b[34m Pattern with items [11, 19, 80, 109] added \u001b[00m\n",
      "\u001b[34m Pattern with items [29, 64, 67, 125] added \u001b[00m\n",
      "\u001b[34m Pattern with items [65, 81, 96, 116] added \u001b[00m\n",
      "\u001b[34m Pattern with items [64, 86, 88, 91] added \u001b[00m\n",
      "\u001b[34m Pattern with items [2, 12, 52, 96] added \u001b[00m\n",
      "\u001b[34m Pattern with items [10, 40, 96, 107] added \u001b[00m\n",
      "\u001b[34m Pattern with items [40, 94, 106, 125] added \u001b[00m\n",
      "\u001b[34m Pattern with items [32, 72, 76, 95] added \u001b[00m\n",
      "\u001b[34m Pattern with items [16, 47, 84, 94] added \u001b[00m\n",
      "\u001b[34m Pattern with items [3, 30, 41, 103] added \u001b[00m\n",
      "\u001b[34m Pattern with items [12, 16, 76, 87] added \u001b[00m\n",
      "\u001b[34m Pattern with items [29, 45, 67, 124] added \u001b[00m\n",
      "\u001b[34m Pattern with items [8, 32, 84, 95] added \u001b[00m\n",
      "\u001b[34m Pattern with items [45, 70, 83, 114] added \u001b[00m\n",
      "\u001b[34m Pattern with items [12, 58, 69, 85] added \u001b[00m\n",
      "\u001b[34m Pattern with items [83, 106, 107, 125] added \u001b[00m\n",
      "\u001b[34m Pattern with items [7, 47, 54, 127] added \u001b[00m\n",
      "\u001b[34m Pattern with items [10, 19, 75, 109] added \u001b[00m\n",
      "\u001b[34m Pattern with items [32, 91, 101, 110] added \u001b[00m\n",
      "\u001b[34m Pattern with items [3, 40, 116, 120] added \u001b[00m\n",
      "\u001b[34m Pattern with items [36, 62, 65, 76] added \u001b[00m\n",
      "Node relaxation is solved to optimality\n",
      "Node lower bound is 83.00000000000001\n",
      "Node upper bound is 83.0\n",
      "Two new nodes are created branching on variable y[2]\n",
      "LB=60.0,UB=83.0\n",
      "Current list of nodes to be processed:[2, 3]\n",
      "\u001b[93m Processing node 3 \u001b[00m\n",
      "Variables set to zero are:Int64[]\n",
      "Variables set to one are:[2]\n",
      "\u001b[32m Feasible solution with value 4.0 found \u001b[00m\n",
      "\u001b[34m Pattern with items [2, 45, 85, 112] added \u001b[00m\n",
      "\u001b[32m Feasible solution with value 4.0 found \u001b[00m\n"
     ]
    },
    {
     "name": "stdout",
     "output_type": "stream",
     "text": [
      "Node relaxation is solved to optimality\n",
      "Node lower bound is 4.0\n",
      "Node upper bound is 4.0\n",
      "The node is either infeasible or pruned by bound\n",
      "LB=60.0,UB=83.0\n",
      "Current list of nodes to be processed:[2]\n",
      "\u001b[93m Processing node 2 \u001b[00m\n",
      "Variables set to zero are:[2]\n",
      "Variables set to one are:Int64[]\n",
      "\u001b[34m Pattern with items [52, 77, 88, 91] added \u001b[00m\n",
      "Node relaxation is solved to optimality\n",
      "Node lower bound is 83.0\n",
      "Node upper bound is 83.0\n",
      "Two new nodes are created branching on variable y[1]\n",
      "LB=60.0,UB=83.0\n",
      "Current list of nodes to be processed:[4, 5]\n",
      "\u001b[93m Processing node 5 \u001b[00m\n",
      "Variables set to zero are:[2]\n",
      "Variables set to one are:[1]\n",
      "\u001b[32m Feasible solution with value 4.0 found \u001b[00m\n",
      "Node relaxation is solved to optimality\n",
      "Node lower bound is 4.0\n",
      "Node upper bound is 4.0\n",
      "The node is either infeasible or pruned by bound\n",
      "LB=60.0,UB=83.0\n",
      "Current list of nodes to be processed:[4]\n",
      "\u001b[93m Processing node 4 \u001b[00m\n",
      "Variables set to zero are:[1, 2]\n",
      "Variables set to one are:Int64[]\n",
      "\u001b[34m Pattern with items [9, 68, 83, 126] added \u001b[00m\n",
      "\u001b[34m Pattern with items [36, 39, 78, 123] added \u001b[00m\n",
      "Node relaxation is solved to optimality\n",
      "Node lower bound is 82.99989588394534\n",
      "Node upper bound is 83.0\n",
      "Two new nodes are created branching on variable y[4]\n",
      "LB=60.0,UB=83.0\n",
      "Current list of nodes to be processed:[6, 7]\n",
      "\u001b[93m Processing node 7 \u001b[00m\n",
      "Variables set to zero are:[1, 2]\n",
      "Variables set to one are:[4]\n",
      "\u001b[32m Feasible solution with value 4.0 found \u001b[00m\n",
      "Node relaxation is solved to optimality\n",
      "Node lower bound is 4.0\n",
      "Node upper bound is 4.0\n",
      "The node is either infeasible or pruned by bound\n",
      "LB=60.0,UB=83.0\n",
      "Current list of nodes to be processed:[6]\n",
      "\u001b[93m Processing node 6 \u001b[00m\n",
      "Variables set to zero are:[4, 1, 2]\n",
      "Variables set to one are:Int64[]\n",
      "\u001b[34m Pattern with items [31, 60, 68, 81] added \u001b[00m\n",
      "\u001b[34m Pattern with items [40, 50, 61, 65] added \u001b[00m\n",
      "\u001b[34m Pattern with items [5, 11, 88, 106] added \u001b[00m\n",
      "\u001b[34m Pattern with items [14, 62, 77, 84] added \u001b[00m\n",
      "Node relaxation is solved to optimality\n",
      "Node lower bound is 83.0\n",
      "Node upper bound is 83.0\n",
      "Two new nodes are created branching on variable y[5]\n",
      "LB=60.0,UB=83.0\n",
      "Current list of nodes to be processed:[8, 9]\n",
      "\u001b[93m Processing node 9 \u001b[00m\n",
      "Variables set to zero are:[4, 1, 2]\n",
      "Variables set to one are:[5]\n",
      "\u001b[32m Feasible solution with value 4.0 found \u001b[00m\n",
      "Node relaxation is solved to optimality\n",
      "Node lower bound is 4.0\n",
      "Node upper bound is 4.0\n",
      "The node is either infeasible or pruned by bound\n",
      "LB=60.0,UB=83.0\n",
      "Current list of nodes to be processed:[8]\n",
      "\u001b[93m Processing node 8 \u001b[00m\n",
      "Variables set to zero are:[5, 4, 1, 2]\n",
      "Variables set to one are:Int64[]\n",
      "\u001b[34m Pattern with items [48, 88, 94, 106] added \u001b[00m\n",
      "Node relaxation is solved to optimality\n",
      "Node lower bound is 83.0\n",
      "Node upper bound is 83.0\n",
      "Two new nodes are created branching on variable y[7]\n",
      "LB=60.0,UB=83.0\n",
      "Current list of nodes to be processed:[10, 11]\n",
      "\u001b[93m Processing node 11 \u001b[00m\n",
      "Variables set to zero are:[5, 4, 1, 2]\n",
      "Variables set to one are:[7]\n",
      "\u001b[32m Feasible solution with value 4.0 found \u001b[00m\n",
      "\u001b[34m Pattern with items [7, 45, 93, 99] added \u001b[00m\n",
      "\u001b[32m Feasible solution with value 4.0 found \u001b[00m\n",
      "Node relaxation is solved to optimality\n",
      "Node lower bound is 4.0\n",
      "Node upper bound is 4.0\n",
      "The node is either infeasible or pruned by bound\n",
      "LB=60.0,UB=83.0\n",
      "Current list of nodes to be processed:[10]\n",
      "\u001b[93m Processing node 10 \u001b[00m\n",
      "Variables set to zero are:[7, 5, 4, 1, 2]\n",
      "Variables set to one are:Int64[]\n",
      "\u001b[34m Pattern with items [50, 54, 86, 127] added \u001b[00m\n",
      "\u001b[34m Pattern with items [43, 68, 88, 106] added \u001b[00m\n",
      "\u001b[34m Pattern with items [19, 65, 96, 109] added \u001b[00m\n",
      "Node relaxation is solved to optimality\n",
      "Node lower bound is 83.0\n",
      "Node upper bound is 83.0\n",
      "Two new nodes are created branching on variable y[9]\n",
      "LB=60.0,UB=83.0\n",
      "Current list of nodes to be processed:[12, 13]\n",
      "\u001b[93m Processing node 13 \u001b[00m\n",
      "Variables set to zero are:[7, 5, 4, 1, 2]\n",
      "Variables set to one are:[9]\n",
      "\u001b[32m Feasible solution with value 4.0 found \u001b[00m\n",
      "Node relaxation is solved to optimality\n",
      "Node lower bound is 4.0\n",
      "Node upper bound is 4.0\n",
      "The node is either infeasible or pruned by bound\n",
      "LB=60.0,UB=83.0\n",
      "Current list of nodes to be processed:[12]\n",
      "\u001b[93m Processing node 12 \u001b[00m\n",
      "Variables set to zero are:[9, 7, 5, 4, 1, 2]\n",
      "Variables set to one are:Int64[]\n",
      "\u001b[34m Pattern with items [68, 83, 118, 126] added \u001b[00m\n",
      "Node relaxation is solved to optimality\n",
      "Node lower bound is 83.00000000000004\n",
      "Node upper bound is 83.0\n",
      "Two new nodes are created branching on variable y[22]\n",
      "LB=60.0,UB=83.0\n",
      "Current list of nodes to be processed:[14, 15]\n",
      "\u001b[93m Processing node 15 \u001b[00m\n",
      "Variables set to zero are:[9, 7, 5, 4, 1, 2]\n",
      "Variables set to one are:[22]\n",
      "\u001b[32m Feasible solution with value 4.0 found \u001b[00m\n",
      "Node relaxation is solved to optimality\n",
      "Node lower bound is 4.0\n",
      "Node upper bound is 4.0\n",
      "The node is either infeasible or pruned by bound\n",
      "LB=60.0,UB=83.0\n",
      "Current list of nodes to be processed:[14]\n",
      "\u001b[93m Processing node 14 \u001b[00m\n",
      "Variables set to zero are:[22, 9, 7, 5, 4, 1, 2]\n",
      "Variables set to one are:Int64[]\n",
      "\u001b[34m Pattern with items [25, 65, 86, 99] added \u001b[00m\n",
      "\u001b[34m Pattern with items [64, 80, 106, 121] added \u001b[00m\n",
      "\u001b[34m Pattern with items [11, 36, 59, 119] added \u001b[00m\n",
      "Node relaxation is solved to optimality\n",
      "Node lower bound is 83.0\n",
      "Node upper bound is 83.0\n",
      "Two new nodes are created branching on variable y[11]\n",
      "LB=60.0,UB=83.0\n",
      "Current list of nodes to be processed:[16, 17]\n",
      "\u001b[93m Processing node 17 \u001b[00m\n",
      "Variables set to zero are:[22, 9, 7, 5, 4, 1, 2]\n",
      "Variables set to one are:[11]\n",
      "\u001b[32m Feasible solution with value 4.0 found \u001b[00m\n",
      "Node relaxation is solved to optimality\n",
      "Node lower bound is 4.0\n",
      "Node upper bound is 4.0\n",
      "The node is either infeasible or pruned by bound\n",
      "LB=60.0,UB=83.0\n",
      "Current list of nodes to be processed:[16]\n",
      "\u001b[93m Processing node 16 \u001b[00m\n",
      "Variables set to zero are:[11, 22, 9, 7, 5, 4, 1, 2]\n",
      "Variables set to one are:Int64[]\n",
      "\u001b[34m Pattern with items [41, 59, 103, 119] added \u001b[00m\n",
      "\u001b[34m Pattern with items [26, 81, 116, 126] added \u001b[00m\n",
      "Node relaxation is solved to optimality\n",
      "Node lower bound is 81.0\n",
      "Node upper bound is 81.0\n",
      "Two new nodes are created branching on variable y[26]\n",
      "LB=60.0,UB=81.0\n",
      "Current list of nodes to be processed:[18, 19]\n",
      "\u001b[93m Processing node 19 \u001b[00m\n",
      "Variables set to zero are:[11, 22, 9, 7, 5, 4, 1, 2]\n",
      "Variables set to one are:[26]\n",
      "\u001b[32m Feasible solution with value 4.0 found \u001b[00m\n",
      "\u001b[34m Pattern with items [26, 61, 99, 102] added \u001b[00m\n",
      "\u001b[32m Feasible solution with value 4.0 found \u001b[00m\n",
      "Node relaxation is solved to optimality\n",
      "Node lower bound is 4.0\n",
      "Node upper bound is 4.0\n",
      "The node is either infeasible or pruned by bound\n",
      "LB=60.0,UB=81.0\n",
      "Current list of nodes to be processed:[18]\n",
      "\u001b[93m Processing node 18 \u001b[00m\n",
      "Variables set to zero are:[26, 11, 22, 9, 7, 5, 4, 1, 2]\n",
      "Variables set to one are:Int64[]\n",
      "\u001b[34m Pattern with items [63, 81, 116, 126] added \u001b[00m\n",
      "Node relaxation is solved to optimality\n",
      "Node lower bound is 81.0\n",
      "Node upper bound is 81.0\n",
      "Two new nodes are created branching on variable y[14]\n",
      "LB=60.0,UB=81.0\n",
      "Current list of nodes to be processed:[20, 21]\n",
      "\u001b[93m Processing node 21 \u001b[00m\n",
      "Variables set to zero are:[26, 11, 22, 9, 7, 5, 4, 1, 2]\n",
      "Variables set to one are:[14]\n",
      "\u001b[32m Feasible solution with value 4.0 found \u001b[00m\n",
      "Node relaxation is solved to optimality\n",
      "Node lower bound is 4.0\n",
      "Node upper bound is 4.0\n",
      "The node is either infeasible or pruned by bound\n",
      "LB=60.0,UB=81.0\n",
      "Current list of nodes to be processed:[20]\n",
      "\u001b[93m Processing node 20 \u001b[00m\n",
      "Variables set to zero are:[14, 26, 11, 22, 9, 7, 5, 4, 1, 2]\n",
      "Variables set to one are:Int64[]\n",
      "\u001b[34m Pattern with items [61, 96, 98, 116] added \u001b[00m\n",
      "\u001b[34m Pattern with items [32, 36, 70, 101] added \u001b[00m\n",
      "Node relaxation is solved to optimality\n",
      "Node lower bound is 79.0\n",
      "Node upper bound is 79.0\n",
      "Two new nodes are created branching on variable y[10]\n",
      "LB=60.0,UB=79.0\n",
      "Current list of nodes to be processed:[22, 23]\n",
      "\u001b[93m Processing node 23 \u001b[00m\n",
      "Variables set to zero are:[14, 26, 11, 22, 9, 7, 5, 4, 1, 2]\n",
      "Variables set to one are:[10]\n",
      "\u001b[32m Feasible solution with value 4.0 found \u001b[00m\n",
      "Node relaxation is solved to optimality\n",
      "Node lower bound is 4.0\n",
      "Node upper bound is 4.0\n",
      "The node is either infeasible or pruned by bound\n",
      "LB=60.0,UB=79.0\n",
      "Current list of nodes to be processed:[22]\n",
      "\u001b[93m Processing node 22 \u001b[00m\n",
      "Variables set to zero are:[10, 14, 26, 11, 22, 9, 7, 5, 4, 1, 2]\n",
      "Variables set to one are:Int64[]\n"
     ]
    },
    {
     "name": "stdout",
     "output_type": "stream",
     "text": [
      "\u001b[34m Pattern with items [47, 69, 104] added \u001b[00m\n",
      "\u001b[34m Pattern with items [19, 62, 109, 114] added \u001b[00m\n",
      "\u001b[34m Pattern with items [19, 75, 92, 109] added \u001b[00m\n",
      "Node relaxation is solved to optimality\n",
      "Node lower bound is 77.99999999999997\n",
      "Node upper bound is 78.0\n",
      "Two new nodes are created branching on variable y[8]\n",
      "LB=60.0,UB=78.0\n",
      "Current list of nodes to be processed:[24, 25]\n",
      "\u001b[93m Processing node 25 \u001b[00m\n",
      "Variables set to zero are:[10, 14, 26, 11, 22, 9, 7, 5, 4, 1, 2]\n",
      "Variables set to one are:[8]\n",
      "\u001b[32m Feasible solution with value 4.0 found \u001b[00m\n",
      "Node relaxation is solved to optimality\n",
      "Node lower bound is 4.0\n",
      "Node upper bound is 4.0\n",
      "The node is either infeasible or pruned by bound\n",
      "LB=60.0,UB=78.0\n",
      "Current list of nodes to be processed:[24]\n",
      "\u001b[93m Processing node 24 \u001b[00m\n",
      "Variables set to zero are:[8, 10, 14, 26, 11, 22, 9, 7, 5, 4, 1, 2]\n",
      "Variables set to one are:Int64[]\n",
      "\u001b[34m Pattern with items [71, 84, 101, 111] added \u001b[00m\n",
      "\u001b[34m Pattern with items [31, 74, 97, 126] added \u001b[00m\n",
      "Node relaxation is solved to optimality\n",
      "Node lower bound is 77.0\n",
      "Node upper bound is 77.0\n",
      "Two new nodes are created branching on variable y[25]\n",
      "LB=60.0,UB=77.0\n",
      "Current list of nodes to be processed:[26, 27]\n",
      "\u001b[93m Processing node 27 \u001b[00m\n",
      "Variables set to zero are:[8, 10, 14, 26, 11, 22, 9, 7, 5, 4, 1, 2]\n",
      "Variables set to one are:[25]\n",
      "\u001b[32m Feasible solution with value 4.0 found \u001b[00m\n",
      "Node relaxation is solved to optimality\n",
      "Node lower bound is 4.0\n",
      "Node upper bound is 4.0\n",
      "The node is either infeasible or pruned by bound\n",
      "LB=60.0,UB=77.0\n",
      "Current list of nodes to be processed:[26]\n",
      "\u001b[93m Processing node 26 \u001b[00m\n",
      "Variables set to zero are:[25, 8, 10, 14, 26, 11, 22, 9, 7, 5, 4, 1, 2]\n",
      "Variables set to one are:Int64[]\n",
      "\u001b[34m Pattern with items [40, 75, 111, 115] added \u001b[00m\n",
      "\u001b[34m Pattern with items [47, 78, 115, 120] added \u001b[00m\n",
      "\u001b[34m Pattern with items [56, 85, 87, 124] added \u001b[00m\n",
      "Node relaxation is solved to optimality\n",
      "Node lower bound is 75.99999999999997\n",
      "Node upper bound is 76.0\n",
      "Two new nodes are created branching on variable y[3]\n",
      "LB=60.0,UB=76.0\n",
      "Current list of nodes to be processed:[28, 29]\n",
      "\u001b[93m Processing node 29 \u001b[00m\n",
      "Variables set to zero are:[25, 8, 10, 14, 26, 11, 22, 9, 7, 5, 4, 1, 2]\n",
      "Variables set to one are:[3]\n",
      "\u001b[32m Feasible solution with value 4.0 found \u001b[00m\n",
      "Node relaxation is solved to optimality\n",
      "Node lower bound is 4.0\n",
      "Node upper bound is 4.0\n",
      "The node is either infeasible or pruned by bound\n",
      "LB=60.0,UB=76.0\n",
      "Current list of nodes to be processed:[28]\n",
      "\u001b[93m Processing node 28 \u001b[00m\n",
      "Variables set to zero are:[3, 25, 8, 10, 14, 26, 11, 22, 9, 7, 5, 4, 1, 2]\n",
      "Variables set to one are:Int64[]\n",
      "\u001b[34m Pattern with items [12, 27, 39, 52] added \u001b[00m\n",
      "\u001b[34m Pattern with items [43, 53, 107, 121] added \u001b[00m\n",
      "\u001b[34m Pattern with items [65, 72, 81, 98] added \u001b[00m\n",
      "\u001b[34m Pattern with items [40, 95, 107, 115] added \u001b[00m\n",
      "\u001b[34m Pattern with items [76, 92, 96, 111] added \u001b[00m\n",
      "Node relaxation is solved to optimality\n",
      "Node lower bound is 75.0\n",
      "Node upper bound is 75.0\n",
      "Two new nodes are created branching on variable y[27]\n",
      "LB=60.0,UB=75.0\n",
      "Current list of nodes to be processed:[30, 31]\n",
      "\u001b[93m Processing node 31 \u001b[00m\n",
      "Variables set to zero are:[3, 25, 8, 10, 14, 26, 11, 22, 9, 7, 5, 4, 1, 2]\n",
      "Variables set to one are:[27]\n",
      "\u001b[32m Feasible solution with value 4.0 found \u001b[00m\n",
      "Node relaxation is solved to optimality\n",
      "Node lower bound is 4.0\n",
      "Node upper bound is 4.0\n",
      "The node is either infeasible or pruned by bound\n",
      "LB=60.0,UB=75.0\n",
      "Current list of nodes to be processed:[30]\n",
      "\u001b[93m Processing node 30 \u001b[00m\n",
      "Variables set to zero are:[27, 3, 25, 8, 10, 14, 26, 11, 22, 9, 7, 5, 4, 1, 2]\n",
      "Variables set to one are:Int64[]\n",
      "\u001b[34m Pattern with items [24, 37, 68, 107] added \u001b[00m\n",
      "\u001b[34m Pattern with items [12, 15, 39, 52] added \u001b[00m\n",
      "\u001b[34m Pattern with items [45, 46, 53, 127] added \u001b[00m\n",
      "\u001b[34m Pattern with items [41, 86, 103, 106] added \u001b[00m\n",
      "Node relaxation is solved to optimality\n",
      "Node lower bound is 74.99999999999999\n",
      "Node upper bound is 75.0\n",
      "Two new nodes are created branching on variable y[15]\n",
      "LB=60.0,UB=75.0\n",
      "Current list of nodes to be processed:[32, 33]\n",
      "\u001b[93m Processing node 33 \u001b[00m\n",
      "Variables set to zero are:[27, 3, 25, 8, 10, 14, 26, 11, 22, 9, 7, 5, 4, 1, 2]\n",
      "Variables set to one are:[15]\n",
      "\u001b[32m Feasible solution with value 4.0 found \u001b[00m\n",
      "\u001b[34m Pattern with items [15, 37, 45, 126] added \u001b[00m\n",
      "\u001b[32m Feasible solution with value 4.0 found \u001b[00m\n",
      "Node relaxation is solved to optimality\n",
      "Node lower bound is 4.0\n",
      "Node upper bound is 4.0\n",
      "The node is either infeasible or pruned by bound\n",
      "LB=60.0,UB=75.0\n",
      "Current list of nodes to be processed:[32]\n",
      "\u001b[93m Processing node 32 \u001b[00m\n",
      "Variables set to zero are:[15, 27, 3, 25, 8, 10, 14, 26, 11, 22, 9, 7, 5, 4, 1, 2]\n",
      "Variables set to one are:Int64[]\n",
      "\u001b[34m Pattern with items [30, 39, 41, 103] added \u001b[00m\n",
      "Node relaxation is solved to optimality\n",
      "Node lower bound is 74.99999999999996\n",
      "Node upper bound is 75.0\n",
      "Two new nodes are created branching on variable y[30]\n",
      "LB=60.0,UB=75.0\n",
      "Current list of nodes to be processed:[34, 35]\n",
      "\u001b[93m Processing node 35 \u001b[00m\n",
      "Variables set to zero are:[15, 27, 3, 25, 8, 10, 14, 26, 11, 22, 9, 7, 5, 4, 1, 2]\n",
      "Variables set to one are:[30]\n",
      "\u001b[32m Feasible solution with value 4.0 found \u001b[00m\n",
      "\u001b[34m Pattern with items [30, 37, 45, 54] added \u001b[00m\n",
      "\u001b[32m Feasible solution with value 4.0 found \u001b[00m\n",
      "Node relaxation is solved to optimality\n",
      "Node lower bound is 4.0\n",
      "Node upper bound is 4.0\n",
      "The node is either infeasible or pruned by bound\n",
      "LB=60.0,UB=75.0\n",
      "Current list of nodes to be processed:[34]\n",
      "\u001b[93m Processing node 34 \u001b[00m\n",
      "Variables set to zero are:[30, 15, 27, 3, 25, 8, 10, 14, 26, 11, 22, 9, 7, 5, 4, 1, 2]\n",
      "Variables set to one are:Int64[]\n",
      "\u001b[34m Pattern with items [39, 41, 57, 103] added \u001b[00m\n",
      "Node relaxation is solved to optimality\n",
      "Node lower bound is 75.0\n",
      "Node upper bound is 75.0\n",
      "Two new nodes are created branching on variable y[29]\n",
      "LB=60.0,UB=75.0\n",
      "Current list of nodes to be processed:[36, 37]\n",
      "\u001b[93m Processing node 37 \u001b[00m\n",
      "Variables set to zero are:[30, 15, 27, 3, 25, 8, 10, 14, 26, 11, 22, 9, 7, 5, 4, 1, 2]\n",
      "Variables set to one are:[29]\n",
      "\u001b[32m Feasible solution with value 4.0 found \u001b[00m\n",
      "Node relaxation is solved to optimality\n",
      "Node lower bound is 4.0\n",
      "Node upper bound is 4.0\n",
      "The node is either infeasible or pruned by bound\n",
      "LB=60.0,UB=75.0\n",
      "Current list of nodes to be processed:[36]\n",
      "\u001b[93m Processing node 36 \u001b[00m\n",
      "Variables set to zero are:[29, 30, 15, 27, 3, 25, 8, 10, 14, 26, 11, 22, 9, 7, 5, 4, 1, 2]\n",
      "Variables set to one are:Int64[]\n",
      "Node relaxation is solved to optimality\n",
      "Node lower bound is 74.00000000000001\n",
      "Node upper bound is 74.0\n",
      "Two new nodes are created branching on variable y[37]\n",
      "LB=60.0,UB=74.0\n",
      "Current list of nodes to be processed:[38, 39]\n",
      "\u001b[93m Processing node 39 \u001b[00m\n",
      "Variables set to zero are:[29, 30, 15, 27, 3, 25, 8, 10, 14, 26, 11, 22, 9, 7, 5, 4, 1, 2]\n",
      "Variables set to one are:[37]\n",
      "\u001b[32m Feasible solution with value 4.0 found \u001b[00m\n",
      "Node relaxation is solved to optimality\n",
      "Node lower bound is 4.0\n",
      "Node upper bound is 4.0\n",
      "The node is either infeasible or pruned by bound\n",
      "LB=60.0,UB=74.0\n",
      "Current list of nodes to be processed:[38]\n",
      "\u001b[93m Processing node 38 \u001b[00m\n",
      "Variables set to zero are:[37, 29, 30, 15, 27, 3, 25, 8, 10, 14, 26, 11, 22, 9, 7, 5, 4, 1, 2]\n",
      "Variables set to one are:Int64[]\n",
      "\u001b[34m Pattern with items [51, 78, 81, 99] added \u001b[00m\n",
      "\u001b[34m Pattern with items [24, 68, 105, 107] added \u001b[00m\n",
      "Node relaxation is solved to optimality\n",
      "Node lower bound is 74.0\n",
      "Node upper bound is 74.0\n",
      "Two new nodes are created branching on variable y[16]\n",
      "LB=60.0,UB=74.0\n",
      "Current list of nodes to be processed:[40, 41]\n",
      "\u001b[93m Processing node 41 \u001b[00m\n",
      "Variables set to zero are:[37, 29, 30, 15, 27, 3, 25, 8, 10, 14, 26, 11, 22, 9, 7, 5, 4, 1, 2]\n",
      "Variables set to one are:[16]\n",
      "\u001b[32m Feasible solution with value 4.0 found \u001b[00m\n",
      "Node relaxation is solved to optimality\n",
      "Node lower bound is 4.0\n",
      "Node upper bound is 4.0\n",
      "The node is either infeasible or pruned by bound\n",
      "LB=60.0,UB=74.0\n",
      "Current list of nodes to be processed:[40]\n",
      "\u001b[93m Processing node 40 \u001b[00m\n",
      "Variables set to zero are:[16, 37, 29, 30, 15, 27, 3, 25, 8, 10, 14, 26, 11, 22, 9, 7, 5, 4, 1, 2]\n",
      "Variables set to one are:Int64[]\n",
      "\u001b[34m Pattern with items [69, 92, 111, 115] added \u001b[00m\n",
      "\u001b[34m Pattern with items [48, 94, 104, 115] added \u001b[00m\n"
     ]
    },
    {
     "name": "stdout",
     "output_type": "stream",
     "text": [
      "Node relaxation is solved to optimality\n",
      "Node lower bound is 73.0\n",
      "Node upper bound is 73.0\n",
      "Two new nodes are created branching on variable y[40]\n",
      "LB=60.0,UB=73.0\n",
      "Current list of nodes to be processed:[42, 43]\n",
      "\u001b[93m Processing node 43 \u001b[00m\n",
      "Variables set to zero are:[16, 37, 29, 30, 15, 27, 3, 25, 8, 10, 14, 26, 11, 22, 9, 7, 5, 4, 1, 2]\n",
      "Variables set to one are:[40]\n",
      "\u001b[32m Feasible solution with value 4.0 found \u001b[00m\n",
      "Node relaxation is solved to optimality\n",
      "Node lower bound is 4.0\n",
      "Node upper bound is 4.0\n",
      "The node is either infeasible or pruned by bound\n",
      "LB=60.0,UB=73.0\n",
      "Current list of nodes to be processed:[42]\n",
      "\u001b[93m Processing node 42 \u001b[00m\n",
      "Variables set to zero are:[40, 16, 37, 29, 30, 15, 27, 3, 25, 8, 10, 14, 26, 11, 22, 9, 7, 5, 4, 1, 2]\n",
      "Variables set to one are:Int64[]\n",
      "\u001b[34m Pattern with items [33, 74, 121, 124] added \u001b[00m\n",
      "Node relaxation is solved to optimality\n",
      "Node lower bound is 71.99999999999999\n",
      "Node upper bound is 72.0\n",
      "Two new nodes are created branching on variable y[39]\n",
      "LB=60.0,UB=72.0\n",
      "Current list of nodes to be processed:[44, 45]\n",
      "\u001b[93m Processing node 45 \u001b[00m\n",
      "Variables set to zero are:[40, 16, 37, 29, 30, 15, 27, 3, 25, 8, 10, 14, 26, 11, 22, 9, 7, 5, 4, 1, 2]\n",
      "Variables set to one are:[39]\n",
      "\u001b[32m Feasible solution with value 4.0 found \u001b[00m\n",
      "Node relaxation is solved to optimality\n",
      "Node lower bound is 4.0\n",
      "Node upper bound is 4.0\n",
      "The node is either infeasible or pruned by bound\n",
      "LB=60.0,UB=72.0\n",
      "Current list of nodes to be processed:[44]\n",
      "\u001b[93m Processing node 44 \u001b[00m\n",
      "Variables set to zero are:[39, 40, 16, 37, 29, 30, 15, 27, 3, 25, 8, 10, 14, 26, 11, 22, 9, 7, 5, 4, 1, 2]\n",
      "Variables set to one are:Int64[]\n",
      "\u001b[34m Pattern with items [20, 76, 99, 120] added \u001b[00m\n",
      "\u001b[34m Pattern with items [20, 84, 102, 107] added \u001b[00m\n",
      "\u001b[34m Pattern with items [50, 61, 84, 94] added \u001b[00m\n",
      "Node relaxation is solved to optimality\n",
      "Node lower bound is 71.00000000000003\n",
      "Node upper bound is 71.0\n",
      "Two new nodes are created branching on variable y[19]\n",
      "LB=60.0,UB=71.0\n",
      "Current list of nodes to be processed:[46, 47]\n",
      "\u001b[93m Processing node 47 \u001b[00m\n",
      "Variables set to zero are:[39, 40, 16, 37, 29, 30, 15, 27, 3, 25, 8, 10, 14, 26, 11, 22, 9, 7, 5, 4, 1, 2]\n",
      "Variables set to one are:[19]\n",
      "\u001b[32m Feasible solution with value 4.0 found \u001b[00m\n",
      "Node relaxation is solved to optimality\n",
      "Node lower bound is 4.0\n",
      "Node upper bound is 4.0\n",
      "The node is either infeasible or pruned by bound\n",
      "LB=60.0,UB=71.0\n",
      "Current list of nodes to be processed:[46]\n",
      "\u001b[93m Processing node 46 \u001b[00m\n",
      "Variables set to zero are:[19, 39, 40, 16, 37, 29, 30, 15, 27, 3, 25, 8, 10, 14, 26, 11, 22, 9, 7, 5, 4, 1, 2]\n",
      "Variables set to one are:Int64[]\n",
      "\u001b[34m Pattern with items [45, 75, 92, 105] added \u001b[00m\n",
      "\u001b[34m Pattern with items [24, 43, 51, 95] added \u001b[00m\n",
      "Node relaxation is solved to optimality\n",
      "Node lower bound is 69.00000000000001\n",
      "Node upper bound is 69.0\n",
      "Two new nodes are created branching on variable y[20]\n",
      "LB=60.0,UB=69.0\n",
      "Current list of nodes to be processed:[48, 49]\n",
      "\u001b[93m Processing node 49 \u001b[00m\n",
      "Variables set to zero are:[19, 39, 40, 16, 37, 29, 30, 15, 27, 3, 25, 8, 10, 14, 26, 11, 22, 9, 7, 5, 4, 1, 2]\n",
      "Variables set to one are:[20]\n",
      "\u001b[32m Feasible solution with value 4.0 found \u001b[00m\n",
      "Node relaxation is solved to optimality\n",
      "Node lower bound is 4.0\n",
      "Node upper bound is 4.0\n",
      "The node is either infeasible or pruned by bound\n",
      "LB=60.0,UB=69.0\n",
      "Current list of nodes to be processed:[48]\n",
      "\u001b[93m Processing node 48 \u001b[00m\n",
      "Variables set to zero are:[20, 19, 39, 40, 16, 37, 29, 30, 15, 27, 3, 25, 8, 10, 14, 26, 11, 22, 9, 7, 5, 4, 1, 2]\n",
      "Variables set to one are:Int64[]\n",
      "\u001b[34m Pattern with items [21, 76, 99, 120] added \u001b[00m\n",
      "Node relaxation is solved to optimality\n",
      "Node lower bound is 68.99999999999997\n",
      "Node upper bound is 69.0\n",
      "Two new nodes are created branching on variable y[21]\n",
      "LB=60.0,UB=69.0\n",
      "Current list of nodes to be processed:[50, 51]\n",
      "\u001b[93m Processing node 51 \u001b[00m\n",
      "Variables set to zero are:[20, 19, 39, 40, 16, 37, 29, 30, 15, 27, 3, 25, 8, 10, 14, 26, 11, 22, 9, 7, 5, 4, 1, 2]\n",
      "Variables set to one are:[21]\n",
      "\u001b[32m Feasible solution with value 4.0 found \u001b[00m\n",
      "\u001b[34m Pattern with items [13, 21, 85, 99] added \u001b[00m\n",
      "\u001b[32m Feasible solution with value 4.0 found \u001b[00m\n",
      "Node relaxation is solved to optimality\n",
      "Node lower bound is 4.0\n",
      "Node upper bound is 4.0\n",
      "The node is either infeasible or pruned by bound\n",
      "LB=60.0,UB=69.0\n",
      "Current list of nodes to be processed:[50]\n",
      "\u001b[93m Processing node 50 \u001b[00m\n",
      "Variables set to zero are:[21, 20, 19, 39, 40, 16, 37, 29, 30, 15, 27, 3, 25, 8, 10, 14, 26, 11, 22, 9, 7, 5, 4, 1, 2]\n",
      "Variables set to one are:Int64[]\n",
      "\u001b[34m Pattern with items [23, 76, 99, 120] added \u001b[00m\n",
      "Node relaxation is solved to optimality\n",
      "Node lower bound is 68.99999999999997\n",
      "Node upper bound is 69.0\n",
      "Two new nodes are created branching on variable y[23]\n",
      "LB=60.0,UB=69.0\n",
      "Current list of nodes to be processed:[52, 53]\n",
      "\u001b[93m Processing node 53 \u001b[00m\n",
      "Variables set to zero are:[21, 20, 19, 39, 40, 16, 37, 29, 30, 15, 27, 3, 25, 8, 10, 14, 26, 11, 22, 9, 7, 5, 4, 1, 2]\n",
      "Variables set to one are:[23]\n",
      "\u001b[32m Feasible solution with value 4.0 found \u001b[00m\n",
      "\u001b[34m Pattern with items [23, 53, 102, 111] added \u001b[00m\n",
      "\u001b[32m Feasible solution with value 4.0 found \u001b[00m\n",
      "Node relaxation is solved to optimality\n",
      "Node lower bound is 4.0\n",
      "Node upper bound is 4.0\n",
      "The node is either infeasible or pruned by bound\n",
      "LB=60.0,UB=69.0\n",
      "Current list of nodes to be processed:[52]\n",
      "\u001b[93m Processing node 52 \u001b[00m\n",
      "Variables set to zero are:[23, 21, 20, 19, 39, 40, 16, 37, 29, 30, 15, 27, 3, 25, 8, 10, 14, 26, 11, 22, 9, 7, 5, 4, 1, 2]\n",
      "Variables set to one are:Int64[]\n",
      "\u001b[34m Pattern with items [28, 76, 99, 120] added \u001b[00m\n",
      "Node relaxation is solved to optimality\n",
      "Node lower bound is 68.99999999999997\n",
      "Node upper bound is 69.0\n",
      "Two new nodes are created branching on variable y[28]\n",
      "LB=60.0,UB=69.0\n",
      "Current list of nodes to be processed:[54, 55]\n",
      "\u001b[93m Processing node 55 \u001b[00m\n",
      "Variables set to zero are:[23, 21, 20, 19, 39, 40, 16, 37, 29, 30, 15, 27, 3, 25, 8, 10, 14, 26, 11, 22, 9, 7, 5, 4, 1, 2]\n",
      "Variables set to one are:[28]\n",
      "\u001b[32m Feasible solution with value 4.0 found \u001b[00m\n",
      "\u001b[34m Pattern with items [28, 45, 54, 72] added \u001b[00m\n",
      "\u001b[32m Feasible solution with value 4.0 found \u001b[00m\n",
      "Node relaxation is solved to optimality\n",
      "Node lower bound is 4.0\n",
      "Node upper bound is 4.0\n",
      "The node is either infeasible or pruned by bound\n",
      "LB=60.0,UB=69.0\n",
      "Current list of nodes to be processed:[54]\n",
      "\u001b[93m Processing node 54 \u001b[00m\n",
      "Variables set to zero are:[28, 23, 21, 20, 19, 39, 40, 16, 37, 29, 30, 15, 27, 3, 25, 8, 10, 14, 26, 11, 22, 9, 7, 5, 4, 1, 2]\n",
      "Variables set to one are:Int64[]\n",
      "\u001b[34m Pattern with items [76, 99, 120, 128] added \u001b[00m\n",
      "\u001b[34m Pattern with items [6, 50, 102, 120] added \u001b[00m\n",
      "Node relaxation is solved to optimality\n",
      "Node lower bound is 69.00000000000001\n",
      "Node upper bound is 69.0\n",
      "Two new nodes are created branching on variable y[6]\n",
      "LB=60.0,UB=69.0\n",
      "Current list of nodes to be processed:[56, 57]\n",
      "\u001b[93m Processing node 57 \u001b[00m\n",
      "Variables set to zero are:[28, 23, 21, 20, 19, 39, 40, 16, 37, 29, 30, 15, 27, 3, 25, 8, 10, 14, 26, 11, 22, 9, 7, 5, 4, 1, 2]\n",
      "Variables set to one are:[6]\n",
      "\u001b[32m Feasible solution with value 4.0 found \u001b[00m\n",
      "\u001b[34m Pattern with items [6, 99, 102, 119] added \u001b[00m\n",
      "\u001b[32m Feasible solution with value 4.0 found \u001b[00m\n",
      "Node relaxation is solved to optimality\n",
      "Node lower bound is 4.0\n",
      "Node upper bound is 4.0\n",
      "The node is either infeasible or pruned by bound\n",
      "LB=60.0,UB=69.0\n",
      "Current list of nodes to be processed:[56]\n",
      "\u001b[93m Processing node 56 \u001b[00m\n",
      "Variables set to zero are:[6, 28, 23, 21, 20, 19, 39, 40, 16, 37, 29, 30, 15, 27, 3, 25, 8, 10, 14, 26, 11, 22, 9, 7, 5, 4, 1, 2]\n",
      "Variables set to one are:Int64[]\n",
      "\u001b[34m Pattern with items [42, 50, 102, 120] added \u001b[00m\n",
      "Node relaxation is solved to optimality\n",
      "Node lower bound is 69.00000000000001\n",
      "Node upper bound is 69.0\n",
      "Two new nodes are created branching on variable y[42]\n",
      "LB=60.0,UB=69.0\n",
      "Current list of nodes to be processed:[58, 59]\n",
      "\u001b[93m Processing node 59 \u001b[00m\n",
      "Variables set to zero are:[6, 28, 23, 21, 20, 19, 39, 40, 16, 37, 29, 30, 15, 27, 3, 25, 8, 10, 14, 26, 11, 22, 9, 7, 5, 4, 1, 2]\n",
      "Variables set to one are:[42]\n",
      "\u001b[32m Feasible solution with value 4.0 found \u001b[00m\n",
      "\u001b[34m Pattern with items [32, 42, 45, 116] added \u001b[00m\n"
     ]
    },
    {
     "name": "stdout",
     "output_type": "stream",
     "text": [
      "\u001b[32m Feasible solution with value 4.0 found \u001b[00m\n",
      "Node relaxation is solved to optimality\n",
      "Node lower bound is 4.0\n",
      "Node upper bound is 4.0\n",
      "The node is either infeasible or pruned by bound\n",
      "LB=60.0,UB=69.0\n",
      "Current list of nodes to be processed:[58]\n",
      "\u001b[93m Processing node 58 \u001b[00m\n",
      "Variables set to zero are:[42, 6, 28, 23, 21, 20, 19, 39, 40, 16, 37, 29, 30, 15, 27, 3, 25, 8, 10, 14, 26, 11, 22, 9, 7, 5, 4, 1, 2]\n",
      "Variables set to one are:Int64[]\n",
      "\u001b[34m Pattern with items [13, 35, 85, 102] added \u001b[00m\n",
      "Node relaxation is solved to optimality\n",
      "Node lower bound is 69.0\n",
      "Node upper bound is 69.0\n",
      "Two new nodes are created branching on variable y[13]\n",
      "LB=60.0,UB=69.0\n",
      "Current list of nodes to be processed:[60, 61]\n",
      "\u001b[93m Processing node 61 \u001b[00m\n",
      "Variables set to zero are:[42, 6, 28, 23, 21, 20, 19, 39, 40, 16, 37, 29, 30, 15, 27, 3, 25, 8, 10, 14, 26, 11, 22, 9, 7, 5, 4, 1, 2]\n",
      "Variables set to one are:[13]\n",
      "\u001b[32m Feasible solution with value 4.0 found \u001b[00m\n",
      "\u001b[34m Pattern with items [13, 102, 106, 126] added \u001b[00m\n",
      "\u001b[32m Feasible solution with value 4.0 found \u001b[00m\n",
      "Node relaxation is solved to optimality\n",
      "Node lower bound is 4.0\n",
      "Node upper bound is 4.0\n",
      "The node is either infeasible or pruned by bound\n",
      "LB=60.0,UB=69.0\n",
      "Current list of nodes to be processed:[60]\n",
      "\u001b[93m Processing node 60 \u001b[00m\n",
      "Variables set to zero are:[13, 42, 6, 28, 23, 21, 20, 19, 39, 40, 16, 37, 29, 30, 15, 27, 3, 25, 8, 10, 14, 26, 11, 22, 9, 7, 5, 4, 1, 2]\n",
      "Variables set to one are:Int64[]\n",
      "\u001b[34m Pattern with items [38, 80, 85, 102] added \u001b[00m\n",
      "\u001b[34m Pattern with items [38, 64, 85, 125] added \u001b[00m\n",
      "\u001b[34m Pattern with items [32, 57, 64, 125] added \u001b[00m\n",
      "Node relaxation is solved to optimality\n",
      "Node lower bound is 69.0\n",
      "Node upper bound is 69.0\n",
      "Two new nodes are created branching on variable y[31]\n",
      "LB=60.0,UB=69.0\n",
      "Current list of nodes to be processed:[62, 63]\n",
      "\u001b[93m Processing node 63 \u001b[00m\n",
      "Variables set to zero are:[13, 42, 6, 28, 23, 21, 20, 19, 39, 40, 16, 37, 29, 30, 15, 27, 3, 25, 8, 10, 14, 26, 11, 22, 9, 7, 5, 4, 1, 2]\n",
      "Variables set to one are:[31]\n",
      "\u001b[32m Feasible solution with value 4.0 found \u001b[00m\n",
      "Node relaxation is solved to optimality\n",
      "Node lower bound is 4.0\n",
      "Node upper bound is 4.0\n",
      "The node is either infeasible or pruned by bound\n",
      "LB=60.0,UB=69.0\n",
      "Current list of nodes to be processed:[62]\n",
      "\u001b[93m Processing node 62 \u001b[00m\n",
      "Variables set to zero are:[31, 13, 42, 6, 28, 23, 21, 20, 19, 39, 40, 16, 37, 29, 30, 15, 27, 3, 25, 8, 10, 14, 26, 11, 22, 9, 7, 5, 4, 1, 2]\n",
      "Variables set to one are:Int64[]\n",
      "\u001b[34m Pattern with items [50, 75, 111, 123] added \u001b[00m\n",
      "Node relaxation is solved to optimality\n",
      "Node lower bound is 67.0\n",
      "Node upper bound is 67.0\n",
      "Two new nodes are created branching on variable y[32]\n",
      "LB=60.0,UB=67.0\n",
      "Current list of nodes to be processed:[64, 65]\n",
      "\u001b[93m Processing node 65 \u001b[00m\n",
      "Variables set to zero are:[31, 13, 42, 6, 28, 23, 21, 20, 19, 39, 40, 16, 37, 29, 30, 15, 27, 3, 25, 8, 10, 14, 26, 11, 22, 9, 7, 5, 4, 1, 2]\n",
      "Variables set to one are:[32]\n",
      "\u001b[32m Feasible solution with value 4.0 found \u001b[00m\n",
      "Node relaxation is solved to optimality\n",
      "Node lower bound is 4.0\n",
      "Node upper bound is 4.0\n",
      "The node is either infeasible or pruned by bound\n",
      "LB=60.0,UB=67.0\n",
      "Current list of nodes to be processed:[64]\n",
      "\u001b[93m Processing node 64 \u001b[00m\n",
      "Variables set to zero are:[32, 31, 13, 42, 6, 28, 23, 21, 20, 19, 39, 40, 16, 37, 29, 30, 15, 27, 3, 25, 8, 10, 14, 26, 11, 22, 9, 7, 5, 4, 1, 2]\n",
      "Variables set to one are:Int64[]\n",
      "\u001b[34m Pattern with items [35, 45, 50, 101] added \u001b[00m\n",
      "\u001b[34m Pattern with items [75, 81, 92, 115] added \u001b[00m\n",
      "\u001b[34m Pattern with items [36, 78, 92, 96] added \u001b[00m\n",
      "\u001b[34m Pattern with items [35, 53, 101, 111] added \u001b[00m\n",
      "\u001b[34m Pattern with items [36, 107, 116, 120] added \u001b[00m\n",
      "\u001b[34m Pattern with items [64, 68, 86, 125] added \u001b[00m\n",
      "\u001b[34m Pattern with items [47, 70, 75, 102] added \u001b[00m\n",
      "\u001b[34m Pattern with items [48, 75, 76, 78] added \u001b[00m\n",
      "\u001b[34m Pattern with items [50, 65, 95, 123] added \u001b[00m\n",
      "\u001b[34m Pattern with items [49, 91, 101, 111] added \u001b[00m\n",
      "Node relaxation is solved to optimality\n",
      "Node lower bound is 65.99999999999999\n",
      "Node upper bound is 66.0\n",
      "Two new nodes are created branching on variable y[35]\n",
      "LB=60.0,UB=66.0\n",
      "Current list of nodes to be processed:[66, 67]\n",
      "\u001b[93m Processing node 67 \u001b[00m\n",
      "Variables set to zero are:[32, 31, 13, 42, 6, 28, 23, 21, 20, 19, 39, 40, 16, 37, 29, 30, 15, 27, 3, 25, 8, 10, 14, 26, 11, 22, 9, 7, 5, 4, 1, 2]\n",
      "Variables set to one are:[35]\n",
      "\u001b[32m Feasible solution with value 4.0 found \u001b[00m\n",
      "\u001b[34m Pattern with items [12, 35, 52, 85] added \u001b[00m\n",
      "\u001b[32m Feasible solution with value 4.0 found \u001b[00m\n",
      "Node relaxation is solved to optimality\n",
      "Node lower bound is 4.0\n",
      "Node upper bound is 4.0\n",
      "The node is either infeasible or pruned by bound\n",
      "LB=60.0,UB=66.0\n",
      "Current list of nodes to be processed:[66]\n",
      "\u001b[93m Processing node 66 \u001b[00m\n",
      "Variables set to zero are:[35, 32, 31, 13, 42, 6, 28, 23, 21, 20, 19, 39, 40, 16, 37, 29, 30, 15, 27, 3, 25, 8, 10, 14, 26, 11, 22, 9, 7, 5, 4, 1, 2]\n",
      "Variables set to one are:Int64[]\n",
      "\u001b[34m Pattern with items [41, 56, 101, 103] added \u001b[00m\n",
      "\u001b[34m Pattern with items [34, 50, 54, 96] added \u001b[00m\n",
      "\u001b[34m Pattern with items [69, 72, 75, 92] added \u001b[00m\n",
      "\u001b[34m Pattern with items [34, 52, 62, 123] added \u001b[00m\n",
      "Node relaxation is solved to optimality\n",
      "Node lower bound is 66.0\n",
      "Node upper bound is 66.0\n",
      "Two new nodes are created branching on variable y[34]\n",
      "LB=60.0,UB=66.0\n",
      "Current list of nodes to be processed:[68, 69]\n",
      "\u001b[93m Processing node 69 \u001b[00m\n",
      "Variables set to zero are:[35, 32, 31, 13, 42, 6, 28, 23, 21, 20, 19, 39, 40, 16, 37, 29, 30, 15, 27, 3, 25, 8, 10, 14, 26, 11, 22, 9, 7, 5, 4, 1, 2]\n",
      "Variables set to one are:[34]\n",
      "\u001b[32m Feasible solution with value 4.0 found \u001b[00m\n",
      "Node relaxation is solved to optimality\n",
      "Node lower bound is 4.0\n",
      "Node upper bound is 4.0\n",
      "The node is either infeasible or pruned by bound\n",
      "LB=60.0,UB=66.0\n",
      "Current list of nodes to be processed:[68]\n",
      "\u001b[93m Processing node 68 \u001b[00m\n",
      "Variables set to zero are:[34, 35, 32, 31, 13, 42, 6, 28, 23, 21, 20, 19, 39, 40, 16, 37, 29, 30, 15, 27, 3, 25, 8, 10, 14, 26, 11, 22, 9, 7, 5, 4, 1, 2]\n",
      "Variables set to one are:Int64[]\n",
      "\u001b[34m Pattern with items [50, 53, 62, 65] added \u001b[00m\n",
      "\u001b[34m Pattern with items [50, 54, 58, 69] added \u001b[00m\n",
      "Node relaxation is solved to optimality\n",
      "Node lower bound is 65.99999999999999\n",
      "Node upper bound is 66.0\n",
      "Two new nodes are created branching on variable y[38]\n",
      "LB=60.0,UB=66.0\n",
      "Current list of nodes to be processed:[70, 71]\n",
      "\u001b[93m Processing node 71 \u001b[00m\n",
      "Variables set to zero are:[34, 35, 32, 31, 13, 42, 6, 28, 23, 21, 20, 19, 39, 40, 16, 37, 29, 30, 15, 27, 3, 25, 8, 10, 14, 26, 11, 22, 9, 7, 5, 4, 1, 2]\n",
      "Variables set to one are:[38]\n",
      "\u001b[32m Feasible solution with value 4.0 found \u001b[00m\n",
      "\u001b[34m Pattern with items [36, 38, 102, 111] added \u001b[00m\n",
      "\u001b[32m Feasible solution with value 4.0 found \u001b[00m\n",
      "Node relaxation is solved to optimality\n",
      "Node lower bound is 4.0\n",
      "Node upper bound is 4.0\n",
      "The node is either infeasible or pruned by bound\n",
      "LB=60.0,UB=66.0\n",
      "Current list of nodes to be processed:[70]\n",
      "\u001b[93m Processing node 70 \u001b[00m\n",
      "Variables set to zero are:[38, 34, 35, 32, 31, 13, 42, 6, 28, 23, 21, 20, 19, 39, 40, 16, 37, 29, 30, 15, 27, 3, 25, 8, 10, 14, 26, 11, 22, 9, 7, 5, 4, 1, 2]\n",
      "Variables set to one are:Int64[]\n",
      "\u001b[34m Pattern with items [60, 61, 76, 85] added \u001b[00m\n",
      "Node relaxation is solved to optimality\n",
      "Node lower bound is 66.00000000000001\n",
      "Node upper bound is 66.0\n",
      "Two new nodes are created branching on variable y[44]\n",
      "LB=60.0,UB=66.0\n",
      "Current list of nodes to be processed:[72, 73]\n",
      "\u001b[93m Processing node 73 \u001b[00m\n",
      "Variables set to zero are:[38, 34, 35, 32, 31, 13, 42, 6, 28, 23, 21, 20, 19, 39, 40, 16, 37, 29, 30, 15, 27, 3, 25, 8, 10, 14, 26, 11, 22, 9, 7, 5, 4, 1, 2]\n",
      "Variables set to one are:[44]\n",
      "\u001b[32m Feasible solution with value 4.0 found \u001b[00m\n",
      "\u001b[34m Pattern with items [44, 45, 108, 126] added \u001b[00m\n",
      "\u001b[32m Feasible solution with value 4.0 found \u001b[00m\n",
      "Node relaxation is solved to optimality\n",
      "Node lower bound is 4.0\n",
      "Node upper bound is 4.0\n",
      "The node is either infeasible or pruned by bound\n",
      "LB=60.0,UB=66.0\n",
      "Current list of nodes to be processed:[72]\n",
      "\u001b[93m Processing node 72 \u001b[00m\n",
      "Variables set to zero are:[44, 38, 34, 35, 32, 31, 13, 42, 6, 28, 23, 21, 20, 19, 39, 40, 16, 37, 29, 30, 15, 27, 3, 25, 8, 10, 14, 26, 11, 22, 9, 7, 5, 4, 1, 2]\n"
     ]
    },
    {
     "name": "stdout",
     "output_type": "stream",
     "text": [
      "Variables set to one are:Int64[]\n",
      "\u001b[34m Pattern with items [62, 84, 120, 123] added \u001b[00m\n",
      "\u001b[34m Pattern with items [96, 114, 120, 123] added \u001b[00m\n",
      "Node relaxation is solved to optimality\n",
      "Node lower bound is 66.0\n",
      "Node upper bound is 66.0\n",
      "Two new nodes are created branching on variable y[36]\n",
      "LB=60.0,UB=66.0\n",
      "Current list of nodes to be processed:[74, 75]\n",
      "\u001b[93m Processing node 75 \u001b[00m\n",
      "Variables set to zero are:[44, 38, 34, 35, 32, 31, 13, 42, 6, 28, 23, 21, 20, 19, 39, 40, 16, 37, 29, 30, 15, 27, 3, 25, 8, 10, 14, 26, 11, 22, 9, 7, 5, 4, 1, 2]\n",
      "Variables set to one are:[36]\n",
      "\u001b[32m Feasible solution with value 4.0 found \u001b[00m\n",
      "Node relaxation is solved to optimality\n",
      "Node lower bound is 4.0\n",
      "Node upper bound is 4.0\n",
      "The node is either infeasible or pruned by bound\n",
      "LB=60.0,UB=66.0\n",
      "Current list of nodes to be processed:[74]\n",
      "\u001b[93m Processing node 74 \u001b[00m\n",
      "Variables set to zero are:[36, 44, 38, 34, 35, 32, 31, 13, 42, 6, 28, 23, 21, 20, 19, 39, 40, 16, 37, 29, 30, 15, 27, 3, 25, 8, 10, 14, 26, 11, 22, 9, 7, 5, 4, 1, 2]\n",
      "Variables set to one are:Int64[]\n",
      "\u001b[34m Pattern with items [65, 72, 74, 126] added \u001b[00m\n",
      "\u001b[34m Pattern with items [81, 85, 104, 110] added \u001b[00m\n",
      "\u001b[34m Pattern with items [76, 78, 92, 96] added \u001b[00m\n",
      "Node relaxation is solved to optimality\n",
      "Node lower bound is 65.0\n",
      "Node upper bound is 65.0\n",
      "Two new nodes are created branching on variable y[33]\n",
      "LB=60.0,UB=65.0\n",
      "Current list of nodes to be processed:[76, 77]\n",
      "\u001b[93m Processing node 77 \u001b[00m\n",
      "Variables set to zero are:[36, 44, 38, 34, 35, 32, 31, 13, 42, 6, 28, 23, 21, 20, 19, 39, 40, 16, 37, 29, 30, 15, 27, 3, 25, 8, 10, 14, 26, 11, 22, 9, 7, 5, 4, 1, 2]\n",
      "Variables set to one are:[33]\n",
      "\u001b[32m Feasible solution with value 4.0 found \u001b[00m\n",
      "Node relaxation is solved to optimality\n",
      "Node lower bound is 4.0\n",
      "Node upper bound is 4.0\n",
      "The node is either infeasible or pruned by bound\n",
      "LB=60.0,UB=65.0\n",
      "Current list of nodes to be processed:[76]\n",
      "\u001b[93m Processing node 76 \u001b[00m\n",
      "Variables set to zero are:[33, 36, 44, 38, 34, 35, 32, 31, 13, 42, 6, 28, 23, 21, 20, 19, 39, 40, 16, 37, 29, 30, 15, 27, 3, 25, 8, 10, 14, 26, 11, 22, 9, 7, 5, 4, 1, 2]\n",
      "Variables set to one are:Int64[]\n",
      "\u001b[34m Pattern with items [12, 88, 121, 124] added \u001b[00m\n",
      "Node relaxation is solved to optimality\n",
      "Node lower bound is 63.00000000000002\n",
      "Node upper bound is 63.0\n",
      "Two new nodes are created branching on variable y[24]\n",
      "LB=60.0,UB=63.0\n",
      "Current list of nodes to be processed:[78, 79]\n",
      "\u001b[93m Processing node 79 \u001b[00m\n",
      "Variables set to zero are:[33, 36, 44, 38, 34, 35, 32, 31, 13, 42, 6, 28, 23, 21, 20, 19, 39, 40, 16, 37, 29, 30, 15, 27, 3, 25, 8, 10, 14, 26, 11, 22, 9, 7, 5, 4, 1, 2]\n",
      "Variables set to one are:[24]\n",
      "\u001b[32m Feasible solution with value 4.0 found \u001b[00m\n",
      "Node relaxation is solved to optimality\n",
      "Node lower bound is 4.0\n",
      "Node upper bound is 4.0\n",
      "The node is either infeasible or pruned by bound\n",
      "LB=60.0,UB=63.0\n",
      "Current list of nodes to be processed:[78]\n",
      "\u001b[93m Processing node 78 \u001b[00m\n",
      "Variables set to zero are:[24, 33, 36, 44, 38, 34, 35, 32, 31, 13, 42, 6, 28, 23, 21, 20, 19, 39, 40, 16, 37, 29, 30, 15, 27, 3, 25, 8, 10, 14, 26, 11, 22, 9, 7, 5, 4, 1, 2]\n",
      "Variables set to one are:Int64[]\n",
      "\u001b[34m Pattern with items [17, 43, 124, 126] added \u001b[00m\n",
      "\u001b[34m Pattern with items [49, 54, 75, 83] added \u001b[00m\n",
      "\u001b[34m Pattern with items [92, 94, 102, 110] added \u001b[00m\n",
      "Node relaxation is solved to optimality\n",
      "Node lower bound is 61.00000000000001\n",
      "Node upper bound is 61.0\n",
      "Two new nodes are created branching on variable y[17]\n",
      "LB=60.0,UB=61.0\n",
      "Current list of nodes to be processed:[80, 81]\n",
      "\u001b[93m Processing node 81 \u001b[00m\n",
      "Variables set to zero are:[24, 33, 36, 44, 38, 34, 35, 32, 31, 13, 42, 6, 28, 23, 21, 20, 19, 39, 40, 16, 37, 29, 30, 15, 27, 3, 25, 8, 10, 14, 26, 11, 22, 9, 7, 5, 4, 1, 2]\n",
      "Variables set to one are:[17]\n",
      "\u001b[32m Feasible solution with value 4.0 found \u001b[00m\n",
      "\u001b[34m Pattern with items [17, 41, 61, 103] added \u001b[00m\n",
      "\u001b[32m Feasible solution with value 4.0 found \u001b[00m\n",
      "Node relaxation is solved to optimality\n",
      "Node lower bound is 4.0\n",
      "Node upper bound is 4.0\n",
      "The node is either infeasible or pruned by bound\n",
      "LB=60.0,UB=61.0\n",
      "Current list of nodes to be processed:[80]\n",
      "\u001b[93m Processing node 80 \u001b[00m\n",
      "Variables set to zero are:[17, 24, 33, 36, 44, 38, 34, 35, 32, 31, 13, 42, 6, 28, 23, 21, 20, 19, 39, 40, 16, 37, 29, 30, 15, 27, 3, 25, 8, 10, 14, 26, 11, 22, 9, 7, 5, 4, 1, 2]\n",
      "Variables set to one are:Int64[]\n",
      "\u001b[34m Pattern with items [43, 49, 124, 126] added \u001b[00m\n",
      "Node relaxation is solved to optimality\n",
      "Node lower bound is 61.000000000000014\n",
      "Node upper bound is 61.0\n",
      "Two new nodes are created branching on variable y[45]\n",
      "LB=60.0,UB=61.0\n",
      "Current list of nodes to be processed:[82, 83]\n",
      "\u001b[93m Processing node 83 \u001b[00m\n",
      "Variables set to zero are:[17, 24, 33, 36, 44, 38, 34, 35, 32, 31, 13, 42, 6, 28, 23, 21, 20, 19, 39, 40, 16, 37, 29, 30, 15, 27, 3, 25, 8, 10, 14, 26, 11, 22, 9, 7, 5, 4, 1, 2]\n",
      "Variables set to one are:[45]\n",
      "\u001b[32m Feasible solution with value 4.0 found \u001b[00m\n",
      "Node relaxation is solved to optimality\n",
      "Node lower bound is 4.0\n",
      "Node upper bound is 4.0\n",
      "The node is either infeasible or pruned by bound\n",
      "LB=60.0,UB=61.0\n",
      "Current list of nodes to be processed:[82]\n",
      "\u001b[93m Processing node 82 \u001b[00m\n",
      "Variables set to zero are:[45, 17, 24, 33, 36, 44, 38, 34, 35, 32, 31, 13, 42, 6, 28, 23, 21, 20, 19, 39, 40, 16, 37, 29, 30, 15, 27, 3, 25, 8, 10, 14, 26, 11, 22, 9, 7, 5, 4, 1, 2]\n",
      "Variables set to one are:Int64[]\n",
      "\u001b[34m Pattern with items [43, 52, 70, 87] added \u001b[00m\n",
      "\u001b[34m Pattern with items [53, 70, 126, 127] added \u001b[00m\n",
      "Node relaxation is solved to optimality\n",
      "Node lower bound is 59.0\n",
      "Node upper bound is 59.0\n",
      "The node is either infeasible or pruned by bound\n",
      "LB=60.0,UB=59.0\n"
     ]
    },
    {
     "data": {
      "text/plain": [
       "(value = nothing, time = 81.6116872, bytes = 10567305138, gctime = 5.967924901, gcstats = Base.GC_Diff(10567305138, 11167, 0, 71182273, 303666, 0, 5967924901, 131, 0))"
      ]
     },
     "execution_count": 7,
     "metadata": {},
     "output_type": "execute_result"
    }
   ],
   "source": [
    "result = @timed solve_BP()"
   ]
  },
  {
   "cell_type": "code",
   "execution_count": 28,
   "metadata": {},
   "outputs": [
    {
     "data": {
      "text/plain": [
       "3-element Array{Any,1}:\n",
       " 0.0\n",
       " 0.0\n",
       " 1.0"
      ]
     },
     "execution_count": 28,
     "metadata": {},
     "output_type": "execute_result"
    }
   ],
   "source": [
    "solution"
   ]
  },
  {
   "cell_type": "markdown",
   "metadata": {},
   "source": [
    "## Problèmes"
   ]
  },
  {
   "cell_type": "markdown",
   "metadata": {},
   "source": [
    "π négative ?--> prendre valeur abs     \n",
    "1 3 6 8 ajoutés +s fois par sous problème ? Pb de code / article 1 section 5.2.3  \n",
    "solution toujour entière par génération de colonne ?   \n",
    "UB = 4?       "
   ]
  },
  {
   "cell_type": "markdown",
   "metadata": {},
   "source": [
    "# Brouillon pour débeuger"
   ]
  },
  {
   "cell_type": "code",
   "execution_count": 79,
   "metadata": {},
   "outputs": [
    {
     "data": {
      "text/plain": [
       "16-element Array{Float64,1}:\n",
       " 1.0\n",
       " 1.0\n",
       " 1.0\n",
       " 1.0\n",
       " 1.0\n",
       " 1.0\n",
       " 1.0\n",
       " 1.0\n",
       " 1.0\n",
       " 1.0\n",
       " 1.0\n",
       " 1.0\n",
       " 1.0\n",
       " 1.0\n",
       " 1.0\n",
       " 1.0"
      ]
     },
     "execution_count": 79,
     "metadata": {},
     "output_type": "execute_result"
    }
   ],
   "source": [
    "calculate_ysol(solution,node_pool)"
   ]
  },
  {
   "cell_type": "markdown",
   "metadata": {},
   "source": [
    "# A la main"
   ]
  },
  {
   "cell_type": "code",
   "execution_count": 193,
   "metadata": {},
   "outputs": [
    {
     "data": {
      "text/plain": [
       "1-element Array{Int64,1}:\n",
       " 1"
      ]
     },
     "execution_count": 193,
     "metadata": {},
     "output_type": "execute_result"
    }
   ],
   "source": [
    "global column_pool = Array{Array{Int,1},1}()\n",
    "# this is a 2-dimensional array\n",
    "# column_pool[i] is a pattern  (1-dimensional array = vector)\n",
    "# pattern vectors are  such that:\n",
    "#   -the first element is the objective value contribution\n",
    "#   -the second to n+1 st elements are 1 or 0 depending on whether nth pair is included in the pattern or not\n",
    "\n",
    "\n",
    "push!(column_pool,vcat(2,[0,0,0,0,0,0,0,0,0,0,0,0,0,1,1,0])) # push an artificial pattern \n",
    "#push!(column_pool,zeros(Int,nv(pool)+1))    # push an empty pattern \n",
    "push!(column_pool,vcat(2,[0,0,1,0,0,0,0,0,0,0,0,0,0,1,0,0]))\n",
    "\n",
    "\n",
    "# set the global lower and upper bound to +,- infinity\n",
    "global UB = Inf  # If we have a heuristic solution its value can be used   \n",
    "global LB = -Inf # If we have an initial relaxation bound it can be used \n",
    "\n",
    "global Queue = Vector{Int}() # the Queue of nodes to process is an array of integers\n",
    "global tree = Vector{TreeNode}() # the branch and price tree is an array of TreeNode objects\n",
    "\n",
    "# the branch and price tree is initialized with the root node\n",
    "# the root node is its own parent, it has no children (at the moment), its LB is -infinity, \n",
    "# there are no variables set to 0 or 1 at the root node\n",
    "push!(tree,TreeNode(0,[],Inf,[],[]))   \n",
    "push!(Queue,1)  # the indices of nodes to be processed are pushed to the Queue\n"
   ]
  },
  {
   "cell_type": "code",
   "execution_count": 194,
   "metadata": {},
   "outputs": [
    {
     "data": {
      "text/plain": [
       "1"
      ]
     },
     "execution_count": 194,
     "metadata": {},
     "output_type": "execute_result"
    }
   ],
   "source": [
    "current = Queue[end]"
   ]
  },
  {
   "cell_type": "markdown",
   "metadata": {},
   "source": [
    "## génération de colonne"
   ]
  },
  {
   "cell_type": "code",
   "execution_count": 195,
   "metadata": {},
   "outputs": [
    {
     "data": {
      "text/plain": [
       "2-element Array{Array{Int64,1},1}:\n",
       " [2, 0, 0, 0, 0, 0, 0, 0, 0, 0, 0, 0, 0, 0, 1, 1, 0]\n",
       " [2, 0, 0, 1, 0, 0, 0, 0, 0, 0, 0, 0, 0, 0, 1, 0, 0]"
      ]
     },
     "execution_count": 195,
     "metadata": {},
     "output_type": "execute_result"
    }
   ],
   "source": [
    "\n",
    "global nodestobedeleted = []\n",
    "    \n",
    "# Calculate columns that are compatible with the branching constraints\n",
    "# Function calculate_columns TO COMPLETE (see above)\n",
    "node_pool = calculate_columns(1)"
   ]
  },
  {
   "cell_type": "code",
   "execution_count": 196,
   "metadata": {},
   "outputs": [
    {
     "data": {
      "text/plain": [
       "(ConstraintRef{Model,MathOptInterface.ConstraintIndex{MathOptInterface.ScalarAffineFunction{Float64},MathOptInterface.LessThan{Float64}},ScalarShape}[choosecerc[1] : 0 <= 1.0, choosecerc[2] : 0 <= 1.0, choosecerc[3] : z_2 <= 1.0, choosecerc[4] : 0 <= 1.0, choosecerc[5] : 0 <= 1.0, choosecerc[6] : 0 <= 1.0, choosecerc[7] : 0 <= 1.0, choosecerc[8] : 0 <= 1.0, choosecerc[9] : 0 <= 1.0, choosecerc[10] : 0 <= 1.0, choosecerc[11] : 0 <= 1.0, choosecerc[12] : 0 <= 1.0, choosecerc[13] : 0 <= 1.0, choosecerc[14] : z_1 + z_2 <= 1.0, choosecerc[15] : z_1 <= 1.0, choosecerc[16] : 0 <= 1.0], VariableRef[z_1, z_2], A JuMP Model\n",
       "Maximization problem with:\n",
       "Variables: 2\n",
       "Objective function type: GenericAffExpr{Float64,VariableRef}\n",
       "`GenericAffExpr{Float64,VariableRef}`-in-`MathOptInterface.LessThan{Float64}`: 16 constraints\n",
       "`VariableRef`-in-`MathOptInterface.GreaterThan{Float64}`: 2 constraints\n",
       "`VariableRef`-in-`MathOptInterface.LessThan{Float64}`: 2 constraints\n",
       "Model mode: AUTOMATIC\n",
       "CachingOptimizer state: EMPTY_OPTIMIZER\n",
       "Solver name: Gurobi\n",
       "Names registered in the model: choosecerc)"
      ]
     },
     "execution_count": 196,
     "metadata": {},
     "output_type": "execute_result"
    }
   ],
   "source": [
    "choosecerc,z,mastermodel = node_master(node_pool)"
   ]
  },
  {
   "cell_type": "code",
   "execution_count": 232,
   "metadata": {},
   "outputs": [
    {
     "data": {
      "text/latex": [
       "$$ \\begin{alignat*}{1}\\max\\quad & 2 z\\_1 + 2 z\\_2 + 2 z\\_3\\\\\n",
       "\\text{Subject to} \\quad & 0 \\leq 1.0\\\\\n",
       " & 0 \\leq 1.0\\\\\n",
       " & z\\_2 \\leq 1.0\\\\\n",
       " & z\\_3 \\leq 1.0\\\\\n",
       " & 0 \\leq 1.0\\\\\n",
       " & 0 \\leq 1.0\\\\\n",
       " & 0 \\leq 1.0\\\\\n",
       " & 0 \\leq 1.0\\\\\n",
       " & 0 \\leq 1.0\\\\\n",
       " & 0 \\leq 1.0\\\\\n",
       " & 0 \\leq 1.0\\\\\n",
       " & 0 \\leq 1.0\\\\\n",
       " & 0 \\leq 1.0\\\\\n",
       " & z\\_1 + z\\_2 \\leq 1.0\\\\\n",
       " & z\\_1 \\leq 1.0\\\\\n",
       " & z\\_3 \\leq 1.0\\\\\n",
       " & z\\_1 \\geq 0.0\\\\\n",
       " & z\\_2 \\geq 0.0\\\\\n",
       " & z\\_3 \\geq 0.0\\\\\n",
       " & z\\_1 \\leq 1.0\\\\\n",
       " & z\\_2 \\leq 1.0\\\\\n",
       " & z\\_3 \\leq 1.0\\\\\n",
       "\\end{alignat*}\n",
       " $$"
      ],
      "text/plain": [
       "A JuMP Model\n",
       "Maximization problem with:\n",
       "Variables: 3\n",
       "Objective function type: GenericAffExpr{Float64,VariableRef}\n",
       "`GenericAffExpr{Float64,VariableRef}`-in-`MathOptInterface.LessThan{Float64}`: 16 constraints\n",
       "`VariableRef`-in-`MathOptInterface.GreaterThan{Float64}`: 3 constraints\n",
       "`VariableRef`-in-`MathOptInterface.LessThan{Float64}`: 3 constraints\n",
       "Model mode: AUTOMATIC\n",
       "CachingOptimizer state: ATTACHED_OPTIMIZER\n",
       "Solver name: Gurobi\n",
       "Names registered in the model: choosecerc"
      ]
     },
     "execution_count": 232,
     "metadata": {},
     "output_type": "execute_result"
    }
   ],
   "source": [
    "mastermodel"
   ]
  },
  {
   "cell_type": "code",
   "execution_count": 233,
   "metadata": {},
   "outputs": [
    {
     "data": {
      "text/plain": [
       "16-element Array{ConstraintRef{Model,MathOptInterface.ConstraintIndex{MathOptInterface.ScalarAffineFunction{Float64},MathOptInterface.LessThan{Float64}},ScalarShape},1}:\n",
       " choosecerc[1] : 0 <= 1.0\n",
       " choosecerc[2] : 0 <= 1.0\n",
       " choosecerc[3] : z_2 <= 1.0\n",
       " choosecerc[4] : z_3 <= 1.0\n",
       " choosecerc[5] : 0 <= 1.0\n",
       " choosecerc[6] : 0 <= 1.0\n",
       " choosecerc[7] : 0 <= 1.0\n",
       " choosecerc[8] : 0 <= 1.0\n",
       " choosecerc[9] : 0 <= 1.0\n",
       " choosecerc[10] : 0 <= 1.0\n",
       " choosecerc[11] : 0 <= 1.0\n",
       " choosecerc[12] : 0 <= 1.0\n",
       " choosecerc[13] : 0 <= 1.0\n",
       " choosecerc[14] : z_1 + z_2 <= 1.0\n",
       " choosecerc[15] : z_1 <= 1.0\n",
       " choosecerc[16] : z_3 <= 1.0"
      ]
     },
     "execution_count": 233,
     "metadata": {},
     "output_type": "execute_result"
    }
   ],
   "source": [
    "choosecerc"
   ]
  },
  {
   "cell_type": "code",
   "execution_count": 234,
   "metadata": {},
   "outputs": [],
   "source": [
    "optimize!(mastermodel)"
   ]
  },
  {
   "cell_type": "code",
   "execution_count": 235,
   "metadata": {},
   "outputs": [
    {
     "data": {
      "text/plain": [
       "16-element Array{Float64,1}:\n",
       " -0.0\n",
       " -0.0\n",
       " -0.0\n",
       " -0.0\n",
       " -0.0\n",
       " -0.0\n",
       " -0.0\n",
       " -0.0\n",
       " -0.0\n",
       " -0.0\n",
       " -0.0\n",
       " -0.0\n",
       " -0.0\n",
       " -2.0\n",
       " -0.0\n",
       " -0.0"
      ]
     },
     "execution_count": 235,
     "metadata": {},
     "output_type": "execute_result"
    }
   ],
   "source": [
    "π = JuMP.dual.(choosecerc)"
   ]
  },
  {
   "cell_type": "code",
   "execution_count": 221,
   "metadata": {},
   "outputs": [],
   "source": [
    "for i in 1:length(π)\n",
    "    π[i]=abs(π[i])\n",
    "\n",
    "end"
   ]
  },
  {
   "cell_type": "code",
   "execution_count": 222,
   "metadata": {},
   "outputs": [
    {
     "data": {
      "text/plain": [
       "4.0"
      ]
     },
     "execution_count": 222,
     "metadata": {},
     "output_type": "execute_result"
    }
   ],
   "source": [
    "value = JuMP.objective_value(mastermodel)"
   ]
  },
  {
   "cell_type": "code",
   "execution_count": 223,
   "metadata": {},
   "outputs": [
    {
     "data": {
      "text/plain": [
       "4.0"
      ]
     },
     "execution_count": 223,
     "metadata": {},
     "output_type": "execute_result"
    }
   ],
   "source": [
    "JuMP.dual_objective_value(mastermodel)"
   ]
  },
  {
   "cell_type": "code",
   "execution_count": 224,
   "metadata": {},
   "outputs": [
    {
     "data": {
      "text/plain": [
       "3-element Array{Float64,1}:\n",
       " 0.0\n",
       " 1.0\n",
       " 1.0"
      ]
     },
     "execution_count": 224,
     "metadata": {},
     "output_type": "execute_result"
    }
   ],
   "source": [
    "solution=[]\n",
    "for m in 1:length(z)\n",
    "    push!(solution,JuMP.value.(z[m]))\n",
    "end\n",
    "solflat = collect(Iterators.flatten(solution))"
   ]
  },
  {
   "cell_type": "code",
   "execution_count": 225,
   "metadata": {},
   "outputs": [
    {
     "data": {
      "text/plain": [
       "4.0"
      ]
     },
     "execution_count": 225,
     "metadata": {},
     "output_type": "execute_result"
    }
   ],
   "source": [
    "nodeub = sum(π[i] for i in 1:nv(pool))\n",
    "nodelb = value"
   ]
  },
  {
   "cell_type": "code",
   "execution_count": 226,
   "metadata": {},
   "outputs": [
    {
     "data": {
      "text/plain": [
       "0"
      ]
     },
     "execution_count": 226,
     "metadata": {},
     "output_type": "execute_result"
    }
   ],
   "source": [
    "maxobj = 0\n"
   ]
  },
  {
   "cell_type": "code",
   "execution_count": 227,
   "metadata": {},
   "outputs": [
    {
     "data": {
      "text/plain": [
       "(2.0, [0.0, 0.0, 0.0, 1.0, 0.0, 0.0, 0.0, 0.0, -0.0, 0.0, 0.0, 0.0, 0.0, 0.0, 0.0, 1.0], [0.0, 0.0, -0.0, -0.0, 0.0, 0.0, 0.0, -0.0, 1.0, 0.0  …  -0.0, -0.0, 0.0, -0.0, -0.0, 0.0, 0.0, -0.0, -0.0, 1.0])"
      ]
     },
     "execution_count": 227,
     "metadata": {},
     "output_type": "execute_result"
    }
   ],
   "source": [
    "SPobj,column,x = kep_subproblem(π,1)"
   ]
  },
  {
   "cell_type": "code",
   "execution_count": 228,
   "metadata": {},
   "outputs": [
    {
     "data": {
      "text/plain": [
       "2.0"
      ]
     },
     "execution_count": 228,
     "metadata": {},
     "output_type": "execute_result"
    }
   ],
   "source": [
    "rc = SPobj"
   ]
  },
  {
   "cell_type": "code",
   "execution_count": 229,
   "metadata": {},
   "outputs": [
    {
     "data": {
      "text/plain": [
       "2.0"
      ]
     },
     "execution_count": 229,
     "metadata": {},
     "output_type": "execute_result"
    }
   ],
   "source": [
    "if rc>=maxobj maxobj=rc end"
   ]
  },
  {
   "cell_type": "code",
   "execution_count": 230,
   "metadata": {},
   "outputs": [
    {
     "data": {
      "text/plain": [
       "2.0"
      ]
     },
     "execution_count": 230,
     "metadata": {},
     "output_type": "execute_result"
    }
   ],
   "source": [
    "column_cost = sum(weight .* x)"
   ]
  },
  {
   "cell_type": "code",
   "execution_count": 231,
   "metadata": {},
   "outputs": [
    {
     "data": {
      "text/plain": [
       "4-element Array{Array{Int64,1},1}:\n",
       " [2, 0, 0, 0, 0, 0, 0, 0, 0, 0, 0, 0, 0, 0, 1, 1, 0]\n",
       " [2, 0, 0, 1, 0, 0, 0, 0, 0, 0, 0, 0, 0, 0, 1, 0, 0]\n",
       " [2, 0, 0, 0, 1, 0, 0, 0, 0, 0, 0, 0, 0, 0, 0, 0, 1]\n",
       " [2, 0, 0, 0, 1, 0, 0, 0, 0, 0, 0, 0, 0, 0, 0, 0, 1]"
      ]
     },
     "execution_count": 231,
     "metadata": {},
     "output_type": "execute_result"
    }
   ],
   "source": [
    "push!(column_pool,vcat(column_cost,column))\n",
    "# Store column in the node pool\n",
    "push!(node_pool,vcat(column_cost,column))\n"
   ]
  },
  {
   "cell_type": "code",
   "execution_count": 236,
   "metadata": {},
   "outputs": [
    {
     "data": {
      "text/plain": [
       "4-element Array{VariableRef,1}:\n",
       " z_1\n",
       " z_2\n",
       " z_3\n",
       " noname"
      ]
     },
     "execution_count": 236,
     "metadata": {},
     "output_type": "execute_result"
    }
   ],
   "source": [
    "push!(z,@variable(mastermodel,lower_bound=0,upper_bound=1))"
   ]
  },
  {
   "cell_type": "code",
   "execution_count": 237,
   "metadata": {},
   "outputs": [],
   "source": [
    "set_name(z[end], \"z_$(length(node_pool))\")"
   ]
  },
  {
   "cell_type": "code",
   "execution_count": 238,
   "metadata": {},
   "outputs": [],
   "source": [
    "for j in 1:nv(pool)\n",
    "    set_normalized_coefficient(choosecerc[j], z[end], column[j])            \n",
    "end"
   ]
  },
  {
   "cell_type": "code",
   "execution_count": 239,
   "metadata": {},
   "outputs": [],
   "source": [
    "set_objective_function(mastermodel, objective_function(mastermodel) + column_cost*z[end])"
   ]
  },
  {
   "cell_type": "code",
   "execution_count": 240,
   "metadata": {},
   "outputs": [
    {
     "data": {
      "text/plain": [
       "4.0"
      ]
     },
     "execution_count": 240,
     "metadata": {},
     "output_type": "execute_result"
    }
   ],
   "source": [
    "nodeub += SPobj"
   ]
  },
  {
   "cell_type": "code",
   "execution_count": 241,
   "metadata": {},
   "outputs": [
    {
     "data": {
      "text/plain": [
       "4.0"
      ]
     },
     "execution_count": 241,
     "metadata": {},
     "output_type": "execute_result"
    }
   ],
   "source": [
    "if nodeub<=tree[1].ub tree[1].ub = nodeub end"
   ]
  },
  {
   "cell_type": "code",
   "execution_count": 242,
   "metadata": {},
   "outputs": [
    {
     "data": {
      "text/plain": [
       "true"
      ]
     },
     "execution_count": 242,
     "metadata": {},
     "output_type": "execute_result"
    }
   ],
   "source": [
    "2*abs((tree[1].ub-nodelb))/abs((nodelb+tree[1].ub))<ϵ || maxobj<=0"
   ]
  },
  {
   "cell_type": "markdown",
   "metadata": {},
   "source": [
    "## Test valeur duale"
   ]
  },
  {
   "cell_type": "code",
   "execution_count": 166,
   "metadata": {},
   "outputs": [
    {
     "name": "stdout",
     "output_type": "stream",
     "text": [
      "Gurobi Optimizer version 9.1.1 build v9.1.1rc0 (win64)\r\n",
      "Thread count: 4 physical cores, 8 logical processors, using up to 8 threads\r\n",
      "Optimize a model with 1 rows, 1 columns and 1 nonzeros\r\n",
      "Model fingerprint: 0x5cf2823d\r\n",
      "Coefficient statistics:\r\n",
      "  Matrix range     [1e+00, 1e+00]\r\n",
      "  Objective range  [1e+00, 1e+00]\r\n",
      "  Bounds range     [1e+00, 1e+00]\r\n",
      "  RHS range        [5e-01, 5e-01]\r\n",
      "Presolve removed 1 rows and 1 columns\r\n",
      "Presolve time: 0.00s\r\n",
      "Presolve: All rows and columns removed\r\n",
      "Iteration    Objective       Primal Inf.    Dual Inf.      Time\r\n",
      "       0    5.0000000e-01   0.000000e+00   0.000000e+00      0s\r\n",
      "\r\n",
      "Solved in 0 iterations and 0.00 seconds\r\n",
      "Optimal objective  5.000000000e-01\r\n",
      "\r\n",
      "User-callback calls 25, time in user-callback 0.00 sec\r\n"
     ]
    },
    {
     "ename": "LoadError",
     "evalue": "MethodError: objects of type Float64 are not callable",
     "output_type": "error",
     "traceback": [
      "MethodError: objects of type Float64 are not callable",
      "",
      "Stacktrace:",
      " [1] top-level scope at show.jl:641",
      " [2] include_string(::Function, ::Module, ::String, ::String) at .\\loading.jl:1091"
     ]
    }
   ],
   "source": [
    "model = Model(optimizer_with_attributes(() -> Gurobi.Optimizer(GUROBI_ENV)))\n",
    "@variable(model, x,lower_bound=0,upper_bound=1)\n",
    "@constraint(model, a,x >= 0.5)\n",
    "@objective(model, Min, x)\n",
    "\n",
    "optimize!(model)\n",
    "\n",
    "@show value(x);\n",
    "@show value(y);\n",
    "@show objective_value(model);"
   ]
  },
  {
   "cell_type": "code",
   "execution_count": 167,
   "metadata": {},
   "outputs": [
    {
     "data": {
      "text/latex": [
       "$$ \\begin{alignat*}{1}\\min\\quad & x\\\\\n",
       "\\text{Subject to} \\quad & x \\geq 0.5\\\\\n",
       " & x \\geq 0.0\\\\\n",
       " & x \\leq 1.0\\\\\n",
       "\\end{alignat*}\n",
       " $$"
      ],
      "text/plain": [
       "A JuMP Model\n",
       "Minimization problem with:\n",
       "Variable: 1\n",
       "Objective function type: VariableRef\n",
       "`GenericAffExpr{Float64,VariableRef}`-in-`MathOptInterface.GreaterThan{Float64}`: 1 constraint\n",
       "`VariableRef`-in-`MathOptInterface.GreaterThan{Float64}`: 1 constraint\n",
       "`VariableRef`-in-`MathOptInterface.LessThan{Float64}`: 1 constraint\n",
       "Model mode: AUTOMATIC\n",
       "CachingOptimizer state: ATTACHED_OPTIMIZER\n",
       "Solver name: Gurobi\n",
       "Names registered in the model: a, x"
      ]
     },
     "execution_count": 167,
     "metadata": {},
     "output_type": "execute_result"
    }
   ],
   "source": [
    "model"
   ]
  },
  {
   "cell_type": "code",
   "execution_count": 168,
   "metadata": {},
   "outputs": [
    {
     "data": {
      "text/plain": [
       "1.0"
      ]
     },
     "execution_count": 168,
     "metadata": {},
     "output_type": "execute_result"
    }
   ],
   "source": [
    "JuMP.dual.(a)"
   ]
  },
  {
   "cell_type": "code",
   "execution_count": 179,
   "metadata": {},
   "outputs": [],
   "source": [
    "using GLPK"
   ]
  },
  {
   "cell_type": "code",
   "execution_count": 243,
   "metadata": {},
   "outputs": [
    {
     "name": "stdout",
     "output_type": "stream",
     "text": [
      "Welcome to the CBC MILP Solver \n",
      "Version: 2.10.3 \n",
      "Build Date: Jan  1 1970 \n",
      "\n",
      "command line - Cbc_C_Interface -solve -quit (default strategy 1)\n",
      "Presolve 0 (-1) rows, 0 (-1) columns and 0 (-1) elements\n",
      "Empty problem - 0 rows, 0 columns and 0 elements\n",
      "Optimal - objective value 0.5\n",
      "After Postsolve, objective 0.5, infeasibilities - dual 0 (0), primal 0 (0)\n",
      "Optimal objective 0.5 - 0 iterations time 0.002, Presolve 0.00\n",
      "Total time (CPU seconds):       0.00   (Wallclock seconds):       0.00\n",
      "\n"
     ]
    },
    {
     "ename": "LoadError",
     "evalue": "MethodError: objects of type Float64 are not callable",
     "output_type": "error",
     "traceback": [
      "MethodError: objects of type Float64 are not callable",
      "",
      "Stacktrace:",
      " [1] top-level scope at show.jl:641",
      " [2] include_string(::Function, ::Module, ::String, ::String) at .\\loading.jl:1091"
     ]
    }
   ],
   "source": [
    "model = Model(optimizer_with_attributes(() -> Cbc.Optimizer()))\n",
    "@variable(model, x,lower_bound=0,upper_bound=1)\n",
    "@constraint(model, a,x <= 0.5)\n",
    "@objective(model, Max, x)\n",
    "\n",
    "optimize!(model)\n",
    "\n",
    "@show value(x);\n",
    "@show objective_value(model);"
   ]
  },
  {
   "cell_type": "code",
   "execution_count": 191,
   "metadata": {},
   "outputs": [
    {
     "data": {
      "text/latex": [
       "$$ \\begin{alignat*}{1}\\max\\quad & x\\\\\n",
       "\\text{Subject to} \\quad & x \\leq 0.5\\\\\n",
       " & x \\geq 0.0\\\\\n",
       " & x \\leq 1.0\\\\\n",
       "\\end{alignat*}\n",
       " $$"
      ],
      "text/plain": [
       "A JuMP Model\n",
       "Maximization problem with:\n",
       "Variable: 1\n",
       "Objective function type: VariableRef\n",
       "`GenericAffExpr{Float64,VariableRef}`-in-`MathOptInterface.LessThan{Float64}`: 1 constraint\n",
       "`VariableRef`-in-`MathOptInterface.GreaterThan{Float64}`: 1 constraint\n",
       "`VariableRef`-in-`MathOptInterface.LessThan{Float64}`: 1 constraint\n",
       "Model mode: AUTOMATIC\n",
       "CachingOptimizer state: ATTACHED_OPTIMIZER\n",
       "Solver name: GLPK\n",
       "Names registered in the model: a, x"
      ]
     },
     "execution_count": 191,
     "metadata": {},
     "output_type": "execute_result"
    }
   ],
   "source": [
    "model"
   ]
  },
  {
   "cell_type": "code",
   "execution_count": 244,
   "metadata": {},
   "outputs": [
    {
     "ename": "LoadError",
     "evalue": "ArgumentError: ModelLike of type Cbc.Optimizer does not support accessing the attribute MathOptInterface.ConstraintDual(1)",
     "output_type": "error",
     "traceback": [
      "ArgumentError: ModelLike of type Cbc.Optimizer does not support accessing the attribute MathOptInterface.ConstraintDual(1)",
      "",
      "Stacktrace:",
      " [1] get_fallback(::Cbc.Optimizer, ::MathOptInterface.ConstraintDual, ::MathOptInterface.ConstraintIndex{MathOptInterface.ScalarAffineFunction{Float64},MathOptInterface.LessThan{Float64}}) at C:\\Users\\sunke\\.julia\\packages\\MathOptInterface\\ZJFKw\\src\\attributes.jl:274",
      " [2] get(::Cbc.Optimizer, ::MathOptInterface.ConstraintDual, ::MathOptInterface.ConstraintIndex{MathOptInterface.ScalarAffineFunction{Float64},MathOptInterface.LessThan{Float64}}) at C:\\Users\\sunke\\.julia\\packages\\MathOptInterface\\ZJFKw\\src\\attributes.jl:272",
      " [3] get(::MathOptInterface.Utilities.CachingOptimizer{Cbc.Optimizer,MathOptInterface.Utilities.UniversalFallback{MathOptInterface.Utilities.Model{Float64}}}, ::MathOptInterface.ConstraintDual, ::MathOptInterface.ConstraintIndex{MathOptInterface.ScalarAffineFunction{Float64},MathOptInterface.LessThan{Float64}}) at C:\\Users\\sunke\\.julia\\packages\\MathOptInterface\\ZJFKw\\src\\Utilities\\cachingoptimizer.jl:605",
      " [4] get(::MathOptInterface.Bridges.LazyBridgeOptimizer{MathOptInterface.Utilities.CachingOptimizer{Cbc.Optimizer,MathOptInterface.Utilities.UniversalFallback{MathOptInterface.Utilities.Model{Float64}}}}, ::MathOptInterface.ConstraintDual, ::MathOptInterface.ConstraintIndex{MathOptInterface.ScalarAffineFunction{Float64},MathOptInterface.LessThan{Float64}}) at C:\\Users\\sunke\\.julia\\packages\\MathOptInterface\\ZJFKw\\src\\Bridges\\bridge_optimizer.jl:922",
      " [5] get(::MathOptInterface.Utilities.CachingOptimizer{MathOptInterface.AbstractOptimizer,MathOptInterface.Utilities.UniversalFallback{MathOptInterface.Utilities.Model{Float64}}}, ::MathOptInterface.ConstraintDual, ::MathOptInterface.ConstraintIndex{MathOptInterface.ScalarAffineFunction{Float64},MathOptInterface.LessThan{Float64}}) at C:\\Users\\sunke\\.julia\\packages\\MathOptInterface\\ZJFKw\\src\\Utilities\\cachingoptimizer.jl:605",
      " [6] _moi_get_result(::MathOptInterface.Utilities.CachingOptimizer{MathOptInterface.AbstractOptimizer,MathOptInterface.Utilities.UniversalFallback{MathOptInterface.Utilities.Model{Float64}}}, ::MathOptInterface.ConstraintDual, ::Vararg{Any,N} where N) at C:\\Users\\sunke\\.julia\\packages\\JuMP\\y5vgk\\src\\JuMP.jl:946",
      " [7] get(::Model, ::MathOptInterface.ConstraintDual, ::ConstraintRef{Model,MathOptInterface.ConstraintIndex{MathOptInterface.ScalarAffineFunction{Float64},MathOptInterface.LessThan{Float64}},ScalarShape}) at C:\\Users\\sunke\\.julia\\packages\\JuMP\\y5vgk\\src\\JuMP.jl:985",
      " [8] _constraint_dual(::ConstraintRef{Model,MathOptInterface.ConstraintIndex{MathOptInterface.ScalarAffineFunction{Float64},MathOptInterface.LessThan{Float64}},ScalarShape}, ::Int64) at C:\\Users\\sunke\\.julia\\packages\\JuMP\\y5vgk\\src\\constraints.jl:727",
      " [9] #dual#23 at C:\\Users\\sunke\\.julia\\packages\\JuMP\\y5vgk\\src\\constraints.jl:714 [inlined]",
      " [10] dual at C:\\Users\\sunke\\.julia\\packages\\JuMP\\y5vgk\\src\\constraints.jl:714 [inlined]",
      " [11] _broadcast_getindex_evalf at .\\broadcast.jl:648 [inlined]",
      " [12] _broadcast_getindex at .\\broadcast.jl:621 [inlined]",
      " [13] getindex at .\\broadcast.jl:575 [inlined]",
      " [14] copy at .\\broadcast.jl:852 [inlined]",
      " [15] materialize(::Base.Broadcast.Broadcasted{Base.Broadcast.DefaultArrayStyle{0},Nothing,typeof(dual),Tuple{Base.RefValue{ConstraintRef{Model,MathOptInterface.ConstraintIndex{MathOptInterface.ScalarAffineFunction{Float64},MathOptInterface.LessThan{Float64}},ScalarShape}}}}) at .\\broadcast.jl:837",
      " [16] top-level scope at In[244]:1",
      " [17] include_string(::Function, ::Module, ::String, ::String) at .\\loading.jl:1091"
     ]
    }
   ],
   "source": [
    "JuMP.dual.(a)"
   ]
  },
  {
   "cell_type": "code",
   "execution_count": null,
   "metadata": {},
   "outputs": [],
   "source": []
  }
 ],
 "metadata": {
  "kernelspec": {
   "display_name": "Julia 1.5.3",
   "language": "julia",
   "name": "julia-1.5"
  },
  "language_info": {
   "file_extension": ".jl",
   "mimetype": "application/julia",
   "name": "julia",
   "version": "1.5.3"
  }
 },
 "nbformat": 4,
 "nbformat_minor": 2
}
