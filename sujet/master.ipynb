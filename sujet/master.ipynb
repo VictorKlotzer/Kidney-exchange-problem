{
 "cells": [
  {
   "cell_type": "markdown",
   "metadata": {},
   "source": [
    "# Restricted master LP for KEP:"
   ]
  },
  {
   "cell_type": "code",
   "execution_count": 1,
   "metadata": {},
   "outputs": [
    {
     "ename": "LoadError",
     "evalue": "LoadError: UndefVarError: @variable not defined\nin expression starting at In[1]:9",
     "output_type": "error",
     "traceback": [
      "LoadError: UndefVarError: @variable not defined\nin expression starting at In[1]:9",
      "",
      "Stacktrace:",
      " [1] top-level scope",
      " [2] include_string(::Function, ::Module, ::String, ::String) at .\\loading.jl:1091"
     ]
    }
   ],
   "source": [
    "function node_master(node_pool)\n",
    "    master = Model(optimizer_with_attributes(() -> Gurobi.Optimizer(GUROBI_ENV)))\n",
    "    set_optimizer_attribute(master, \"OutputFlag\", 0)\n",
    "    \n",
    "    # Define the variables z_c\n",
    "    z = Array{VariableRef,1}(undef,length(node_pool))\n",
    "\n",
    "    for c in 1:length(node_pool)\n",
    "        z[c]=@variable(master,lower_bound=0,upper_bound=1)\n",
    "        set_name(z[c], \"z_$c\")\n",
    "    end\n",
    "    \n",
    "    # Constraint: each pair is chosen at most 1 time\n",
    "    choosecerc = @constraint(master,choosecerc[i in 1:nv(pool)],sum(z[c] for c in 1:length(node_pool) if i in node_pool[c][2:length(node_pool[c])]) <= 1)\n",
    "    \n",
    "    # Objective: Maximise the total score\n",
    "    @objective(master,Max, sum(node_pool[c][1] *z[c] for c in 1:length(node_pool)))\n",
    "\n",
    "    # Return the constraint and variable references along with the model\n",
    "    return choosecerc,z,master\n",
    "end"
   ]
  }
 ],
 "metadata": {
  "kernelspec": {
   "display_name": "Julia 1.5.3",
   "language": "julia",
   "name": "julia-1.5"
  },
  "language_info": {
   "file_extension": ".jl",
   "mimetype": "application/julia",
   "name": "julia",
   "version": "1.5.3"
  }
 },
 "nbformat": 4,
 "nbformat_minor": 2
}
