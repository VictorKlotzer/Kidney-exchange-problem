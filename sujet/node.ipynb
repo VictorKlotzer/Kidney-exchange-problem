{
 "cells": [
  {
   "cell_type": "markdown",
   "metadata": {},
   "source": [
    "# KEP column generation"
   ]
  },
  {
   "cell_type": "markdown",
   "metadata": {},
   "source": [
    "## Filter columns w.r.t constraints"
   ]
  },
  {
   "cell_type": "code",
   "execution_count": 10,
   "metadata": {},
   "outputs": [
    {
     "data": {
      "text/plain": [
       "calculate_columns (generic function with 1 method)"
      ]
     },
     "execution_count": 10,
     "metadata": {},
     "output_type": "execute_result"
    }
   ],
   "source": [
    "function calculate_columns(node)\n",
    "    node_pool=Array{Array{Int,1},1}()\n",
    "\n",
    "    # colonne artificiel \n",
    "    push!(node_pool,vcat(1,ones(Int,nv(pool))))\n",
    "    for k in 2:length(column_pool) \n",
    "        add=true\n",
    "        \n",
    "        # TO COMPLETE\n",
    "        # There are two conditions under which the column should be eliminated:\n",
    "        #  1. If the branching constraint x_ij<=0 applies and the edge (i,j) is involved in the cycle\n",
    "        for v in tree[node].setzero\n",
    "            # TO COMPLETE\n",
    "            if column_pool[k][v+1] == 1\n",
    "                add = false\n",
    "            end\n",
    "            if add==false break end\n",
    "        end\n",
    "        #  2. If the branching constraint x_ji>=1 apply and job i is not assigned to machine j\n",
    "        for v in tree[node].setone\n",
    "            # TO COMPLETE\n",
    "            if column_pool[k][v+1] == 0\n",
    "                add = false\n",
    "            end\n",
    "            if add==false break end\n",
    "        end\n",
    "        # TO COMPLETE \n",
    "        if add push!(node_pool,column_pool[k]) end\n",
    "    end\n",
    "\n",
    "\n",
    "    return node_pool\n",
    "end"
   ]
  },
  {
   "cell_type": "markdown",
   "metadata": {},
   "source": [
    "## Translate the z solution to y solution"
   ]
  },
  {
   "cell_type": "code",
   "execution_count": 11,
   "metadata": {},
   "outputs": [
    {
     "data": {
      "text/plain": [
       "calculate_ysol (generic function with 1 method)"
      ]
     },
     "execution_count": 11,
     "metadata": {},
     "output_type": "execute_result"
    }
   ],
   "source": [
    "function calculate_ysol(mastersol,node_pool)\n",
    "    \n",
    "    y=Array{Float64}(undef,nv(pool))\n",
    "    for i in 1:nv(pool)\n",
    "        \n",
    "        y[i]=sum(node_pool[c][i+1]*mastersol[c] for c in 1:length(mastersol))\n",
    "        \n",
    "    end\n",
    "    \n",
    "    return y\n",
    "end"
   ]
  },
  {
   "cell_type": "markdown",
   "metadata": {},
   "source": [
    "## Column generation"
   ]
  },
  {
   "cell_type": "code",
   "execution_count": 13,
   "metadata": {},
   "outputs": [
    {
     "ename": "LoadError",
     "evalue": "LoadError: UndefVarError: @variable not defined\nin expression starting at In[13]:84",
     "output_type": "error",
     "traceback": [
      "LoadError: UndefVarError: @variable not defined\nin expression starting at In[13]:84",
      "",
      "Stacktrace:",
      " [1] top-level scope",
      " [2] include_string(::Function, ::Module, ::String, ::String) at .\\loading.jl:1091"
     ]
    }
   ],
   "source": [
    "function Process_Node(nodeindex)\n",
    "    println(\"\\e[93m Processing node $nodeindex \\e[00m\")\n",
    "    println(\"Variables set to zero are:\", tree[nodeindex].setzero)\n",
    "    println(\"Variables set to one are:\", tree[nodeindex].setone)\n",
    "    global nodestobedeleted = []\n",
    "    \n",
    "    # Calculate columns that are compatible with the branching constraints\n",
    "    # Function calculate_columns TO COMPLETE (see above)\n",
    "    node_pool = calculate_columns(nodeindex)\n",
    "    \n",
    "    # Recover the initial restricted master LP:\n",
    "    # constraint and variable references as well as the model itself\n",
    "    choosecerc,z,mastermodel = node_master(node_pool)\n",
    "    \n",
    "    while true\n",
    "        # Solve the restricted master LP\n",
    "        optimize!(mastermodel)\n",
    "        \n",
    "        node_infeasible = false\n",
    "        \n",
    "        # If the restricted master LP is infeasible then the node is infeasible\n",
    "        if termination_status(mastermodel) == MOI.INFEASIBLE \n",
    "            println(\"\\e[31m Node is infeasible \\e[00m\")\n",
    "            return []\n",
    "        end\n",
    "        \n",
    "        # Recover the optimal dual solution for the first set of constraints\n",
    "        π = JuMP.dual.(choosecerc)\n",
    "        \n",
    "        \n",
    "        # Recover the current master objective value\n",
    "        value = JuMP.objective_value(mastermodel)\n",
    "        \n",
    "        # Extract the solution\n",
    "        solution=[]\n",
    "        for m in 1:length(z)\n",
    "            push!(solution,JuMP.value.(z[m]))\n",
    "        end\n",
    "        solflat = collect(Iterators.flatten(solution))\n",
    "\n",
    "        # Check whether the solution is integer\n",
    "        # If so update the bounds\n",
    "        if maximum(solflat-floor.(solflat)) <= ϵ\n",
    "            # Found a feasible solution update the best known lower bound\n",
    "            if value<=LB global LB=value end\n",
    "            println(\"\\e[32m Feasible solution with value $value found \\e[00m\")\n",
    "            for i in 1:length(Queue)-1\n",
    "                if tree[Queue[i]].ub <= LB\n",
    "                    push!(nodestobedeleted,i)\n",
    "                end\n",
    "            end\n",
    "        end\n",
    "        \n",
    "        # Update the node lower and upper bounds\n",
    "        nodeub = sum(π[i] for i in 1:nv(pool))\n",
    "        nodelb = value\n",
    "        \n",
    "        maxobj = 0\n",
    "\n",
    "        # Solve the epk subproblem. \n",
    "        # Recover the objective value and the optimal pattern solution\n",
    "        SPobj,column,x = kep_subproblem(π,nodeindex)\n",
    "\n",
    "        if SPobj<Inf \n",
    "            # Extract the pattern from the solution\n",
    "            pattern=findall(x->x!=0,column)\n",
    "            # Calculate the reduced cost of the pattern   \n",
    "            reduced_cost = SPobj\n",
    "\n",
    "            if reduced_cost>=maxobj maxobj=reduced_cost end\n",
    "\n",
    "            # If positive reduced cost pattern is found add it to the master\n",
    "            if reduced_cost>0\n",
    "                # Calculate the column's objective function contribution\n",
    "                column_cost = sum(weight .* x)\n",
    "\n",
    "                # Store column in the column pool\n",
    "                push!(column_pool,vcat(column_cost,column))\n",
    "                # Store column in the node pool\n",
    "                push!(node_pool,vcat(column_cost,column))\n",
    "\n",
    "                # ADD COLUMN TO MODEL\n",
    "                # Add the new variable to the vector of variables for the machine\n",
    "                push!(z,@variable(mastermodel,lower_bound=0,upper_bound=1))\n",
    "\n",
    "                # Set the name of the new variable\n",
    "                set_name(z[end], \"z_$(length(column_pool))\")\n",
    "\n",
    "                # Set the coefficient of the variable in constraints choosecerc\n",
    "                for j in 1:nv(pool)\n",
    "                    set_normalized_coefficient(choosecerc[j], z[end], column[j])            \n",
    "                end\n",
    "\n",
    "\n",
    "                # Update the objective function    \n",
    "                set_objective_function(mastermodel, objective_function(mastermodel) + column_cost*z[end])\n",
    "                # ADD COLUMN TO MODEL\n",
    "\n",
    "                println(\"\\e[34m Pattern with items $pattern added \\e[00m\")\n",
    "            end\n",
    "            # Complete the upper bound calculation\n",
    "            nodeub += SPobj\n",
    "        else\n",
    "            node_infeasible = true\n",
    "            println(\"\\e[31m Node is infeasible \\e[00m\")\n",
    "            break\n",
    "        end\n",
    "\n",
    "\n",
    "        # If there is a subproblem that is infeasible then the node is infeasible RETURN EMPTY\n",
    "        if node_infeasible return [] end\n",
    "\n",
    "        # If upper bound is improved UPDATE\n",
    "        if nodeub<=tree[nodeindex].ub tree[nodeindex].ub = nodeub end\n",
    "\n",
    "        # If converged STOP\n",
    "        if 2*abs((tree[nodeindex].ub-nodelb))/abs((nodelb+tree[nodeindex].ub))<ϵ || maxobj<=0\n",
    "            println(\"Node relaxation is solved to optimality\")\n",
    "            println(\"Node lower bound is $nodelb\")\n",
    "            println(\"Node upper bound is $(tree[nodeindex].ub)\")\n",
    "            # If the artificial column is used in the final solution\n",
    "            # then the master LP is infeasible\n",
    "\n",
    "            if solution[1]>=ϵ\n",
    "                node_infeasible = true\n",
    "                println(\"\\e[31m Node is infeasible \\e[00m\")\n",
    "            end\n",
    "\n",
    "            # If infeasible RETURN EMPTY\n",
    "            if node_infeasible return []\n",
    "            # If not infeasible RETURN SOLUTION   \n",
    "            # Function calculate_ysol which translates the solution in terms of\n",
    "            # z variables to a solution in terms of y variables: TO COMPLETE (See above) \n",
    "            else return calculate_ysol(solution,node_pool) end\n",
    "        end\n",
    "    end\n",
    "end"
   ]
  },
  {
   "cell_type": "code",
   "execution_count": null,
   "metadata": {},
   "outputs": [],
   "source": []
  }
 ],
 "metadata": {
  "kernelspec": {
   "display_name": "Julia 1.5.3",
   "language": "julia",
   "name": "julia-1.5"
  },
  "language_info": {
   "file_extension": ".jl",
   "mimetype": "application/julia",
   "name": "julia",
   "version": "1.5.3"
  }
 },
 "nbformat": 4,
 "nbformat_minor": 2
}
