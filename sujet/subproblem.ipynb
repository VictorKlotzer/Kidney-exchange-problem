{
 "cells": [
  {
   "cell_type": "markdown",
   "metadata": {},
   "source": [
    "# Subproblem for KEP"
   ]
  },
  {
   "cell_type": "code",
   "execution_count": null,
   "metadata": {},
   "outputs": [],
   "source": [
    "function kep_subproblem(π,node)\n",
    "    SP=Model(optimizer_with_attributes(() -> Gurobi.Optimizer(GUROBI_ENV)))\n",
    "    set_optimizer_attribute(SP, \"OutputFlag\", 0)\n",
    "    \n",
    "    @variable(SP,x[i in 1:ne(pool)],Bin) # edge variable\n",
    "    @variable(SP,y[i in 1:nv(pool)],Bin) # node variable\n",
    "    # flow constraint\n",
    "    for i in 1:nv(pool)\n",
    "        if length(inneighbors(pool,i))>=1\n",
    "            @constraint(SP,sum(x[findall(a->a==Edge(k,i), e)] for k in inneighbors(pool,i))[1] == y[i])\n",
    "        end\n",
    "        if length(outneighbors(pool,i))>=1\n",
    "            @constraint(SP, sum(x[findall(a->a==Edge(i,k), e)] for k in outneighbors(pool,i))[1] == y[i])\n",
    "        end\n",
    "    end\n",
    "    # length constraint\n",
    "    @constraint(SP,sum(x[i] for i in 1:ne(pool)) <= L)\n",
    "    @objective(SP,Max,sum(weight[i]*x[i] for i=1:ne(pool)) - sum(π[i]*y[i] for i=1:nv(pool)))\n",
    "    \n",
    "    # branching constraint\n",
    "    for v in tree[node].setzero\n",
    "        @constraint(SP,y[v]<=0)\n",
    "    end\n",
    "\n",
    "    for v in tree[node].setone\n",
    "        @constraint(SP,y[v]>=1)\n",
    "    end\n",
    "    \n",
    "\n",
    "    optimize!(SP)\n",
    "\n",
    "    # If the subproblem is solved to optimality then return its objective value\n",
    "    # and the optimal pattern solution for the machine\n",
    "    # Else the pricing problem is infeasible return Inf, []\n",
    "    if JuMP.termination_status(SP)==MOI.OPTIMAL\n",
    "        return JuMP.objective_value(SP),JuMP.value.(y),JuMP.value.(x)\n",
    "    else\n",
    "        return Inf,[]\n",
    "    end\n",
    "end"
   ]
  }
 ],
 "metadata": {
  "kernelspec": {
   "display_name": "Julia 1.5.3",
   "language": "julia",
   "name": "julia-1.5"
  },
  "language_info": {
   "file_extension": ".jl",
   "mimetype": "application/julia",
   "name": "julia",
   "version": "1.5.3"
  }
 },
 "nbformat": 4,
 "nbformat_minor": 2
}
