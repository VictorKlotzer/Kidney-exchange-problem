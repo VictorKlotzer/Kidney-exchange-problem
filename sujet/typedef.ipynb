{
 "cells": [
  {
   "cell_type": "code",
   "execution_count": 1,
   "metadata": {},
   "outputs": [],
   "source": [
    "# mutable struct Data\n",
    "#   nv::Int                  # number of vertices (pairs), goes from 1,...,nv\n",
    "#   weights::Vector{Int}     # vector of scores\n",
    "#   edges::Array{LightGraphs.SimpleGraphs.SimpleEdge{Int64},1}    # vector of edges\n",
    "\n",
    "#   Data() = new()\n",
    "# end"
   ]
  },
  {
   "cell_type": "code",
   "execution_count": 2,
   "metadata": {},
   "outputs": [],
   "source": [
    "mutable struct TreeNode\n",
    "  parent::Int             #tree index of the parent of the node\n",
    "  children::Vector{Int}   #tree indices of the children of the node\n",
    "  ub::Float32             #node lower bound\n",
    "  setzero::Array{Int}   #list of indices of branching variables set to zero\n",
    "  setone::Array{Int}    #list of indices of branching variables set to one\n",
    "end"
   ]
  },
  {
   "cell_type": "code",
   "execution_count": null,
   "metadata": {},
   "outputs": [],
   "source": []
  }
 ],
 "metadata": {
  "kernelspec": {
   "display_name": "Julia 1.5.3",
   "language": "julia",
   "name": "julia-1.5"
  },
  "language_info": {
   "file_extension": ".jl",
   "mimetype": "application/julia",
   "name": "julia",
   "version": "1.5.3"
  }
 },
 "nbformat": 4,
 "nbformat_minor": 2
}
